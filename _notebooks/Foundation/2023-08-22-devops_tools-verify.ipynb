{
 "cells": [
  {
   "attachments": {},
   "cell_type": "raw",
   "metadata": {
    "vscode": {
     "languageId": "raw"
    }
   },
   "source": [
    "---\n",
    "layout: post\n",
    "title: Tools Verify using Shell\n",
    "description: Linux and the shell is used in this example to setup and verify the installation of the tools.  Additionally, a few programming exercises are included.\n",
    "categories: [DevOps]\n",
    "permalink: /devops/tools/verify\n",
    "menu: nav/tools_setup.html\n",
    "toc: true\n",
    "comments: true\n",
    "---"
   ]
  },
  {
   "attachments": {},
   "cell_type": "markdown",
   "metadata": {},
   "source": [
    "## Computers and Terminals\n",
    "\n",
    "A brief overview of Terminal and Linux is a step on your way to becoming a Linux expert. When a computer boots up, **a kernel (MacOS, Windows, Linux) is started**. This kernel is the core of the operating system and manages hardware resources. Above the kernel, various applications run, including the **shell** and **terminal**, which allow users to interact with the system using a basic set of commands provided by the kernel.\n",
    "\n",
    "Typically, casual users interact with the system through a Desktop User Interface (UI) that is started by the computer's boot-up processes. However, to interact directly with the shell, users can run a \"terminal\" application through the Desktop UI. Additionally, **VS Code provides the ability to activate a \"terminal\"** within its editing environment, making it convenient for developers to execute commands without leaving the code editor.\n",
    "\n",
    "In this next phase, we will use a Jupyter notebook to perform Linux commands through a terminal. The Jupyter notebook is an application that runs above the kernel, providing an interactive environment for writing and executing code, including shell commands. This setup allows us to seamlessly integrate code execution, data analysis, and documentation in one place, enhancing our productivity and learning experience."
   ]
  },
  {
   "cell_type": "markdown",
   "metadata": {},
   "source": [
    "## Setup a Personal GitHub Pages Project\n",
    "\n",
    "You will be making a personal copy of the course repository. Be sure to have a GitHub account!!!\n",
    "\n",
    "- Use the **Green \"Use this Template\"** button on the [portfolio_2025](https://github.com/nighthawkcoders/portfolio_2025) repository page to set up your personal GitHub Pages repository.\n",
    "- Create a new repository.\n",
    "- Fill in the dialog and select the **Repository Name** to be under your GitHub ID ownership.\n",
    "\n",
    "    ![create repo]({{ site.baseurl }}/images/notebooks/foundation/create_repo.jpg)\n",
    "\n",
    "- After this is complete, use the **Green \"Code\"** button on the newly created repository page to capture your \"Project Repo\" name.\n",
    "\n",
    "In the next few code cells, we will run a bash (shell) script to pull a GitHub project. "
   ]
  },
  {
   "cell_type": "markdown",
   "metadata": {},
   "source": [
    "## Shell Script and Variables\n",
    "\n",
    "We will ultimately run a bash (shell) script to pull a GitHub project. This next script simply sets up the necessary **environment variables** to tell the script the location of repository from GitHub and where to copy the output.\n",
    "\n",
    "For now, focus on each line that begins with `export`. These are **shell variables**. Each line has a **name** (after the keyword `export`) and a **value** (after the equal sign).\n",
    "\n",
    "Here is a full description:\n",
    "\n",
    "- **Creates a temporary file** `/tmp/variables.sh` to store environment variables.\n",
    "- **Sets the `project_dir` variable** to your home directory with a subdirectory named `nighthawk`. You can change `nighthawk` to a different name to test your git clone.\n",
    "- **Sets the `project` variable** to a subdirectory within `project_dir` named `portfolio_2025`. You can change `portfolio_2025` to the name of your project.\n",
    "- **Sets the `project_repo` variable** to the URL of the GitHub repository. Change this to the project you created from the `portfolio_2025` template.\n",
    "\n",
    "**By running this script, you will prepare your environment for cloning** and working on your GitHub project. This is an essential step in setting up your development environment and ensuring that all dependencies are correctly configured."
   ]
  },
  {
   "cell_type": "code",
   "execution_count": 1,
   "metadata": {
    "vscode": {
     "languageId": "shellscript"
    }
   },
   "outputs": [],
   "source": [
    "%%script bash\n",
    "\n",
    "# Dependency Variables, set to match your project directories\n",
    "\n",
    "cat <<EOF > /tmp/variables.sh\n",
    "export project_dir=$HOME/nighthawk  # change nighthawk to different name to test your git clone\n",
    "export project=\\$project_dir/shriyap_2025  # change portfolio_2025 to name of project from git clone\n",
    "export project_repo=\"https://github.com/shriya1401/shriyap_2025.git\"  # change to project location and project you created from portfolio_2025 template \n",
    "EOF"
   ]
  },
  {
   "cell_type": "markdown",
   "metadata": {},
   "source": [
    "## Describing the Outputs of the Variables\n",
    "\n",
    "The next script will extract the saved variables and display their values. Here is a description of the commands:\n",
    "\n",
    "- The `source` command loads the variables that we saved in the `/tmp/variables.sh` file in the previous code cell.\n",
    "- The `echo` commands display the contents of the named variables:\n",
    "  - **project_dir**: The directory where your project is located.\n",
    "  - **project**: The specific project directory within `project_dir`.\n",
    "  - **project_repo**: The URL of the GitHub repository.\n",
    "\n",
    "By running this script, you can verify that the environment variables are correctly set in your development environment. If they don't match up, go back to the previous code cell and make the necessary corrections."
   ]
  },
  {
   "cell_type": "code",
   "execution_count": 3,
   "metadata": {
    "vscode": {
     "languageId": "shellscript"
    }
   },
   "outputs": [
    {
     "name": "stdout",
     "output_type": "stream",
     "text": [
      "Project dir: /home/shriyap/nighthawk\n",
      "Project: /home/shriyap/nighthawk/shriyap_2025\n",
      "Repo: https://github.com/shriya1401/shriyap_2025.git\n"
     ]
    }
   ],
   "source": [
    "%%script bash\n",
    "\n",
    "# Extract saved variables\n",
    "source /tmp/variables.sh\n",
    "\n",
    "# Output shown title and value variables\n",
    "echo \"Project dir: $project_dir\"\n",
    "echo \"Project: $project\"\n",
    "echo \"Repo: $project_repo\""
   ]
  },
  {
   "cell_type": "markdown",
   "metadata": {},
   "source": [
    "## Project Setup and Analysis with Bash Scripts\n",
    "The bash scripts that follow automate what was done in the Tools Installation procedures with regards to cloning a GitHub project. Doing this in a script fashion adds the following benefits:\n",
    "\n",
    "- After completing these steps, we will have notes on how to set up and verify a project.\n",
    "- By reviewing these commands, you will start to learn the basics of Linux.\n",
    "- By setting up these code cells, you will be learning how to develop automated scripts using Shell programming.\n",
    "- You will learn that pretty much anything we type on a computer can be automated through the use of variables and a coding language."
   ]
  },
  {
   "attachments": {},
   "cell_type": "markdown",
   "metadata": {},
   "source": [
    "### Pull Code\n",
    "\n",
    "> Pull code from GitHub to your machine. This is a **bash script**, a sequence of commands, that will create a project directory and add the \"project\" from GitHub to the vscode directory. There is conditional logic to make sure that the clone only happens if it does not (!) exist. Here are some key elements in this code:\n",
    "\n",
    "- `cd` command (change directory), remember this from the terminal session.\n",
    "- `if` statements (conditional statements, called selection statements by College Board), code inside only happens if the condition is met.\n",
    "\n",
    "Run the script two times and you will see that the output changes.  In the second run, the files exist and it impact the flow of the code."
   ]
  },
  {
   "cell_type": "code",
   "execution_count": 4,
   "metadata": {
    "vscode": {
     "languageId": "shellscript"
    }
   },
   "outputs": [
    {
     "name": "stdout",
     "output_type": "stream",
     "text": [
      "Using conditional statement to create a project directory and project\n",
      "Directory /home/shriyap/nighthawk exists.\n",
      "Directory /home/shriyap/nighthawk/shriyap_2025 exists.\n"
     ]
    }
   ],
   "source": [
    "%%script bash\n",
    "\n",
    "# Extract saved variables\n",
    "source /tmp/variables.sh\n",
    "\n",
    "echo \"Using conditional statement to create a project directory and project\"\n",
    "\n",
    "cd ~    # start in home directory\n",
    "\n",
    "# Conditional block to make a project directory\n",
    "if [ ! -d $project_dir ]\n",
    "then \n",
    "    echo \"Directory $project_dir does not exist... making directory $project_dir\"\n",
    "    mkdir -p $project_dir\n",
    "fi\n",
    "echo \"Directory $project_dir exists.\" \n",
    "\n",
    "# Conditional block to git clone a project from project_repo\n",
    "if [ ! -d $project ]\n",
    "then\n",
    "    echo \"Directory $project does not exist... cloning $project_repo\"\n",
    "    cd $project_dir\n",
    "    git clone $project_repo\n",
    "    cd ~\n",
    "fi\n",
    "echo \"Directory $project exists.\""
   ]
  },
  {
   "attachments": {},
   "cell_type": "markdown",
   "metadata": {},
   "source": [
    "### Look at Files in GitHub Project\n",
    "\n",
    "> All computers contain files and directories. The clone brought more files from the cloud to your machine. Review the bash shell script, observe the commands that show and interact with files and directories. These were used during setup.\n",
    "\n",
    "- `ls` lists computer files in Unix and Unix-like operating systems.\n",
    "- `cd` offers a way to navigate and change the working directory.\n",
    "- `pwd` prints the working directory.\n",
    "- `echo` is used to display a line of text/string that is passed as an argument."
   ]
  },
  {
   "cell_type": "code",
   "execution_count": 5,
   "metadata": {
    "vscode": {
     "languageId": "shellscript"
    }
   },
   "outputs": [
    {
     "name": "stdout",
     "output_type": "stream",
     "text": [
      "Navigate to project, then navigate to area wwhere files were cloned\n",
      "/home/shriyap/nighthawk/shriyap_2025\n",
      "\n",
      "list top level or root of files with project pulled from github\n",
      "404.html\n",
      "Gemfile\n",
      "Gemfile.lock\n",
      "LICENSE\n",
      "Makefile\n",
      "README.md\n",
      "README4YML.md\n",
      "_config.yml\n",
      "_data\n",
      "_includes\n",
      "_layouts\n",
      "_notebooks\n",
      "_posts\n",
      "_sass\n",
      "_site\n",
      "assets\n",
      "images\n",
      "index.md\n",
      "navigation\n",
      "requirements.txt\n",
      "scripts\n",
      "venv\n"
     ]
    }
   ],
   "source": [
    "%%script bash\n",
    "\n",
    "# Extract saved variables\n",
    "source /tmp/variables.sh\n",
    "\n",
    "echo \"Navigate to project, then navigate to area wwhere files were cloned\"\n",
    "cd $project\n",
    "pwd\n",
    "\n",
    "echo \"\"\n",
    "echo \"list top level or root of files with project pulled from github\"\n",
    "ls\n"
   ]
  },
  {
   "attachments": {},
   "cell_type": "markdown",
   "metadata": {},
   "source": [
    "### Look at File List with Hidden and Long Attributes\n",
    "\n",
    "> Most Linux commands have options to enhance behavior. The enhanced listing below shows permission bits, owner of the file, size, and date.\n",
    "\n",
    "Some useful `ls` flags:\n",
    "- `-a`: List all files including hidden files.\n",
    "- `-l`: List in long format.\n",
    "- `-h`: Human-readable file sizes.\n",
    "- `-t`: Sort by modification time.\n",
    "- `-R`: Reverse the order of the sort.\n",
    "\n",
    "[ls reference](https://www.rapidtables.com/code/linux/ls.html)"
   ]
  },
  {
   "cell_type": "code",
   "execution_count": 6,
   "metadata": {
    "vscode": {
     "languageId": "shellscript"
    }
   },
   "outputs": [
    {
     "name": "stdout",
     "output_type": "stream",
     "text": [
      "Navigate to project, then navigate to area wwhere files were cloned\n",
      "/home/shriyap/nighthawk/shriyap_2025\n",
      "\n",
      "list all files in long format\n",
      "total 140\n",
      "drwxr-xr-x 17 shriyap shriyap  4096 Sep  3 10:03 .\n",
      "drwxr-xr-x  6 shriyap shriyap  4096 Aug 29 10:59 ..\n",
      "drwxr-xr-x  8 shriyap shriyap  4096 Aug 31 21:50 .git\n",
      "drwxr-xr-x  3 shriyap shriyap  4096 Aug 29 10:59 .github\n",
      "-rw-r--r--  1 shriyap shriyap   251 Aug 29 10:59 .gitignore\n",
      "drwxr-xr-x  2 shriyap shriyap  4096 Aug 29 10:59 .vscode\n",
      "-rw-r--r--  1 shriyap shriyap   436 Aug 29 10:59 404.html\n",
      "-rw-r--r--  1 shriyap shriyap   122 Aug 29 10:59 Gemfile\n",
      "-rw-r--r--  1 shriyap shriyap  8427 Aug 30 09:57 Gemfile.lock\n",
      "-rw-r--r--  1 shriyap shriyap 11357 Aug 29 10:59 LICENSE\n",
      "-rw-r--r--  1 shriyap shriyap  3549 Aug 30 10:28 Makefile\n",
      "-rw-r--r--  1 shriyap shriyap 14171 Aug 29 10:59 README.md\n",
      "-rw-r--r--  1 shriyap shriyap    79 Aug 29 10:59 README4YML.md\n",
      "-rw-r--r--  1 shriyap shriyap   835 Aug 31 21:29 _config.yml\n",
      "drwxr-xr-x  2 shriyap shriyap  4096 Sep  3 10:03 _data\n",
      "drwxr-xr-x  4 shriyap shriyap  4096 Aug 29 10:59 _includes\n",
      "drwxr-xr-x  2 shriyap shriyap  4096 Aug 29 10:59 _layouts\n",
      "drwxr-xr-x  3 shriyap shriyap  4096 Aug 29 10:59 _notebooks\n",
      "drwxr-xr-x  3 shriyap shriyap  4096 Aug 29 10:59 _posts\n",
      "drwxr-xr-x  4 shriyap shriyap  4096 Aug 29 10:59 _sass\n",
      "drwxr-xr-x 12 shriyap shriyap  4096 Sep  3 10:06 _site\n",
      "drwxr-xr-x  5 shriyap shriyap  4096 Aug 29 10:59 assets\n",
      "drwxr-xr-x  3 shriyap shriyap  4096 Aug 29 10:59 images\n",
      "-rw-r--r--  1 shriyap shriyap    91 Aug 31 21:53 index.md\n",
      "drwxr-xr-x  2 shriyap shriyap  4096 Aug 29 10:59 navigation\n",
      "-rw-r--r--  1 shriyap shriyap    57 Aug 29 10:59 requirements.txt\n",
      "drwxr-xr-x  4 shriyap shriyap  4096 Aug 30 10:25 scripts\n",
      "drwxr-xr-x  7 shriyap shriyap  4096 Aug 30 09:55 venv\n"
     ]
    }
   ],
   "source": [
    "%%script bash\n",
    "\n",
    "# Extract saved variables\n",
    "source /tmp/variables.sh\n",
    "\n",
    "echo \"Navigate to project, then navigate to area wwhere files were cloned\"\n",
    "cd $project\n",
    "pwd\n",
    "\n",
    "echo \"\"\n",
    "echo \"list all files in long format\"\n",
    "ls -al   # all files -a (hidden) in -l long listing"
   ]
  },
  {
   "cell_type": "code",
   "execution_count": 7,
   "metadata": {
    "vscode": {
     "languageId": "shellscript"
    }
   },
   "outputs": [
    {
     "name": "stdout",
     "output_type": "stream",
     "text": [
      "Look for posts\n",
      "/home/shriyap/nighthawk/shriyap_2025/_posts\n",
      ".:\n",
      "total 4\n",
      "drwxr-xr-x 4 shriyap shriyap 4096 Sep  3 10:10 Foundation\n",
      "\n",
      "./Foundation:\n",
      "total 28\n",
      "-rw-r--r-- 1 shriyap shriyap 16132 Sep  3 10:12 2023-08-22-devops_tools-verify_IPYNB_2_.md\n",
      "-rw-r--r-- 1 shriyap shriyap  2683 Aug 30 10:25 2024-08-21-sprint1_plan_IPYNB_2_.md\n",
      "drwxr-xr-x 2 shriyap shriyap  4096 Aug 30 10:25 A-pair_programming\n",
      "drwxr-xr-x 2 shriyap shriyap  4096 Aug 30 10:25 B-tools_and_equipment\n",
      "\n",
      "./Foundation/A-pair_programming:\n",
      "total 24\n",
      "-rw-r--r-- 1 shriyap shriyap  5433 Aug 29 10:59 2023-08-16-pair_programming.md\n",
      "-rw-r--r-- 1 shriyap shriyap  3242 Aug 30 10:25 2023-08-16-pair_showcase_IPYNB_2_.md\n",
      "-rw-r--r-- 1 shriyap shriyap 10043 Aug 30 10:25 2023-08-17-pair_habits_IPYNB_2_.md\n",
      "\n",
      "./Foundation/B-tools_and_equipment:\n",
      "total 92\n",
      "-rw-r--r-- 1 shriyap shriyap  8196 Aug 30 10:25 2023-08-19-devops_accounts_IPYNB_2_.md\n",
      "-rw-r--r-- 1 shriyap shriyap  4949 Aug 30 10:25 2023-08-21-devops_tools-home_IPYNB_2_.md\n",
      "-rw-r--r-- 1 shriyap shriyap 17367 Aug 30 10:25 2023-08-21-devops_tools-setup_IPYNB_2_.md\n",
      "-rw-r--r-- 1 shriyap shriyap 16130 Aug 30 10:25 2023-08-22-devops_tools-verify_IPYNB_2_.md\n",
      "-rw-r--r-- 1 shriyap shriyap 25977 Aug 30 10:25 2023-08-23-devops-githhub_pages-play_IPYNB_2_.md\n",
      "-rw-r--r-- 1 shriyap shriyap  7506 Aug 30 10:25 2023-08-23-devops-hacks_IPYNB_2_.md\n"
     ]
    }
   ],
   "source": [
    "%%script bash\n",
    "\n",
    "# Extract saved variables\n",
    "source /tmp/variables.sh\n",
    "\n",
    "echo \"Look for posts\"\n",
    "export posts=$project/_posts  # _posts inside project\n",
    "cd $posts  # this should exist per fastpages\n",
    "pwd  # present working directory\n",
    "ls -lR  # list posts recursively"
   ]
  },
  {
   "cell_type": "code",
   "execution_count": 8,
   "metadata": {
    "vscode": {
     "languageId": "shellscript"
    }
   },
   "outputs": [
    {
     "name": "stdout",
     "output_type": "stream",
     "text": [
      "Look for notebooks\n",
      "/home/shriyap/nighthawk/shriyap_2025/_notebooks\n",
      ".:\n",
      "total 4\n",
      "drwxr-xr-x 4 shriyap shriyap 4096 Sep  3 10:10 Foundation\n",
      "\n",
      "./Foundation:\n",
      "total 36\n",
      "-rw-r--r-- 1 shriyap shriyap 23152 Sep  3 10:12 2023-08-22-devops_tools-verify.ipynb\n",
      "-rw-r--r-- 1 shriyap shriyap  3509 Aug 29 10:59 2024-08-21-sprint1_plan.ipynb\n",
      "drwxr-xr-x 2 shriyap shriyap  4096 Aug 29 10:59 A-pair_programming\n",
      "drwxr-xr-x 2 shriyap shriyap  4096 Aug 29 10:59 B-tools_and_equipment\n",
      "\n",
      "./Foundation/A-pair_programming:\n",
      "total 16\n",
      "-rw-r--r-- 1 shriyap shriyap  3918 Aug 29 10:59 2023-08-16-pair_showcase.ipynb\n",
      "-rw-r--r-- 1 shriyap shriyap 11624 Aug 29 10:59 2023-08-17-pair_habits.ipynb\n",
      "\n",
      "./Foundation/B-tools_and_equipment:\n",
      "total 112\n",
      "-rw-r--r-- 1 shriyap shriyap  9767 Aug 29 10:59 2023-08-19-devops_accounts.ipynb\n",
      "-rw-r--r-- 1 shriyap shriyap  5931 Aug 29 10:59 2023-08-21-devops_tools-home.ipynb\n",
      "-rw-r--r-- 1 shriyap shriyap 22859 Aug 29 10:59 2023-08-21-devops_tools-setup.ipynb\n",
      "-rw-r--r-- 1 shriyap shriyap 23150 Aug 29 10:59 2023-08-22-devops_tools-verify.ipynb\n",
      "-rw-r--r-- 1 shriyap shriyap 32309 Aug 29 10:59 2023-08-23-devops-githhub_pages-play.ipynb\n",
      "-rw-r--r-- 1 shriyap shriyap  9478 Aug 29 10:59 2023-08-23-devops-hacks.ipynb\n"
     ]
    }
   ],
   "source": [
    "%%script bash\n",
    "\n",
    "# Extract saved variables\n",
    "source /tmp/variables.sh\n",
    "\n",
    "echo \"Look for notebooks\"\n",
    "export notebooks=$project/_notebooks  # _notebooks is inside project\n",
    "cd $notebooks   # this should exist per fastpages\n",
    "pwd  # present working directory\n",
    "ls -lR  # list notebooks recursively"
   ]
  },
  {
   "cell_type": "code",
   "execution_count": null,
   "metadata": {
    "vscode": {
     "languageId": "shellscript"
    }
   },
   "outputs": [],
   "source": [
    "%%script bash\n",
    "\n",
    "# Extract saved variables\n",
    "source /tmp/variables.sh\n",
    "\n",
    "echo \"Look for images, print working directory, list files\"\n",
    "cd $project/images  # this should exist per fastpages\n",
    "pwd\n",
    "ls -lR"
   ]
  },
  {
   "attachments": {},
   "cell_type": "markdown",
   "metadata": {},
   "source": [
    "### Look inside a Markdown File\n",
    "> \"cat\" reads data from the file and gives its content as output"
   ]
  },
  {
   "cell_type": "code",
   "execution_count": null,
   "metadata": {
    "vscode": {
     "languageId": "shellscript"
    }
   },
   "outputs": [],
   "source": [
    "%%script bash\n",
    "\n",
    "# Extract saved variables\n",
    "source /tmp/variables.sh\n",
    "\n",
    "echo \"Navigate to project, then navigate to area wwhere files were cloned\"\n",
    "\n",
    "cd $project\n",
    "echo \"show the contents of README.md\"\n",
    "echo \"\"\n",
    "\n",
    "cat README.md  # show contents of file, in this case markdown\n",
    "echo \"\"\n",
    "echo \"end of README.md\"\n"
   ]
  },
  {
   "attachments": {},
   "cell_type": "markdown",
   "metadata": {},
   "source": [
    "## Env, Git, and GitHub\n",
    "\n",
    "> Env(ironment) is used to capture things like the path to the Code or Home directory. Git and GitHub are not only used to exchange code between individuals but are also often used to exchange code through servers, in our case for website deployment. All tools we use have behind-the-scenes relationships with the system they run on (MacOS, Windows, Linux) or a relationship with servers to which they are connected (e.g., GitHub). There is an \"env\" command in bash. There are environment files and setting files (e.g., `.git/config`) for Git. They both use a key/value concept.\n",
    "\n",
    "- `env` shows settings for your shell.\n",
    "- `git clone` sets up a directory of files.\n",
    "- `cd $project` allows the user to move inside that directory of files.\n",
    "- `.git` is a hidden directory that is used by Git to establish a relationship between the machine and the Git server on GitHub."
   ]
  },
  {
   "cell_type": "code",
   "execution_count": 9,
   "metadata": {
    "vscode": {
     "languageId": "shellscript"
    }
   },
   "outputs": [
    {
     "name": "stdout",
     "output_type": "stream",
     "text": [
      "Show the shell environment variables, key on left of equal value on right\n",
      "\n",
      "SHELL=/bin/bash\n",
      "PYTHONUNBUFFERED=1\n",
      "WSL2_GUI_APPS_ENABLED=1\n",
      "WSL_DISTRO_NAME=Ubuntu-24.04\n",
      "PYTHON_FROZEN_MODULES=on\n",
      "ELECTRON_RUN_AS_NODE=1\n",
      "VSCODE_AMD_ENTRYPOINT=vs/workbench/api/node/extensionHostProcess\n",
      "NAME=Shriya\n",
      "PWD=/home/shriyap/nighthawk/shriyap_2025/_notebooks/Foundation\n",
      "LOGNAME=shriyap\n",
      "PYDEVD_IPYTHON_COMPATIBLE_DEBUGGING=1\n",
      "HOME=/home/shriyap\n",
      "LANG=C.UTF-8\n",
      "WSL_INTEROP=/run/WSL/392_interop\n",
      "LS_COLORS=rs=0:di=01;34:ln=01;36:mh=00:pi=40;33:so=01;35:do=01;35:bd=40;33;01:cd=40;33;01:or=40;31;01:mi=00:su=37;41:sg=30;43:ca=00:tw=30;42:ow=34;42:st=37;44:ex=01;32:*.tar=01;31:*.tgz=01;31:*.arc=01;31:*.arj=01;31:*.taz=01;31:*.lha=01;31:*.lz4=01;31:*.lzh=01;31:*.lzma=01;31:*.tlz=01;31:*.txz=01;31:*.tzo=01;31:*.t7z=01;31:*.zip=01;31:*.z=01;31:*.dz=01;31:*.gz=01;31:*.lrz=01;31:*.lz=01;31:*.lzo=01;31:*.xz=01;31:*.zst=01;31:*.tzst=01;31:*.bz2=01;31:*.bz=01;31:*.tbz=01;31:*.tbz2=01;31:*.tz=01;31:*.deb=01;31:*.rpm=01;31:*.jar=01;31:*.war=01;31:*.ear=01;31:*.sar=01;31:*.rar=01;31:*.alz=01;31:*.ace=01;31:*.zoo=01;31:*.cpio=01;31:*.7z=01;31:*.rz=01;31:*.cab=01;31:*.wim=01;31:*.swm=01;31:*.dwm=01;31:*.esd=01;31:*.avif=01;35:*.jpg=01;35:*.jpeg=01;35:*.mjpg=01;35:*.mjpeg=01;35:*.gif=01;35:*.bmp=01;35:*.pbm=01;35:*.pgm=01;35:*.ppm=01;35:*.tga=01;35:*.xbm=01;35:*.xpm=01;35:*.tif=01;35:*.tiff=01;35:*.png=01;35:*.svg=01;35:*.svgz=01;35:*.mng=01;35:*.pcx=01;35:*.mov=01;35:*.mpg=01;35:*.mpeg=01;35:*.m2v=01;35:*.mkv=01;35:*.webm=01;35:*.webp=01;35:*.ogm=01;35:*.mp4=01;35:*.m4v=01;35:*.mp4v=01;35:*.vob=01;35:*.qt=01;35:*.nuv=01;35:*.wmv=01;35:*.asf=01;35:*.rm=01;35:*.rmvb=01;35:*.flc=01;35:*.avi=01;35:*.fli=01;35:*.flv=01;35:*.gl=01;35:*.dl=01;35:*.xcf=01;35:*.xwd=01;35:*.yuv=01;35:*.cgm=01;35:*.emf=01;35:*.ogv=01;35:*.ogx=01;35:*.aac=00;36:*.au=00;36:*.flac=00;36:*.m4a=00;36:*.mid=00;36:*.midi=00;36:*.mka=00;36:*.mp3=00;36:*.mpc=00;36:*.ogg=00;36:*.ra=00;36:*.wav=00;36:*.oga=00;36:*.opus=00;36:*.spx=00;36:*.xspf=00;36:*~=00;90:*#=00;90:*.bak=00;90:*.crdownload=00;90:*.dpkg-dist=00;90:*.dpkg-new=00;90:*.dpkg-old=00;90:*.dpkg-tmp=00;90:*.old=00;90:*.orig=00;90:*.part=00;90:*.rej=00;90:*.rpmnew=00;90:*.rpmorig=00;90:*.rpmsave=00;90:*.swp=00;90:*.tmp=00;90:*.ucf-dist=00;90:*.ucf-new=00;90:*.ucf-old=00;90:\n",
      "VIRTUAL_ENV=/home/shriyap/nighthawk/shriyap_2025/venv\n",
      "WAYLAND_DISPLAY=wayland-0\n",
      "FORCE_COLOR=1\n",
      "PYDEVD_USE_FRAME_EVAL=NO\n",
      "CLICOLOR=1\n",
      "VSCODE_L10N_BUNDLE_LOCATION=\n",
      "CLICOLOR_FORCE=1\n",
      "GEM_HOME=/home/shriyap/gems\n",
      "LESSCLOSE=/usr/bin/lesspipe %s %s\n",
      "VSCODE_HANDLES_SIGPIPE=true\n",
      "TERM=xterm-color\n",
      "LESSOPEN=| /usr/bin/lesspipe %s\n",
      "USER=shriyap\n",
      "GIT_PAGER=cat\n",
      "PYTHONIOENCODING=utf-8\n",
      "DISPLAY=:0\n",
      "SHLVL=1\n",
      "PAGER=cat\n",
      "VSCODE_CWD=/mnt/c/Users/shriy/AppData/Local/Programs/Microsoft VS Code\n",
      "VIRTUAL_ENV_PROMPT=(venv) \n",
      "MPLBACKEND=module://matplotlib_inline.backend_inline\n",
      "XDG_RUNTIME_DIR=/run/user/1002/\n",
      "DEBUGINFOD_URLS=https://debuginfod.ubuntu.com \n",
      "WSLENV=VSCODE_WSL_EXT_LOCATION/up\n",
      "VSCODE_WSL_EXT_LOCATION=/mnt/c/Users/shriy/.vscode/extensions/ms-vscode-remote.remote-wsl-0.88.2\n",
      "XDG_DATA_DIRS=/usr/local/share:/usr/share:/var/lib/snapd/desktop\n",
      "PATH=/home/shriyap/nighthawk/shriyap_2025/venv/bin:/home/shriyap/.vscode-server/bin/fee1edb8d6d72a0ddff41e5f71a671c23ed924b9/bin/remote-cli:/home/shriyap/gems/bin:/home/shriyap/gems/bin:/usr/local/sbin:/usr/local/bin:/usr/sbin:/usr/bin:/sbin:/bin:/usr/games:/usr/local/games:/usr/lib/wsl/lib:/mnt/c/Program Files (x86)/VMware/VMware Player/bin/:/mnt/c/WINDOWS/system32:/mnt/c/WINDOWS:/mnt/c/WINDOWS/System32/Wbem:/mnt/c/WINDOWS/System32/WindowsPowerShell/v1.0/:/mnt/c/WINDOWS/System32/OpenSSH/:/mnt/c/Program Files/dotnet/:/mnt/c/Users/shriy/AppData/Local/Microsoft/WindowsApps:/mnt/c/Users/shriy/AppData/Local/Programs/Microsoft VS Code/bin:/mnt/c/Users/shriy/AppData/Local/Muse Hub/lib:/snap/bin\n",
      "DBUS_SESSION_BUS_ADDRESS=unix:path=/run/user/1002/bus\n",
      "VSCODE_NLS_CONFIG={\"userLocale\":\"en\",\"osLocale\":\"en\",\"resolvedLanguage\":\"en\",\"defaultMessagesFile\":\"/home/shriyap/.vscode-server/bin/fee1edb8d6d72a0ddff41e5f71a671c23ed924b9/out/nls.messages.json\",\"locale\":\"en\",\"availableLanguages\":{}}\n",
      "HOSTTYPE=x86_64\n",
      "PULSE_SERVER=unix:/mnt/wslg/PulseServer\n",
      "VSCODE_HANDLES_UNCAUGHT_ERRORS=true\n",
      "VSCODE_IPC_HOOK_CLI=/run/user/1002/vscode-ipc-8794da79-6431-48aa-aa93-e1d9550487dd.sock\n",
      "_=/usr/bin/env\n"
     ]
    }
   ],
   "source": [
    "%%script bash\n",
    "\n",
    "# This command has no dependencies\n",
    "\n",
    "echo \"Show the shell environment variables, key on left of equal value on right\"\n",
    "echo \"\"\n",
    "\n",
    "env"
   ]
  },
  {
   "cell_type": "code",
   "execution_count": null,
   "metadata": {
    "vscode": {
     "languageId": "shellscript"
    }
   },
   "outputs": [],
   "source": [
    "%%script bash\n",
    "\n",
    "# Extract saved variables\n",
    "source /tmp/variables.sh\n",
    "\n",
    "cd $project\n",
    "\n",
    "echo \"\"\n",
    "echo \"show the secrets of .git config file\"\n",
    "cd .git\n",
    "ls -l config\n",
    "\n",
    "echo \"\"\n",
    "echo \"look at config file\"\n",
    "cat config"
   ]
  },
  {
   "attachments": {},
   "cell_type": "markdown",
   "metadata": {},
   "source": [
    "## Advanced Shell project\n",
    "\n",
    "> This example was requested by a student (Jun Lim, CSA). The request was to make a Jupyter file using bash; I adapted the request to markdown. This type of thought will have great extrapolation to coding and possibilities of using Lists, Arrays, or APIs to build user interfaces. JavaScript is a language where building HTML is very common.\n",
    "\n",
    "> To get more interesting output from the terminal, this will require using something like mdless (https://github.com/ttscoff/mdless). This enables seeing markdown in rendered format.\n",
    "- On Desktop [Install PKG from MacPorts](https://www.macports.org/install.php)\n",
    "- In Terminal on MacOS\n",
    "    - [Install ncurses](https://ports.macports.org/port/ncurses/)\n",
    "    - ```gem install mdless```\n",
    "    \n",
    "> Output of the example is much nicer in \"Jupyter\"\n",
    "\n",
    "This is starting the process of documentation."
   ]
  },
  {
   "cell_type": "code",
   "execution_count": 10,
   "metadata": {
    "vscode": {
     "languageId": "shellscript"
    }
   },
   "outputs": [
    {
     "name": "stdout",
     "output_type": "stream",
     "text": [
      "\n",
      "File listing and status\n",
      "-rw-r--r-- 1 shriyap shriyap 808 Sep  3 10:24 sample.md\n",
      " 15 132 808 sample.md\n"
     ]
    },
    {
     "name": "stderr",
     "output_type": "stream",
     "text": [
      "bash: line 36: mdless: command not found\n"
     ]
    }
   ],
   "source": [
    "%%script bash\n",
    "\n",
    "# This example has an error in VSCode; it runs best on Jupyter\n",
    "cd /tmp\n",
    "\n",
    "file=\"sample.md\"\n",
    "if [ -f \"$file\" ]; then\n",
    "    rm $file\n",
    "fi\n",
    "\n",
    "# Create a markdown file using tee and here document (<<EOF)\n",
    "tee -a $file >/dev/null <<EOF\n",
    "# Show Generated Markdown\n",
    "This introductory paragraph and this line and the title above are generated using tee with the standard input (<<) redirection operator.\n",
    "- This bulleted element is still part of the tee body.\n",
    "EOF\n",
    "\n",
    "# Append additional lines to the markdown file using echo and redirection (>>)\n",
    "echo \"- This bulleted element and lines below are generated using echo with standard output (>>) redirection operator.\" >> $file\n",
    "echo \"- The list definition, as is, is using space to separate lines. Thus the use of commas and hyphens in output.\" >> $file\n",
    "\n",
    "# Define an array of actions and their descriptions\n",
    "actions=(\"ls,list-directory\" \"cd,change-directory\" \"pwd,present-working-directory\" \"if-then-fi,test-condition\" \"env,bash-environment-variables\" \"cat,view-file-contents\" \"tee,write-to-output\" \"echo,display-content-of-string\" \"echo_text_>\\$file,write-content-to-file\" \"echo_text_>>\\$file,append-content-to-file\")\n",
    "\n",
    "# Loop through the actions array and append each action to the markdown file\n",
    "for action in ${actions[@]}; do\n",
    "  action=${action//-/ }  # Convert dash to space\n",
    "  action=${action//,/: } # Convert comma to colon\n",
    "  action=${action//_text_/ \\\"sample text\\\" } # Convert _text_ to \"sample text\", note escape character \\ to avoid \"\" having meaning\n",
    "  echo \"    - ${action//-/ }\" >> $file  # Append action to file\n",
    "done\n",
    "\n",
    "echo \"\"\n",
    "echo \"File listing and status\"\n",
    "ls -l $file # List file details\n",
    "wc $file   # Show word count\n",
    "mdless $file  # Render markdown from terminal (requires mdless installation)\n",
    "\n",
    "rm $file  # Clean up temporary file"
   ]
  },
  {
   "cell_type": "markdown",
   "metadata": {
    "vscode": {
     "languageId": "shellscript"
    }
   },
   "source": [
    "## Display Shell commands help using `man`\n",
    "\n",
    "> The previous example used a markdown file to store a list of actions and their descriptions. This example uses the `man` command to generate a markdown file with descriptions of the commands. The markdown file is then displayed using `mdless`.\n",
    "\n",
    "In coding, we should try to get data from the content creators instead of creating it on our own. This approach has several benefits:\n",
    "- **Accuracy**: Descriptions from `man` pages are authoritative and accurate, as they come directly from the documentation provided by the command's developers.\n",
    "- **Consistency**: Automatically generating descriptions ensures consistency in formatting and terminology.\n",
    "- **Efficiency**: It saves time and effort, especially when dealing with a large number of commands.\n",
    "- **Up-to-date Information**: `man` pages are regularly updated with the latest information, ensuring that the descriptions are current."
   ]
  },
  {
   "cell_type": "code",
   "execution_count": 11,
   "metadata": {
    "vscode": {
     "languageId": "shellscript"
    }
   },
   "outputs": [
    {
     "name": "stderr",
     "output_type": "stream",
     "text": [
      "troff:<standard input>:1039: warning [p 9, 0.2i]: cannot adjust line\n",
      "troff:<standard input>:1296: warning [p 11, 5.2i]: cannot adjust line\n",
      "troff:<standard input>:254: warning [p 3, 3.7i]: cannot adjust line\n",
      "troff:<standard input>:583: warning [p 6, 0.2i]: cannot adjust line\n",
      "troff:<standard input>:645: warning [p 6, 6.5i]: cannot adjust line\n",
      "troff:<standard input>:664: warning [p 6, 8.7i]: cannot adjust line\n",
      "troff:<standard input>:728: warning [p 7, 4.5i]: cannot adjust line\n",
      "troff:<standard input>:746: warning [p 7, 6.3i]: cannot adjust line\n",
      "troff:<standard input>:784: warning [p 8, 0.0i]: cannot adjust line\n",
      "troff:<standard input>:1138: warning [p 11, 3.5i]: cannot adjust line\n",
      "troff:<standard input>:1414: warning [p 13, 6.2i]: cannot adjust line\n",
      "troff:<standard input>:1415: warning [p 13, 6.5i]: cannot adjust line\n",
      "troff:<standard input>:1471: warning [p 13, 12.3i]: cannot adjust line\n",
      "troff:<standard input>:1652: warning [p 15, 0.0i]: cannot adjust line\n",
      "troff:<standard input>:1652: warning [p 15, 0.2i]: cannot adjust line\n",
      "troff:<standard input>:1652: warning [p 15, 0.3i]: cannot adjust line\n",
      "troff:<standard input>:1746: warning [p 15, 10.3i]: cannot adjust line\n",
      "troff:<standard input>:1794: warning [p 16, 0.7i]: cannot adjust line\n",
      "troff:<standard input>:1794: warning [p 16, 0.8i]: cannot adjust line\n",
      "troff:<standard input>:1794: warning [p 16, 1.0i]: cannot adjust line\n",
      "troff:<standard input>:1936: warning [p 16, 13.5i]: cannot adjust line\n",
      "troff:<standard input>:1956: warning [p 17, 1.7i]: cannot adjust line\n",
      "troff:<standard input>:1956: warning [p 17, 1.8i]: cannot adjust line\n",
      "troff:<standard input>:2409: warning [p 20, 7.5i]: cannot adjust line\n",
      "troff:<standard input>:526: warning [p 9, 5.2i]: cannot break line\n",
      "troff:<standard input>:2226: warning [p 36, 9.0i]: cannot adjust line\n",
      "troff:<standard input>:2261: warning [p 37, 3.2i]: cannot adjust line\n",
      "troff:<standard input>:2559: warning [p 42, 0.3i]: cannot break line\n"
     ]
    },
    {
     "name": "stdout",
     "output_type": "stream",
     "text": [
      "\n",
      "File listing and status\n",
      "-rw-r--r-- 1 shriyap shriyap 1016 Sep  3 10:24 sample.md\n",
      "  15  159 1016 sample.md\n"
     ]
    },
    {
     "name": "stderr",
     "output_type": "stream",
     "text": [
      "bash: line 37: mdless: command not found\n"
     ]
    }
   ],
   "source": [
    "%%script bash\n",
    "\n",
    "# This example has an error in VSCode; it runs best on Jupyter\n",
    "cd /tmp\n",
    "\n",
    "file=\"sample.md\"\n",
    "if [ -f \"$file\" ]; then\n",
    "    rm $file\n",
    "fi\n",
    "\n",
    "# Set locale to C to avoid locale-related errors\n",
    "export LC_ALL=C\n",
    "\n",
    "# Create a markdown file using tee and here document (<<EOF)\n",
    "tee -a $file >/dev/null <<EOF\n",
    "# Show Generated Markdown\n",
    "This introductory paragraph and this line and the title above are generated using tee with the standard input (<<) redirection operator.\n",
    "- This bulleted element is still part of the tee body.\n",
    "EOF\n",
    "\n",
    "# Append additional lines to the markdown file using echo and redirection (>>)\n",
    "echo \"- This bulleted element and lines below are generated using echo with standard output (>>) redirection operator.\" >> $file\n",
    "echo \"- The list definition, as is, is using space to separate lines. Thus the use of commas and hyphens in output.\" >> $file\n",
    "\n",
    "# Define an array of commands\n",
    "commands=(\"ls\" \"cat\" \"tail\" \"pwd\" \"env\" \"grep\" \"awk\" \"sed\" \"curl\" \"wget\")\n",
    "\n",
    "# Loop through the commands array and append each command description to the markdown file\n",
    "for cmd in ${commands[@]}; do\n",
    "  description=$(man $cmd | col -b | awk '/^NAME/{getline; print}')\n",
    "  echo \"    - $description\" >> $file\n",
    "done\n",
    "\n",
    "echo \"\"\n",
    "echo \"File listing and status\"\n",
    "ls -l $file # List file details\n",
    "wc $file   # Show word count\n",
    "mdless $file  # Render markdown from terminal (requires mdless installation)\n",
    "\n",
    "rm $file  # Clean up temporary file"
   ]
  }
 ],
 "metadata": {
  "kernelspec": {
   "display_name": "Python 3.10.6 64-bit",
   "language": "python",
   "name": "python3"
  },
  "language_info": {
   "codemirror_mode": {
    "name": "ipython",
    "version": 3
   },
   "file_extension": ".py",
   "mimetype": "text/x-python",
   "name": "python",
   "nbconvert_exporter": "python",
   "pygments_lexer": "ipython3",
   "version": "3.12.3"
  },
  "vscode": {
   "interpreter": {
    "hash": "aee8b7b246df8f9039afb4144a1f6fd8d2ca17a180786b69acc140d282b71a49"
   }
  }
 },
 "nbformat": 4,
 "nbformat_minor": 2
}
