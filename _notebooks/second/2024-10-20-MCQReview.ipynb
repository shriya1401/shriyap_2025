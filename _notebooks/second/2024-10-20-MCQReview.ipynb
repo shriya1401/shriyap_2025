{
 "cells": [
  {
   "cell_type": "markdown",
   "metadata": {},
   "source": [
    "---\n",
    "layout : post\n",
    "title : MCQ review\n",
    "descriptions : MCQ review\n",
    "courses : { csp: {week: 1} }\n",
    "comments: true\n",
    "sticky_rank: 1\n",
    "\n",
    "---"
   ]
  },
  {
   "cell_type": "markdown",
   "metadata": {},
   "source": [
    "A programmer is creating an algorithm to set the value of ticketPrice based on the information in the table. The programmer uses the integer variable age for the\n",
    "age of the moviegoer. The Boolean variable is3D is true when the movie is 3-D and false otherwise.\n",
    "\n",
    "Which of the following code segments correctly sets the value of ticketPrice ?\n",
    "\n",
    "\n",
    "Answer : C\n",
    "\n",
    "Explanation : The code segment initially sets one word, ticket Price to 12, and then changes the price to 9 only for children and seniors. The code segment then increases One word, ticket Price by 5 for 3-D movies."
   ]
  },
  {
   "cell_type": "markdown",
   "metadata": {},
   "source": [
    "What is displayed as a result of executing the program?\n",
    "\n",
    "Answer: 1 3\n",
    "\n",
    "Explanation : The code segment initially sets start to 1, end to 20, and current to 3. Next, the code segment sets start to the value of current, which is 3. Then current is increased from 3 to 4. The final values of start and current are 3 and 4, respectively."
   ]
  },
  {
   "cell_type": "markdown",
   "metadata": {},
   "source": [
    "The procedure One word, Draw Circle, open parenthesis, x comma y comma r, close parenthesis can be used to draw a circle on a coordinate grid. The circle is centered at the coordinate x comma y and has a radius of runits. The procedure will be used to draw the following figure on a coordinate grid.\n",
    "\n",
    "\n",
    "Which of the following code segments can be used to draw the figure?\n",
    "\n",
    "Answer : Option B code segment\n",
    "\n",
    "Explanation:  The code segment draws a circle centered at the coordinates (3, 6), then moves to the right and down, drawing circles centered at (5, 4) and (7, 2)."
   ]
  },
  {
   "cell_type": "markdown",
   "metadata": {},
   "source": [
    "A spinner is divided into three sections. The sector labeled Red is four times as large as each of the sectors labeled Blue and Yellow, which are of equal size.\n",
    "\n",
    "\n",
    "\n",
    "The procedure below is intended to simulate the behavior of the spinner.\n",
    "\n",
    "\n",
    "Which of the following can be used to replace missing code so that the procedure correctly simulates the spinner?\n",
    "\n",
    "Answer: D\n",
    "\n",
    "Explanation: The code segment selects \"Yellow\" one-sixth of the time, \"Blue\" one-sixth of the time, and \"Red\" the\n",
    "remaining two-thirds of the time."
   ]
  },
  {
   "cell_type": "markdown",
   "metadata": {},
   "source": [
    "Which of the following best compares the values displayed by programs A and B?\n",
    "\n",
    "Answer: C\n",
    "\n",
    "Explanation: The programs each display ten values, but each value displayed by program B is one greater than the\n",
    "corresponding value from program A. Program A displays 1 2 3 4 5 6 7 8 9 10 and program B displays  2 3 4 5 6 7 8 9 10 11."
   ]
  },
  {
   "cell_type": "markdown",
   "metadata": {},
   "source": [
    "A user reads reviews of a popular artist’s new album and then downloads the album from the Web site of a licensed online music seller. Which of the following is LEAST likely to be a consequence of this action?\n",
    "\n",
    "Answer:The user will be in violation of the Digital Millennium Copyright Act (DMCA).\n",
    "\n",
    "Explanation: If the album was purchased and downloaded through a licensed music store, the user will not be in violation of the DMCA.\n"
   ]
  },
  {
   "cell_type": "markdown",
   "metadata": {},
   "source": [
    "Which of the following code segments will move the robot to the gray square?\n",
    "\n",
    "Answer: B\n",
    "\n",
    "Explanation: This code segment moves the robot forward two squares, rotates it right three times so that the robot faces the top of the grid, and then moves the robot forward three squares to the gray square.\n"
   ]
  },
  {
   "cell_type": "markdown",
   "metadata": {},
   "source": [
    "The following figures represent different ways of configuring a network of physically linked computers labeled P, Q, R, and S. A line between two computers indicates that the computers can communicate directly with each other. In which configuration is it NOT possible to have redundant routing between computers P and S?\n",
    "\n",
    "Answer : B\n",
    "\n",
    "Explanation :  Redundant routing is impossible if there is only one possible path from one device to another. There is only one possible path from P to S (P to R to Q to S)."
   ]
  },
  {
   "cell_type": "markdown",
   "metadata": {},
   "source": [
    "Byte pair encoding is a data encoding technique. The encoding algorithm looks for pairs of characters that appear in the string more than once and replaces each instance of that pair with a corresponding character that does not appear in the string. The algorithm saves a list containing the mapping of character pairs to their corresponding replacement characters.\n",
    "\n",
    "For example, the string Open quotation, THIS, underscore, IS, underscore, THE, underscore, BEST, underscore, WISH, close quotation can be encoded as Open quotation, percent, hash, underscore, hash, underscore, percent E, underscore, BEST, underscore, W, hash, H, close quotation by replacing all instances of Open quotation, T H, close quotation with Open quotation, percent, close quotationand replacing all instances of  Open quotation, I S, close quotation with Open quotation, hash, close quotation.\n",
    "\n",
    "For which of the following strings is it NOT possible to use byte pair encoding to shorten the string’s length?\n",
    "\n",
    "Answer : BANANA\n",
    "\n",
    "Explanation :  It is not possible to use byte pair encoding in the string Open quotation, LEVEL, underscore, UP, close quotationbecause no pair of characters appears in the string more than once.\n"
   ]
  },
  {
   "cell_type": "markdown",
   "metadata": {},
   "source": [
    "The code segment below uses the procedure One word, Goal Reached, which evaluates to true if the robot is in the gray square and evaluates to falseotherwise.\n",
    "\n",
    "Which of the following replacements for missing code can be used to move the robot to the gray square?\n",
    "\n",
    "Answer: A\n",
    "\n",
    "Expanation :  The code segment rotates right whenever there is an open square to the right. The robot will move forward from its initial location to the upper-left corner of the grid, then rotate right, then move forward to the upper-right corner of the grid, then rotate right, then move down two squares, then rotate right, then move forward to the gray square."
   ]
  },
  {
   "cell_type": "markdown",
   "metadata": {},
   "source": [
    "While debugging the code, the student realizes that the loop never terminates. The student plans to insert the instruction Win, left arrow, true somewhere in the code. Where could Win, left arrow, true be inserted so that the code segment works as intended?\n",
    "\n",
    "Answer : Between line 9 and 10\n",
    "\n",
    "Explanation:  Inserting Win, left arrow, true between line 9 and line 10 will cause the loop to terminate when the guess is correct."
   ]
  },
  {
   "cell_type": "markdown",
   "metadata": {},
   "source": [
    "In a certain science experiment, 7 5 percent of trials are expected to be successful and 2 5 percent of trials are expected to be unsuccessful. The program below is intended to simulate the results of repeated trials of the experiment.\n",
    "\n",
    "Which of the following can be used to replace missing code so that the simulation works as intended?\n",
    "\n",
    "Answer : RANDOM (1,100) <= 75\n",
    "\n",
    "Explanation : This option causes the experiment to be successful when RANDOM, open parenthesis 1 comma 100, close parenthesis produces a result from 1 to 7 5, or 75% of the time."
   ]
  },
  {
   "cell_type": "markdown",
   "metadata": {},
   "source": [
    "A student wrote the procedure below, which is intended to ask whether a user wants to keep playing a game. The procedure does not work as intended.\n",
    "\n",
    "Which of the following best describes the result of running the procedure?\n",
    "\n",
    "A: The procedrure always returns false\n",
    "\n",
    "Explanation : The responses could always be false due to if y and yes are both entered it could be false"
   ]
  }
 ],
 "metadata": {
  "kernelspec": {
   "display_name": "venv",
   "language": "python",
   "name": "python3"
  },
  "language_info": {
   "codemirror_mode": {
    "name": "ipython",
    "version": 3
   },
   "file_extension": ".py",
   "mimetype": "text/x-python",
   "name": "python",
   "nbconvert_exporter": "python",
   "pygments_lexer": "ipython3",
   "version": "3.12.3"
  }
 },
 "nbformat": 4,
 "nbformat_minor": 2
}
