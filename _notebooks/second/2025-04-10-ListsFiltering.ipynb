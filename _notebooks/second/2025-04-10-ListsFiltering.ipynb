{
 "cells": [
  {
   "cell_type": "markdown",
   "metadata": {},
   "source": [
    "---\n",
    "layout : post\n",
    "title : List Filtering\n",
    "descriptions : List FIltering\n",
    "courses : { csp: {week: 1} }\n",
    "comments: true\n",
    "sticky_rank: 1\n",
    "\n",
    "---"
   ]
  },
  {
   "cell_type": "markdown",
   "metadata": {},
   "source": [
    "#  Popcorn Hack #1\n"
   ]
  },
  {
   "cell_type": "code",
   "execution_count": 1,
   "metadata": {},
   "outputs": [],
   "source": [
    "def find_students_in_range(df, min_score, max_score):\n",
    "    return df[(df['Score'] >= min_score) & (df['Score'] <= max_score)]"
   ]
  },
  {
   "cell_type": "markdown",
   "metadata": {},
   "source": [
    "# Popcorn Hack #2"
   ]
  },
  {
   "cell_type": "code",
   "execution_count": 2,
   "metadata": {},
   "outputs": [],
   "source": [
    "def add_letter_grades(df):\n",
    "    def get_letter(score):\n",
    "        if score >= 90:\n",
    "            return 'A'\n",
    "        elif score >= 80:\n",
    "            return 'B'\n",
    "        elif score >= 70:\n",
    "            return 'C'\n",
    "        elif score >= 60:\n",
    "            return 'D'\n",
    "        else:\n",
    "            return 'F'\n",
    "    df['Letter'] = df['Score'].apply(get_letter)\n",
    "    return df\n"
   ]
  },
  {
   "cell_type": "markdown",
   "metadata": {},
   "source": [
    "# Popcorn Hack #3\n"
   ]
  },
  {
   "cell_type": "code",
   "execution_count": 3,
   "metadata": {},
   "outputs": [],
   "source": [
    "def find_mode(series):\n",
    "    return series.mode().iloc[0]"
   ]
  },
  {
   "cell_type": "markdown",
   "metadata": {},
   "source": [
    "# Homework Hack "
   ]
  },
  {
   "cell_type": "code",
   "execution_count": null,
   "metadata": {},
   "outputs": [],
   "source": [
    "import pandas as pd\n",
    "\n",
    "# Load the dataset\n",
    "data = pd.read_csv('diabetes.csv')\n",
    "\n",
    "#Highest to lowest\n",
    "highest_glucose = data[data['Glucose'] == data['Glucose'].max()]\n",
    "lowest_glucose = data[data['Glucose'] == data['Glucose'].min()]\n",
    "\n",
    "\n",
    "# Difference between Max and min\n",
    "glucose_diff = data['Glucose'].max() - data['Glucose'].min()\n",
    "\n",
    "#Instance when glucose exceeds average\n",
    "average_glucose = data['Glucose'].mean()\n",
    "above_average_glucose = data[data['Glucose'] > average_glucose]\n",
    "\n",
    "#Groups by bmi catgories and calculate average glucose\n",
    "# Define BMI categories\n",
    "bins = [0, 18.5, 24.9, 29.9, data['BMI'].max()]\n",
    "labels = ['Underweight', 'Normal', 'Overweight', 'Obese']\n",
    "data['BMI_Category'] = pd.cut(data['BMI'], bins=bins, labels=labels)\n",
    "\n",
    "# Group by BMI category\n",
    "grouped_data = data.groupby('BMI_Category')[['Glucose', 'Age']].mean()\n",
    "\n",
    "\n",
    "#Is There a Correlation Between BMI and Glucose Levels? To explore the relationship between BMI and glucose levels, I calculated the correlation coefficient using Pandas. A positive value suggests that as BMI increases, glucose levels tend to increase too. I also used a scatter plot to visually observe this trend.\n",
    "correlation = data[['BMI', 'Glucose']].corr().iloc[0, 1]\n",
    "\n",
    "#Visualization:\n",
    "import matplotlib.pyplot as plt\n",
    "\n",
    "plt.scatter(data['BMI'], data['Glucose'])\n",
    "plt.title('Correlation between BMI and Glucose Levels')\n",
    "plt.xlabel('BMI')\n",
    "plt.ylabel('Glucose')\n",
    "plt.show()\n",
    "\n",
    "#Which Age Group Has the Highest Average Glucose Level? I divided the individuals into age groups using pd.cut() and calculated the average glucose level for each group. This helps identify which age range is most associated with higher glucose levels.\n",
    "\n",
    "\n",
    "age_groups = pd.cut(data['Age'], bins=[20, 30, 40, 50, 60, 70, 80], right=False)\n",
    "age_group_avg_glucose = data.groupby(age_groups)['Glucose'].mean()\n",
    "highest_glucose_age_group = age_group_avg_glucose.idxmax()\n",
    "\n",
    "#What Percentage of Individuals Have Glucose Levels Above 140 mg/dL? To understand how common dangerously high glucose levels are, I calculated the percentage of individuals with glucose readings above 140 mg/dL. This threshold can signal potential diabetes risk.\n",
    "\n",
    "\n",
    "high_glucose_count = data[data['Glucose'] > 140].shape[0]\n",
    "percentage_high_glucose = (high_glucose_count / len(data)) * 100\n",
    "\n",
    "#Store the Data in a Table:\n",
    "import sqlite3\n",
    "\n",
    "conn = sqlite3.connect('diabetes_analysis.db')\n",
    "data.to_sql('diabetes_data', conn, if_exists='replace', index=False)\n",
    "\n",
    "#Find the Average Glucose and BMI for Each Age Group:\n",
    "SELECT Age_Group, AVG(Glucose) AS Avg_Glucose, AVG(BMI) AS Avg_BMI\n",
    "FROM (\n",
    "    SELECT *,\n",
    "           CASE\n",
    "               WHEN Age BETWEEN 20 AND 29 THEN '20-29'\n",
    "               WHEN Age BETWEEN 30 AND 39 THEN '30-39'\n",
    "               WHEN Age BETWEEN 40 AND 49 THEN '40-49'\n",
    "               WHEN Age BETWEEN 50 AND 59 THEN '50-59'\n",
    "               WHEN Age BETWEEN 60 AND 69 THEN '60-69'\n",
    "               ELSE '70+'\n",
    "           END AS Age_Group\n",
    "    FROM diabetes_data\n",
    ")\n",
    "GROUP BY Age_Group;\n",
    "\n",
    "#Identify Individuals with Glucose Levels Above 180 mg/dL and BMI Over 30:\n",
    "\n",
    "SELECT *\n",
    "FROM diabetes_data\n",
    "WHERE Glucose > 180 AND BMI > 30;\n",
    "\n",
    "#Group by Outcome and Calculate Average Age and BMI:\n",
    "SELECT Outcome, AVG(Age) AS Avg_Age, AVG(BMI) AS Avg_BMI\n",
    "FROM diabetes_data\n",
    "GROUP BY Outcome;\n",
    "\n",
    "\n",
    "\n",
    "\n",
    "\n",
    "\n",
    "\n",
    "\n",
    "\n"
   ]
  },
  {
   "cell_type": "markdown",
   "metadata": {},
   "source": [
    "Compare SQL Approach with Pandas Approach:\n",
    "\n",
    "Advantages of SQL:\n",
    "\n",
    "- Efficient handling of large datasets.\n",
    "\n",
    "- Standardized query language.\n",
    "\n",
    "- Optimized for complex joins and aggregations.\n",
    "\n",
    "Advantages of Pandas:\n",
    "\n",
    "- Intuitive and flexible data manipulation.\n",
    "\n",
    "- Seamless integration with Python's data ecosystem.\n",
    "\n",
    "- Ideal for exploratory data analysis with rich visualization support.\n",
    "\n",
    "\n",
    "Considerations:\n",
    "\n",
    "- For large-scale data, SQL may offer performance benefits.\n",
    "\n",
    "- Pandas provides more flexibility for complex data transformations and is well-suited for in-memory operations."
   ]
  },
  {
   "cell_type": "markdown",
   "metadata": {},
   "source": [
    "# Extra Credit\n",
    "\n",
    "To earn extra credit, I visualized trends in my glucose dataset using Seaborn and Matplotlib. These graphs help highlight relationships between BMI, glucose levels, and diabetes outcomes. Before plotting, I cleaned the data to ensure values were realistic and removed outliers."
   ]
  },
  {
   "cell_type": "code",
   "execution_count": null,
   "metadata": {},
   "outputs": [],
   "source": [
    "# Code Cell — Setup and Load Data\n",
    "\n",
    "import pandas as pd\n",
    "import seaborn as sns\n",
    "import matplotlib.pyplot as plt\n",
    "\n",
    "# Style settings\n",
    "plt.style.use('ggplot')\n",
    "sns.set_palette(\"pastel\")\n",
    "\n",
    "# Load dataset\n",
    "data = pd.read_csv('/mnt/data/diabetes.csv') "
   ]
  },
  {
   "cell_type": "markdown",
   "metadata": {},
   "source": [
    "# 1. Boxplot of Glucose by Diabetes Outcome\n",
    "\n",
    "This boxplot compares glucose levels between individuals who tested positive or negative for diabetes. Higher glucose values are clearly associated with a positive diagnosis."
   ]
  },
  {
   "cell_type": "code",
   "execution_count": null,
   "metadata": {},
   "outputs": [],
   "source": [
    "plt.figure(figsize=(8, 6))\n",
    "sns.boxplot(x='Outcome', y='Glucose', data=data)\n",
    "plt.title('Glucose Levels by Diabetes Outcome')\n",
    "plt.xlabel('Diabetes Outcome (0 = No, 1 = Yes)')\n",
    "plt.ylabel('Glucose Level (mg/dL)')\n",
    "plt.show()"
   ]
  },
  {
   "cell_type": "markdown",
   "metadata": {},
   "source": [
    "# 2 Scatter Plot: BMI vs. Glucose\n",
    "This scatter plot shows how glucose levels tend to rise with increasing BMI, especially for individuals with diabetes (Outcome = 1). It helps reveal a correlation between body mass and blood sugar levels.\n"
   ]
  },
  {
   "cell_type": "code",
   "execution_count": null,
   "metadata": {},
   "outputs": [],
   "source": [
    "plt.figure(figsize=(8, 6))\n",
    "sns.scatterplot(x='BMI', y='Glucose', hue='Outcome', data=data)\n",
    "plt.title('BMI vs Glucose Level by Outcome')\n",
    "plt.xlabel('BMI')\n",
    "plt.ylabel('Glucose Level (mg/dL)')\n",
    "plt.legend(title='Diabetes Outcome')\n",
    "plt.show()\n"
   ]
  },
  {
   "cell_type": "markdown",
   "metadata": {},
   "source": [
    "# 3. Bar Chart: Average Glucose by Age Group\n",
    "I grouped people by age and calculated average glucose levels in each range. This shows which age groups have higher risk for elevated glucose."
   ]
  },
  {
   "cell_type": "code",
   "execution_count": null,
   "metadata": {},
   "outputs": [],
   "source": [
    "data['Age_Group'] = pd.cut(data['Age'], bins=[20, 30, 40, 50, 60, 70, 80], right=False)\n",
    "\n",
    "age_group_avg = data.groupby('Age_Group')['Glucose'].mean().reset_index()\n",
    "\n",
    "plt.figure(figsize=(10, 6))\n",
    "sns.barplot(x='Age_Group', y='Glucose', data=age_group_avg)\n",
    "plt.title('Average Glucose Level by Age Group')\n",
    "plt.xlabel('Age Group')\n",
    "plt.ylabel('Average Glucose (mg/dL)')\n",
    "plt.xticks(rotation=45)\n",
    "plt.show()\n"
   ]
  },
  {
   "cell_type": "markdown",
   "metadata": {},
   "source": [
    "# 4. Histogram: Distribution of Glucose Levels\n",
    "This histogram shows how glucose levels are distributed across the dataset. A noticeable right skew suggests several high-glucose outliers."
   ]
  },
  {
   "cell_type": "code",
   "execution_count": null,
   "metadata": {},
   "outputs": [],
   "source": [
    "plt.figure(figsize=(8, 6))\n",
    "sns.histplot(data['Glucose'], bins=10, kde=True)\n",
    "plt.title('Distribution of Glucose Levels')\n",
    "plt.xlabel('Glucose (mg/dL)')\n",
    "plt.ylabel('Frequency')\n",
    "plt.show()"
   ]
  }
 ],
 "metadata": {
  "kernelspec": {
   "display_name": "venv",
   "language": "python",
   "name": "python3"
  },
  "language_info": {
   "codemirror_mode": {
    "name": "ipython",
    "version": 3
   },
   "file_extension": ".py",
   "mimetype": "text/x-python",
   "name": "python",
   "nbconvert_exporter": "python",
   "pygments_lexer": "ipython3",
   "version": "3.12.3"
  }
 },
 "nbformat": 4,
 "nbformat_minor": 2
}
