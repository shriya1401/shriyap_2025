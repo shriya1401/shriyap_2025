{
 "cells": [
  {
   "cell_type": "markdown",
   "metadata": {},
   "source": [
    "---\n",
    "layout : post\n",
    "title : Student Panel Colaboration\n",
    "descriptions : Student Panel\n",
    "courses : { csp: {week: 1} }\n",
    "comments: true\n",
    "sticky_rank: 1\n",
    "\n",
    "---"
   ]
  },
  {
   "cell_type": "markdown",
   "metadata": {},
   "source": [
    "<div style=\"background-color: #f9f9f9; border-radius: 15px; padding: 20px; box-shadow: 0px 4px 12px rgba(0, 0, 0, 0.1); margin-bottom: 30px;\">\n",
    "\n",
    "# 🌟 Student Panel Collaboration 🌟 \n",
    "\n",
    "<div style=\"text-align: center; margin: 20px 0;\">\n",
    "  <img src=\"{{site.baseurl}}/images/unnamed.jpg\" alt=\"Me at the student panel\" style=\"width: 70%; max-width: 500px; border-radius: 15px; box-shadow: 0px 6px 15px rgba(0, 0, 0, 0.2); animation: fadeIn 2s ease-in-out;\" />\n",
    "</div>\n",
    "\n",
    "---\n",
    "\n",
    "<h2 style=\"font-size: 24px; color: #7a5dff; text-align: center; border-bottom: 3px solid #7a5dff; padding-bottom: 5px; width: 60%; margin: 20px auto;\">✨ Key Takeaway ✨</h2>\n",
    "\n",
    "<p style=\"font-size: 16px; line-height: 1.8; text-align: justify; color: #333; margin-top: 20px;\">\n",
    "After todays student panel discussion I realized how important it is to know computer science with how much it is used in the world. \n",
    "</p>\n",
    "\n",
    "<p style=\"font-size: 16px; line-height: 1.8; text-align: justify; color: #333;\">\n",
    "One <b>key takeaway</b> for me was understanding that computer science is not just about coding but about building \n",
    "<b>problem-solving skills</b> and fostering <b>collaboration</b>. This CSP class has already shown me how these skills prepare \n",
    "me for the future and inspired me to pursue a <b>CS major</b> in college.\n",
    "</p>\n",
    "\n",
    "<p style=\"font-size: 16px; line-height: 1.8; text-align: justify; color: #333;\">\n",
    "The projects we work on and the teamwork we develop in this class are laying a strong foundation for both my academic \n",
    "and professional journey. One main point which stood out to me is when one of the speakers said it isn'tabout the completed project but instead the <b>process</b> on how you got there, as many times in csp Mr.Mortenson continously emphasizes the journey getting to the completed project, and after hearing more on it I did realize how important it is to know everything your doing, and not skipping steps to get the finalized project. \n",
    "</p>\n",
    "\n",
    "</div>\n",
    "\n",
    "---\n",
    "\n",
    "##  Special Highlights from the Panel\n",
    "- 💡 *\"The process is just as important as the product.\"*\n",
    "- 🧑‍💻 *\"CS teaches you to think critically and solve problems creatively.\"*\n",
    "- 🎓 *\"The future belongs to those who can collaborate and innovate.\"*\n",
    "\n",
    "---\n",
    "\n",
    "<style>\n",
    "@keyframes fadeIn {\n",
    "  0% {\n",
    "    opacity: 0;\n",
    "    transform: translateY(10px);\n",
    "  }\n",
    "  100% {\n",
    "    opacity: 1;\n",
    "    transform: translateY(0);\n",
    "  }\n",
    "}\n",
    "</style>\n"
   ]
  }
 ],
 "metadata": {
  "kernelspec": {
   "display_name": "Python 3",
   "language": "python",
   "name": "python3"
  },
  "language_info": {
   "codemirror_mode": {
    "name": "ipython",
    "version": 3
   },
   "file_extension": ".py",
   "mimetype": "text/x-python",
   "name": "python",
   "nbconvert_exporter": "python",
   "pygments_lexer": "ipython3",
   "version": "3.12.3"
  }
 },
 "nbformat": 4,
 "nbformat_minor": 2
}
