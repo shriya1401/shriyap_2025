{
 "cells": [
  {
   "cell_type": "markdown",
   "metadata": {},
   "source": [
    "---\n",
    "layout : post\n",
    "title : Lesson 1.4 Assignment Statements and Input\n",
    "descriptions : By - Shriya Paladugu\n",
    "courses : { csp: {week: 1} }\n",
    "comments: true\n",
    "sticky_rank: 1\n",
    "\n",
    "---"
   ]
  },
  {
   "cell_type": "markdown",
   "metadata": {},
   "source": [
    "<link rel=\"stylesheet\"\n",
    "  href=\"https://cdnjs.cloudflare.com/ajax/libs/highlight.js/11.8.0/styles/github-dark.min.css\">\n",
    "<script src=\"https://cdnjs.cloudflare.com/ajax/libs/highlight.js/11.8.0/highlight.min.js\"></script>\n",
    "<script>hljs.highlightAll();</script>\n"
   ]
  },
  {
   "cell_type": "markdown",
   "metadata": {},
   "source": [
    "# CSA Unit 1.4 — Assignment Statements and Input\n",
    "\n",
    "---\n",
    "## Popcorn Hack 1.1: Tracing Variable Values\n",
    "\n",
    "**Question:**  \n",
    "After executing this code, what is the value of **y**? Walk through each line.\n"
   ]
  },
  {
   "cell_type": "code",
   "execution_count": null,
   "metadata": {
    "vscode": {
     "languageId": "java"
    }
   },
   "outputs": [
    {
     "name": "stdout",
     "output_type": "stream",
     "text": [
      "20\n"
     ]
    }
   ],
   "source": [
    "int x = 10;\n",
    "x = 20;\n",
    "int y = x;\n",
    " System.out.println(y); // Outputs 20"
   ]
  },
  {
   "cell_type": "markdown",
   "metadata": {},
   "source": [
    "- Based on this result the value of y is 20"
   ]
  },
  {
   "cell_type": "markdown",
   "metadata": {
    "vscode": {
     "languageId": "java"
    }
   },
   "source": [
    "## **Popcorn Hack 1.2: Type Safety**\n",
    "\n",
    "**Question:**  \n",
    "What happens if you write **int count = \"hello\";**?  \n",
    "Why does this fail, and why is this behavior helpful?\n",
    "\n",
    "**Answer:**  \n",
    "This fails because **\"hello\"** is a **String**, not an **int**.  \n",
    "Java is a **strongly typed** language, which means that every variable must store data of the correct declared type.  \n",
    "This **type safety** prevents bugs and ensures that errors are caught at **compile time** instead of during program execution.\n",
    "\n",
    "**Error Message:**  \n",
    "**incompatible types: String cannot be converted to int**\n"
   ]
  },
  {
   "cell_type": "markdown",
   "metadata": {},
   "source": [
    "## **Popcorn Hack 2.1: Input Validation**\n",
    "\n",
    "**Question:**  \n",
    "What happens if a user types **\"twenty\"** when **nextInt()** expects a number?  \n",
    "How would you make your program more robust?\n",
    "\n",
    "**Answer:**  \n",
    "If a user types **\"twenty\"**, the program throws an **InputMismatchException** because **nextInt()** can only read integers.  \n",
    "To make the program more robust, you can validate the input before reading or handle the error using a **conditional check** or a **try-catch block**.\n"
   ]
  },
  {
   "cell_type": "code",
   "execution_count": 10,
   "metadata": {
    "vscode": {
     "languageId": "java"
    }
   },
   "outputs": [
    {
     "name": "stdout",
     "output_type": "stream",
     "text": [
      "Enter an integer: "
     ]
    },
    {
     "name": "stdout",
     "output_type": "stream",
     "text": [
      "You entered: 5\n"
     ]
    }
   ],
   "source": [
    "java.util.Scanner sc = new java.util.Scanner(System.in);\n",
    "System.out.print(\"Enter an integer: \");\n",
    "if (sc.hasNextInt()) {\n",
    "    int num = sc.nextInt();\n",
    "    System.out.println(\"You entered: \" + num);\n",
    "} else {\n",
    "    System.out.println(\"Invalid input. Please enter a number.\");\n",
    "}\n",
    "sc.close();"
   ]
  },
  {
   "cell_type": "markdown",
   "metadata": {},
   "source": [
    "## **Popcorn Hack 2.2: Token vs Line**\n",
    "\n",
    "**Question:**  \n",
    "If a user enters **\"San Diego\"** when **next()** is called, what gets stored?  \n",
    "What about with **nextLine()**?\n",
    "\n",
    "**Answer:**  \n",
    "- **next()** reads only up to the first space → stores **\"San\"**  \n",
    "- **nextLine()** reads the entire line → stores **\"San Diego\"**\n",
    "\n",
    "Use **nextLine()** when you need to capture multiple words, such as full names or sentences.\n"
   ]
  },
  {
   "cell_type": "markdown",
   "metadata": {},
   "source": [
    "## **Popcorn Hack 3: Code Trace**\n",
    "\n",
    "**Question:**  \n",
    "Trace through the complete example.  \n",
    "If the user enters **\"Alice Wonderland\"**, **20**, and **3.85**, what is the exact output?\n",
    "\n",
    "**Answer:**\n",
    "\n",
    "**=== User Information Program ===**\n",
    "\n",
    "- **Enter your full name:** Alice Wonderland  \n",
    "- **Enter your age:** 20  \n",
    "- **Enter your GPA:** 3.85  \n",
    "\n",
    "**--- Summary ---**  \n",
    "- **Name:** Alice Wonderland  \n",
    "- **Age:** 20 (next year: 21)  \n",
    "- **GPA:** 3.85\n"
   ]
  },
  {
   "cell_type": "markdown",
   "metadata": {},
   "source": [
    "## **Homework Hack 1: Three-Number Average Calculator**\n",
    "\n",
    "**Question:**  \n",
    "Modify the example program to:  \n",
    "1. Prompt for **three integers**  \n",
    "2. Calculate their **average** (avoid integer division!)  \n",
    "3. Display the result with **two decimal places**\n",
    "\n",
    "---\n",
    "\n",
    "**Answer:**  \n",
    "To calculate the average of three numbers, you must use **floating-point division** (**3.0** instead of **3**) or cast the sum to **double**.  \n",
    "This ensures the result includes decimals and doesn’t get truncated as an integer."
   ]
  },
  {
   "cell_type": "code",
   "execution_count": 18,
   "metadata": {
    "vscode": {
     "languageId": "java"
    }
   },
   "outputs": [],
   "source": [
    "// Hack 1: Three-Number Average Calculator\n",
    "import java.util.Scanner;\n",
    "\n",
    "public class ThreeNumberAverage {\n",
    "    public static void main(String[] args) {\n",
    "        Scanner sc = new Scanner(System.in);\n",
    "\n",
    "        System.out.print(\"Enter first integer: \");\n",
    "        int num1 = sc.nextInt();\n",
    "\n",
    "        System.out.print(\"Enter second integer: \");\n",
    "        int num2 = sc.nextInt();\n",
    "\n",
    "        System.out.print(\"Enter third integer: \");\n",
    "        int num3 = sc.nextInt();\n",
    "\n",
    "        // Use double casting to avoid integer division\n",
    "        double average = (double)(num1 + num2 + num3) / 3;\n",
    "\n",
    "        // Print with 2 decimal places\n",
    "        System.out.printf(\"The average is: %.2f\\n\", average);\n",
    "\n",
    "        sc.close();\n",
    "    }\n",
    "}\n"
   ]
  }
 ],
 "metadata": {
  "kernelspec": {
   "display_name": "Java",
   "language": "java",
   "name": "java"
  },
  "language_info": {
   "codemirror_mode": "java",
   "file_extension": ".jshell",
   "mimetype": "text/x-java-source",
   "name": "Java",
   "pygments_lexer": "java",
   "version": "21.0.8+9-Ubuntu-0ubuntu124.04.1"
  }
 },
 "nbformat": 4,
 "nbformat_minor": 2
}
