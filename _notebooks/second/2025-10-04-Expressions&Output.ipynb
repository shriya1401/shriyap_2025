{
 "cells": [
  {
   "cell_type": "markdown",
   "metadata": {},
   "source": [
    "---\n",
    "layout : post\n",
    "title : Lesson 1.3 Expressions and Output\n",
    "descriptions : By - Shriya Paladugu\n",
    "courses : { csp: {week: 1} }\n",
    "comments: true\n",
    "sticky_rank: 1\n",
    "\n",
    "---"
   ]
  },
  {
   "cell_type": "markdown",
   "metadata": {},
   "source": [
    "<link rel=\"stylesheet\"\n",
    "  href=\"https://cdnjs.cloudflare.com/ajax/libs/highlight.js/11.8.0/styles/github-dark.min.css\">\n",
    "<script src=\"https://cdnjs.cloudflare.com/ajax/libs/highlight.js/11.8.0/highlight.min.js\"></script>\n",
    "<script>hljs.highlightAll();</script>\n"
   ]
  },
  {
   "cell_type": "markdown",
   "metadata": {},
   "source": [
    "# CSA Unit 1.3 — Expressions and Output\n",
    "\n",
    "---\n",
    "\n",
    "## Popcorn Hack 1\n",
    "\n",
    "**Task:**  \n",
    "Recall as many key formatting tools as you can without referring to the notes above. List them and explain what each does.  \n",
    "Then, write a single line of code using as many of the tools as possible.\n",
    "\n",
    "**Answer:**\n",
    "\n",
    "**\\\\n** → newline (moves text to the next line)  \n",
    "**\\\\t** → tab (adds spacing)  \n",
    "**\\\\\\\\** → prints a backslash  \n",
    "**\\\\\\\"** → prints a double quote  \n",
    "**System.out.print()** → prints text *without* moving to the next line  \n",
    "**System.out.println()** → prints text *and* moves to a new line  \n",
    "**System.out.printf()** → prints *formatted* text (e.g., decimals, alignment)\n",
    "\n"
   ]
  },
  {
   "cell_type": "code",
   "execution_count": 1,
   "metadata": {},
   "outputs": [
    {
     "name": "stdout",
     "output_type": "stream",
     "text": [
      "She said:\t\"Java\\CSA rocks!\"\n",
      "Let's code!\n"
     ]
    }
   ],
   "source": [
    "System.out.println(\"She said:\\t\\\"Java\\\\CSA rocks!\\\"\\nLet's code!\");"
   ]
  },
  {
   "cell_type": "markdown",
   "metadata": {
    "vscode": {
     "languageId": "java"
    }
   },
   "source": [
    "## **Popcorn Hack 2**\n",
    "\n",
    "**Task:**  \n",
    "What formatting tools are used in **Menu.java**?  \n",
    "How do they make the output cleaner/better?\n",
    "\n",
    "**Answer:**\n",
    "\n",
    "- **System.out.println()** → separates each menu option on a new line.  \n",
    "- **System.out.print()** → keeps the user input prompt (“Choose an option:”) on the same line.  \n",
    "- **String concatenation (+)** → combines variables with text dynamically.  \n",
    "- **Escape sequences (====)** → make the menu organized and visually clear.  \n",
    "\n",
    "**Together, they create a clean, structured, and easy-to-read menu for users.**\n"
   ]
  },
  {
   "cell_type": "markdown",
   "metadata": {},
   "source": [
    "## Homework Hack 1"
   ]
  },
  {
   "cell_type": "code",
   "execution_count": 2,
   "metadata": {},
   "outputs": [
    {
     "name": "stdout",
     "output_type": "stream",
     "text": [
      "AP CSA\n",
      "Rocks!\n"
     ]
    }
   ],
   "source": [
    "System.out.print(\"AP \");\n",
    "System.out.println(\"CSA\");\n",
    "System.out.println(\"Rocks!\");"
   ]
  },
  {
   "cell_type": "code",
   "execution_count": null,
   "metadata": {},
   "outputs": [
    {
     "name": "stdout",
     "output_type": "stream",
     "text": [
      "C:\\Users\\Student\n"
     ]
    }
   ],
   "source": [
    "//Fixed bug code\n",
    "System.out.println(\"C:\\\\Users\\\\Student\");"
   ]
  },
  {
   "cell_type": "code",
   "execution_count": 6,
   "metadata": {},
   "outputs": [],
   "source": [
    "import java.util.Scanner;\n",
    "\n",
    "public class Menu {\n",
    "    public static void main(String[] args) {\n",
    "        Scanner sc = new Scanner(System.in);\n",
    "        System.out.println(\"=== Main Menu ===\");\n",
    "        System.out.println(\"1. Start Game\");\n",
    "        System.out.println(\"2. Instructions\");\n",
    "        System.out.println(\"3. Exit\");\n",
    "        System.out.println(\"4. Settings\");\n",
    "        System.out.print(\"Choose an option: \");\n",
    "        int choice = sc.nextInt();\n",
    "        System.out.println(\"You selected option: \" + choice);\n",
    "\n",
    "        int optionCount = 4;\n",
    "        System.out.println(\"There are \" + optionCount + \" total options.\");\n",
    "    }\n",
    "}\n"
   ]
  },
  {
   "cell_type": "markdown",
   "metadata": {},
   "source": [
    "## Challenge"
   ]
  },
  {
   "cell_type": "code",
   "execution_count": null,
   "metadata": {},
   "outputs": [
    {
     "name": "stdout",
     "output_type": "stream",
     "text": [
      "Pi = 3.14\n"
     ]
    },
    {
     "data": {
      "text/plain": [
       "java.io.PrintStream@2bf33799"
      ]
     },
     "execution_count": 3,
     "metadata": {},
     "output_type": "execute_result"
    }
   ],
   "source": [
    "\n",
    "System.out.printf(\"Pi = %.2f\\n\", Math.PI);"
   ]
  },
  {
   "cell_type": "markdown",
   "metadata": {},
   "source": [
    "## Homework Hack 2"
   ]
  },
  {
   "cell_type": "code",
   "execution_count": null,
   "metadata": {},
   "outputs": [],
   "source": [
    "\n",
    "import java.util.Scanner;\n",
    "\n",
    "public class CalculatorMenu {\n",
    "    public static void main(String[] args) {\n",
    "        Scanner sc = new Scanner(System.in);\n",
    "\n",
    "        System.out.println(\"==== Calculator Menu ====\");\n",
    "        System.out.println(\"1. Add\");\n",
    "        System.out.println(\"2. Subtract\");\n",
    "        System.out.println(\"3. Multiply\");\n",
    "        System.out.println(\"4. Divide\");\n",
    "\n",
    "        System.out.print(\"Choose an option: \");\n",
    "        int option = sc.nextInt();\n",
    "\n",
    "        System.out.print(\"Enter first number: \");\n",
    "        double num1 = sc.nextDouble();\n",
    "        System.out.print(\"Enter second number: \");\n",
    "        double num2 = sc.nextDouble();\n",
    "\n",
    "        double result = 0;\n",
    "        if (option == 1) result = num1 + num2;\n",
    "        else if (option == 2) result = num1 - num2;\n",
    "        else if (option == 3) result = num1 * num2;\n",
    "        else if (option == 4) result = num1 / num2;\n",
    "\n",
    "        System.out.println(\"Result: \" + result);\n",
    "    }\n",
    "}\n"
   ]
  },
  {
   "cell_type": "markdown",
   "metadata": {},
   "source": [
    "## **Homework Hack 2: Assignment vs Comparison Explanation**\n",
    "\n",
    "**Task:**  \n",
    "Write an explanation distinguishing between:  \n",
    "- **Assignment operator (=)**  \n",
    "- **Comparison operator (==)**  \n",
    "Include code examples showing proper usage of each, and explain a common bug that occurs when these are confused.\n",
    "\n",
    "---\n",
    "\n",
    "**Answer:**  \n",
    "\n",
    "### **1. Assignment Operator (=)**  \n",
    "The **assignment operator** is used to **store a value** in a variable.  \n",
    "It evaluates the expression on the right side, then assigns that value to the variable on the left side.\n",
    "\n",
    "**Example:**\n",
    "```java\n",
    "int x = 5;       // assigns the value 5 to x\n",
    "x = x + 2;       // takes current value (5), adds 2, then stores 7 in x\n"
   ]
  }
 ],
 "metadata": {
  "kernelspec": {
   "display_name": "Java",
   "language": "java",
   "name": "java"
  },
  "language_info": {
   "codemirror_mode": "java",
   "file_extension": ".jshell",
   "mimetype": "text/x-java-source",
   "name": "java",
   "pygments_lexer": "java",
   "version": "21.0.8+9-Ubuntu-0ubuntu124.04.1"
  }
 },
 "nbformat": 4,
 "nbformat_minor": 2
}
