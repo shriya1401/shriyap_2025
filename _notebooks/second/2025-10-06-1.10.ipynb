{
 "cells": [
  {
   "cell_type": "markdown",
   "metadata": {},
   "source": [
    "---\n",
    "layout : post\n",
    "title : Lesson 1.10\n",
    "descriptions : By - Shriya Paladugu\n",
    "courses : { csp: {week: 1} }\n",
    "comments: true\n",
    "sticky_rank: 1\n",
    "\n",
    "---"
   ]
  },
  {
   "cell_type": "markdown",
   "metadata": {},
   "source": [
    "<link rel=\"stylesheet\"\n",
    "  href=\"https://cdnjs.cloudflare.com/ajax/libs/highlight.js/11.8.0/styles/github-dark.min.css\">\n",
    "<script src=\"https://cdnjs.cloudflare.com/ajax/libs/highlight.js/11.8.0/highlight.min.js\"></script>\n",
    "<script>hljs.highlightAll();</script>\n"
   ]
  },
  {
   "cell_type": "markdown",
   "metadata": {},
   "source": [
    "# CSA Unit 1.10 : Calling Class Methods\n",
    "\n"
   ]
  },
  {
   "cell_type": "markdown",
   "metadata": {},
   "source": [
    "## Popcorn Hack #1"
   ]
  },
  {
   "cell_type": "code",
   "execution_count": 2,
   "metadata": {},
   "outputs": [],
   "source": [
    "class Bro {\n",
    "    String name;\n",
    "    static String catchphrase = \"Sup bro?\";\n",
    "\n",
    "    public Bro(String name) {\n",
    "        this.name = name;\n",
    "    }\n",
    "\n",
    "    public void sayHi() {\n",
    "        System.out.println(\"Hey, I'm \" + name);\n",
    "    }\n",
    "\n",
    "    public static void sayCatchphrase() {\n",
    "        System.out.println(catchphrase);\n",
    "    }\n",
    "\n",
    "    public static void main(String[] args) {\n",
    "        sayCatchphrase();\n",
    "\n",
    "    \n",
    "\n",
    "        Bro alex = new Bro(\"Alex\");\n",
    "        alex.sayHi();\n",
    "\n",
    "        alex.sayCatchphrase();\n",
    "    }\n",
    "}\n"
   ]
  },
  {
   "cell_type": "markdown",
   "metadata": {
    "vscode": {
     "languageId": "java"
    }
   },
   "source": [
    "## Homework Hack"
   ]
  },
  {
   "cell_type": "code",
   "execution_count": null,
   "metadata": {},
   "outputs": [
    {
     "name": "stdout",
     "output_type": "stream",
     "text": [
      " The battle begins between RoboX and T-Rex!\n"
     ]
    },
    {
     "name": "stdout",
     "output_type": "stream",
     "text": [
      "RoboX attacks T-Rex with power 25!\n",
      "T-Rex attacks RoboX with power 20!\n",
      "RoboX attacks T-Rex with power 25!\n",
      "\n",
      "RoboX → Health: 80 | Power: 25\n",
      "T-Rex → Health: 70 | Power: 20\n",
      "\n",
      " RoboX is the stronger fighter!\n",
      "\n",
      " Total fight duration: 4.5 seconds.\n"
     ]
    }
   ],
   "source": [
    "public class BattleGame {\n",
    "\n",
    "    // Define the object class\n",
    "    static class Fighter {\n",
    "        // Instance variables — unique for each object\n",
    "        String name;\n",
    "        int power;\n",
    "        int health;\n",
    "\n",
    "        // Static variable — shared by all fighters\n",
    "        static double fightDuration = 0.0;\n",
    "\n",
    "        // Constructor\n",
    "        public Fighter(String name, int power, int health) {\n",
    "            this.name = name;\n",
    "            this.power = power;\n",
    "            this.health = health;\n",
    "        }\n",
    "\n",
    "        // Instance method: attack another fighter\n",
    "        public void attack(Fighter opponent) {\n",
    "            System.out.println(name + \" attacks \" + opponent.name + \" with power \" + power + \"!\");\n",
    "            opponent.health -= power; // reduce opponent’s health\n",
    "            if (opponent.health < 0) opponent.health = 0;\n",
    "            fightDuration += 1.5; // each attack adds time\n",
    "        }\n",
    "\n",
    "        // Instance method: print current status\n",
    "        public void printStatus() {\n",
    "            System.out.println(name + \" → Health: \" + health + \" | Power: \" + power);\n",
    "        }\n",
    "\n",
    "        // Static method: determine stronger fighter (by power)\n",
    "        public static int strongerFighter(Fighter f1, Fighter f2) {\n",
    "            if (f1.power > f2.power) {\n",
    "                return 1;  // f1 stronger\n",
    "            } else if (f1.power < f2.power) {\n",
    "                return 2;  // f2 stronger\n",
    "            } else {\n",
    "                return 0;  // tie\n",
    "            }\n",
    "        }\n",
    "\n",
    "        // Static method: begin the battle\n",
    "        public static void beginBattle(Fighter f1, Fighter f2) {\n",
    "            System.out.println(\"\\n The battle begins between \" + f1.name + \" and \" + f2.name + \"! ⚔️\");\n",
    "            fightDuration = 0.0;\n",
    "        }\n",
    "    }\n",
    "\n",
    "    public static void main(String[] args) {\n",
    "        Fighter robot = new Fighter(\"RoboX\", 25, 100);\n",
    "        Fighter dino = new Fighter(\"T-Rex\", 20, 120);\n",
    "\n",
    "        Fighter.beginBattle(robot, dino);\n",
    "\n",
    "        robot.attack(dino);\n",
    "        dino.attack(robot);\n",
    "        robot.attack(dino);\n",
    "\n",
    "        System.out.println();\n",
    "        robot.printStatus();\n",
    "        dino.printStatus();\n",
    "\n",
    "        int result = Fighter.strongerFighter(robot, dino);\n",
    "        if (result == 1) {\n",
    "            System.out.println(\"\\n \" + robot.name + \" is the stronger fighter!\");\n",
    "        } else if (result == 2) {\n",
    "            System.out.println(\"\\n \" + dino.name + \" is the stronger fighter!\");\n",
    "        } else {\n",
    "            System.out.println(\"\\n Both fighters are equally strong!\");\n",
    "        }\n",
    "\n",
    "        System.out.println(\"\\n Total fight duration: \" + Fighter.fightDuration + \" seconds.\");\n",
    "    }\n",
    "}\n"
   ]
  }
 ],
 "metadata": {
  "kernelspec": {
   "display_name": "Java",
   "language": "java",
   "name": "java"
  },
  "language_info": {
   "codemirror_mode": "java",
   "file_extension": ".jshell",
   "mimetype": "text/x-java-source",
   "name": "java",
   "pygments_lexer": "java",
   "version": "21.0.8+9-Ubuntu-0ubuntu124.04.1"
  }
 },
 "nbformat": 4,
 "nbformat_minor": 2
}
