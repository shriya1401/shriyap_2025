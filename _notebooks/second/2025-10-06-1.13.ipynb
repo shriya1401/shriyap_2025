{
 "cells": [
  {
   "cell_type": "markdown",
   "metadata": {},
   "source": [
    "---\n",
    "layout : post\n",
    "title : Lesson 1.13\n",
    "descriptions : By - Shriya Paladugu\n",
    "courses : { csp: {week: 1} }\n",
    "comments: true\n",
    "sticky_rank: 1\n",
    "\n",
    "---"
   ]
  },
  {
   "cell_type": "markdown",
   "metadata": {},
   "source": [
    "<link rel=\"stylesheet\"\n",
    "  href=\"https://cdnjs.cloudflare.com/ajax/libs/highlight.js/11.8.0/styles/github-dark.min.css\">\n",
    "<script src=\"https://cdnjs.cloudflare.com/ajax/libs/highlight.js/11.8.0/highlight.min.js\"></script>\n",
    "<script>hljs.highlightAll();</script>\n"
   ]
  },
  {
   "cell_type": "markdown",
   "metadata": {},
   "source": [
    "# CSA Unit 1.13\n"
   ]
  },
  {
   "cell_type": "markdown",
   "metadata": {},
   "source": [
    "## Popcorn Hack #1"
   ]
  },
  {
   "cell_type": "code",
   "execution_count": null,
   "metadata": {
    "vscode": {
     "languageId": "java"
    }
   },
   "outputs": [
    {
     "name": "stdout",
     "output_type": "stream",
     "text": [
      "Primitives (Stack):\n",
      "a = 10\n",
      "b = 20\n",
      "\n",
      "Arrays (Heap):\n",
      "array1[0] = 99\n",
      "array2[0] = 99\n"
     ]
    }
   ],
   "source": [
    "public class MemoryDemo {\n",
    "    public static void main(String[] args) {\n",
    "        // Stack variables\n",
    "        int a = 10;\n",
    "        int b = a;  // Copy of value\n",
    "        b = 20;     // Changing b doesn't affect a\n",
    "        \n",
    "        System.out.println(\"Primitives (Stack):\");\n",
    "        System.out.println(\"a = \" + a);  // Still 10\n",
    "        System.out.println(\"b = \" + b);  // Now it's 20\n",
    "        \n",
    "        // Heap variables\n",
    "        int[] array1 = {1, 2, 3};\n",
    "        int[] array2 = array1;  // Copy of reference (address)\n",
    "        array2[0] = 99;         // Changing array2 DOES affect array1\n",
    "        \n",
    "        System.out.println(\"\\nArrays (Heap):\");\n",
    "        System.out.println(\"array1[0] = \" + array1[0]);  // Now it's 99!\n",
    "        System.out.println(\"array2[0] = \" + array2[0]);  // Also 99\n",
    "    }\n",
    "}"
   ]
  },
  {
   "cell_type": "markdown",
   "metadata": {},
   "source": [
    "## Questions\n",
    "\n",
    "### 1. Why does changing b not affect a, but changing array2 affects array1\n",
    "- a and b are primitive variables stored directly on the stack.  \n",
    "  When b = a, a copy of the value (10) is made.  \n",
    "  Changing b later doesn’t affect a because they are two separate values.\n",
    "\n",
    "- array1 and array2 are references to the same array object in the heap.  \n",
    "  When array2 = array1, both point to the same memory address.  \n",
    "  Changing the contents of array2 also changes what array1 sees.\n",
    "\n",
    "---\n",
    "\n",
    "### 2. Describe what’s on the stack vs. the heap for this code\n",
    "- Stack:  \n",
    "  Stores local variables and references (a, b, array1, and array2).\n",
    "\n",
    "- Heap:  \n",
    "  Stores the actual array object {99, 2, 3} that both array1 and array2 reference.\n"
   ]
  },
  {
   "cell_type": "markdown",
   "metadata": {},
   "source": [
    "## Popcorn Hack #2"
   ]
  },
  {
   "cell_type": "code",
   "execution_count": null,
   "metadata": {
    "vscode": {
     "languageId": "java"
    }
   },
   "outputs": [
    {
     "name": "stdout",
     "output_type": "stream",
     "text": [
      "Before birthday: John is 20\n",
      "Inside method: John is now 21\n",
      "After birthday: John is 21\n",
      "\n",
      "Before reassign: John is 21\n",
      "Inside reassign: New Person is 99\n",
      "After reassign: John is 21\n"
     ]
    }
   ],
   "source": [
    "public class PersonDemo {\n",
    "    static class Person {\n",
    "        String name;\n",
    "        int age;\n",
    "        \n",
    "        Person(String name, int age) {\n",
    "            this.name = name;\n",
    "            this.age = age;\n",
    "        }\n",
    "    }\n",
    "    \n",
    "    public static void haveBirthday(Person p) {\n",
    "        p.age = p.age + 1;  // Modifying object content\n",
    "        System.out.println(\"Inside method: \" + p.name + \" is now \" + p.age);\n",
    "    }\n",
    "    \n",
    "    public static void reassignPerson(Person p) {\n",
    "        p = new Person(\"New Person\", 99);  // Reassigning reference\n",
    "        System.out.println(\"Inside reassign: \" + p.name + \" is \" + p.age);\n",
    "    }\n",
    "    \n",
    "    public static void main(String[] args) {\n",
    "        Person john = new Person(\"John\", 20);\n",
    "        \n",
    "        System.out.println(\"Before birthday: \" + john.name + \" is \" + john.age);\n",
    "        haveBirthday(john);\n",
    "        System.out.println(\"After birthday: \" + john.name + \" is \" + john.age);\n",
    "        \n",
    "        System.out.println(\"\\nBefore reassign: \" + john.name + \" is \" + john.age);\n",
    "        reassignPerson(john);\n",
    "        System.out.println(\"After reassign: \" + john.name + \" is \" + john.age);\n",
    "    }\n",
    "}"
   ]
  },
  {
   "cell_type": "markdown",
   "metadata": {},
   "source": [
    "## Questions\n",
    "\n",
    "### 1. After haveBirthday(john) is called\n",
    "- **John’s age:** 21  \n",
    "- **Why:**  \n",
    "  The haveBirthday method modifies the *contents* of the same Person object that both john and p reference.  \n",
    "  Since they point to the **same memory location on the heap**, increasing p.age also changes john.age.\n",
    "\n",
    "---\n",
    "\n",
    "### 2. After reassignPerson(john) is called\n",
    "- **John’s name:** \"John\"  \n",
    "- **John’s age:** 21  \n",
    "- **Why:**  \n",
    "  Inside reassignPerson, the parameter p is reassigned to a **new Person object**.  \n",
    "  This only changes the local reference p, not the original variable john in main().  \n",
    "  Therefore, john continues to refer to the original object with name \"John\" and age 21.\n",
    "\n",
    "---\n",
    "\n",
    "### 3. Modifying vs. Reassigning\n",
    "- **Modifying an object’s contents:**  \n",
    "  Changes data *inside* the existing object (affects all references to it).\n",
    "\n",
    "- **Reassigning a reference:**  \n",
    "  Changes which object a variable points to (affects only that reference, not others)."
   ]
  },
  {
   "cell_type": "markdown",
   "metadata": {},
   "source": [
    "## Homework Hack #1"
   ]
  },
  {
   "cell_type": "code",
   "execution_count": null,
   "metadata": {
    "vscode": {
     "languageId": "java"
    }
   },
   "outputs": [
    {
     "name": "stdout",
     "output_type": "stream",
     "text": [
      "Car: Tesla (2024)\n",
      "Car: Toyota (2021)\n"
     ]
    }
   ],
   "source": [
    "public class ObjectCreation {\n",
    "    public static void main(String[] args) {\n",
    "        // 1. Create two Car objects using 'new'\n",
    "        Car car1 = new Car(\"Tesla\", 2024);\n",
    "        Car car2 = new Car(\"Toyota\", 2021);\n",
    "\n",
    "        // 2. Print each car's info\n",
    "        System.out.println(\"car1: \" + car1);\n",
    "        System.out.println(\"car2: \" + car2);\n",
    "    }\n",
    "}\n",
    "\n",
    "class Car {\n",
    "    // 1. Declare variables\n",
    "    String brand;\n",
    "    int year;\n",
    "\n",
    "    // 2. Create a constructor to set those variables\n",
    "    public Car(String brand, int year) {\n",
    "        this.brand = brand;\n",
    "        this.year = year;\n",
    "    }\n",
    "\n",
    "    // 3. Add a toString() to display car info\n",
    "    public String toString() {\n",
    "        return \"Car: \" + brand + \" (\" + year + \")\";\n",
    "    }\n",
    "}\n"
   ]
  },
  {
   "cell_type": "markdown",
   "metadata": {},
   "source": [
    "## Homework Hack #2"
   ]
  },
  {
   "cell_type": "code",
   "execution_count": null,
   "metadata": {
    "vscode": {
     "languageId": "java"
    }
   },
   "outputs": [
    {
     "name": "stdout",
     "output_type": "stream",
     "text": [
      "pages : 500\n",
      "pagesCopy : 300\n",
      "b1 : Book title: Advanced Java\n",
      "b2 : Book title: Advanced Java\n"
     ]
    }
   ],
   "source": [
    "public class HeapVsStack {\n",
    "    public static void main(String[] args) {\n",
    "        // 1. Primitive variable\n",
    "        int pages = 300;\n",
    "\n",
    "        // 2. Copy the primitive variable\n",
    "        int pagesCopy = pages;\n",
    "\n",
    "        // 3. Create a Book object\n",
    "        Book b1 = new Book(\"Java Basics\");\n",
    "\n",
    "        // 4. Copy the Book reference\n",
    "        Book b2 = b1;\n",
    "\n",
    "        // 5. Change original values\n",
    "        pages = 500;\n",
    "        b1.title = \"Advanced Java\";\n",
    "\n",
    "        // 6. Print results\n",
    "        System.out.println(\"pages: \" + pages);\n",
    "        System.out.println(\"pagesCopy: \" + pagesCopy);\n",
    "        System.out.println(\"b1: \" + b1);\n",
    "        System.out.println(\"b2: \" + b2);\n",
    "    }\n",
    "}\n",
    "\n",
    "class Book {\n",
    "    String title;\n",
    "\n",
    "    public Book(String title) {\n",
    "        this.title = title;\n",
    "    }\n",
    "\n",
    "    public String toString() {\n",
    "        return \"Book title: \" + title;\n",
    "    }\n",
    "}\n"
   ]
  }
 ],
 "metadata": {
  "kernelspec": {
   "display_name": "Java",
   "language": "java",
   "name": "java"
  },
  "language_info": {
   "codemirror_mode": "java",
   "file_extension": ".jshell",
   "mimetype": "text/x-java-source",
   "name": "Java",
   "pygments_lexer": "java",
   "version": "21.0.8+9-Ubuntu-0ubuntu124.04.1"
  }
 },
 "nbformat": 4,
 "nbformat_minor": 2
}
