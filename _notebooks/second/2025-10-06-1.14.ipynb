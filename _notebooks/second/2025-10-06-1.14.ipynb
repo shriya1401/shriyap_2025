{
 "cells": [
  {
   "cell_type": "markdown",
   "metadata": {},
   "source": [
    "---\n",
    "layout : post\n",
    "title : Lesson 1.14\n",
    "descriptions : By - Shriya Paladugu\n",
    "courses : { csp: {week: 1} }\n",
    "comments: true\n",
    "sticky_rank: 1\n",
    "\n",
    "---"
   ]
  },
  {
   "cell_type": "markdown",
   "metadata": {},
   "source": [
    "<link rel=\"stylesheet\"\n",
    "  href=\"https://cdnjs.cloudflare.com/ajax/libs/highlight.js/11.8.0/styles/github-dark.min.css\">\n",
    "<script src=\"https://cdnjs.cloudflare.com/ajax/libs/highlight.js/11.8.0/highlight.min.js\"></script>\n",
    "<script>hljs.highlightAll();</script>\n"
   ]
  },
  {
   "cell_type": "markdown",
   "metadata": {},
   "source": [
    "# CSA Unit 1.14\n"
   ]
  },
  {
   "cell_type": "markdown",
   "metadata": {},
   "source": [
    "## Popcorn Hack #1"
   ]
  },
  {
   "cell_type": "code",
   "execution_count": null,
   "metadata": {
    "vscode": {
     "languageId": "java"
    }
   },
   "outputs": [
    {
     "name": "stdout",
     "output_type": "stream",
     "text": [
      "My dog Buddy is a Golden Retriever!\n"
     ]
    }
   ],
   "source": [
    "// Work by [Your Name Here]\n",
    "\n",
    "public class Dog {\n",
    "    private String name;\n",
    "    private String breed;\n",
    "\n",
    "    public Dog(String name, String breed) {\n",
    "        this.name = name;\n",
    "        this.breed = breed;\n",
    "    }\n",
    "\n",
    "    public void introduce() {\n",
    "        System.out.println(\"My dog \" + name + \" is a \" + breed + \"!\");\n",
    "    }\n",
    "}\n",
    "\n",
    "// To use it:\n",
    "public class DogDemo {\n",
    "    public static void main(String[] args) {\n",
    "        Dog d = new Dog(\"Buddy\", \"Golden Retriever\");\n",
    "        d.introduce();\n",
    "    }\n",
    "}\n"
   ]
  },
  {
   "cell_type": "markdown",
   "metadata": {},
   "source": [
    "## Popcorn Hack 2"
   ]
  },
  {
   "cell_type": "code",
   "execution_count": null,
   "metadata": {
    "vscode": {
     "languageId": "java"
    }
   },
   "outputs": [
    {
     "name": "stdout",
     "output_type": "stream",
     "text": [
      "Counter value: 6\n"
     ]
    }
   ],
   "source": [
    "public class Counter {\n",
    "    private int count;\n",
    "\n",
    "    public void add(int x) {\n",
    "        count += x;\n",
    "    }\n",
    "\n",
    "    public void subtract(int x) {\n",
    "        count -= x;\n",
    "    }\n",
    "\n",
    "    public void multiply(int x) {\n",
    "        count *= x;\n",
    "    }\n",
    "\n",
    "    public void divide(int x) {\n",
    "        if (x != 0) {\n",
    "            count /= x;\n",
    "        } else {\n",
    "            System.out.println(\"Cannot divide by zero!\");\n",
    "        }\n",
    "    }\n",
    "\n",
    "    public int getCount() {\n",
    "        return count;\n",
    "    }\n",
    "\n",
    "    public static void main(String[] args) {\n",
    "        Counter c = new Counter();\n",
    "\n",
    "        c.add(10);        // count = 10\n",
    "        c.subtract(2);    // count = 8\n",
    "        c.multiply(3);    // count = 24\n",
    "        c.divide(4);      // count = 6\n",
    "\n",
    "        System.out.println(\"Final count: \" + c.getCount());\n",
    "    }\n",
    "}\n"
   ]
  },
  {
   "cell_type": "markdown",
   "metadata": {},
   "source": [
    "## Homework Hack"
   ]
  },
  {
   "cell_type": "code",
   "execution_count": null,
   "metadata": {
    "vscode": {
     "languageId": "java"
    }
   },
   "outputs": [
    {
     "name": "stdout",
     "output_type": "stream",
     "text": [
      "=== Student Grade Tracker (Bonus Version) ===\n",
      "\n",
      "Adding grade: 95 points\n",
      "Adding grade: 88 points\n",
      "Adding grade: 92 points\n",
      "Adding grade: 85 points\n",
      "Student Name: Emma Rodriguez\n",
      "Grades: [95, 88, 92, 85]\n",
      "Average: 90.00\n",
      "Highest Grade: 95\n",
      "Lowest Grade: 85\n",
      "Letter Grade: A\n",
      "\n",
      "Dropped lowest grade: 85\n",
      "--- After Dropping Lowest Grade ---\n",
      "Student Name: Emma Rodriguez\n",
      "Grades: [95, 88, 92]\n",
      "Average: 91.67\n",
      "Highest Grade: 95\n",
      "Lowest Grade: 88\n",
      "Letter Grade: A\n",
      "\n",
      "Adding grade: 78 points\n",
      "Adding grade: 82 points\n",
      "Adding grade: 75 points\n",
      "Student Name: James Wilson\n",
      "Grades: [78, 82, 75]\n",
      "Average: 78.33\n",
      "Highest Grade: 82\n",
      "Lowest Grade: 75\n",
      "Letter Grade: C\n",
      "\n",
      "Emma Rodriguez has a higher average than James Wilson\n",
      "All grades have been reset for Emma Rodriguez.\n",
      "Student Name: Emma Rodriguez\n",
      "Grades: []\n",
      "Average: 0.00\n",
      "Highest Grade: 0\n",
      "Lowest Grade: 0\n",
      "Letter Grade: F\n"
     ]
    }
   ],
   "source": [
    "import java.util.ArrayList;\n",
    "import java.util.Collections;\n",
    "\n",
    "public class StudentGradeTracker {\n",
    "    private String name;\n",
    "    private ArrayList<Integer> grades;\n",
    "\n",
    "    public StudentGradeTracker(String name) {\n",
    "        this.name = name;\n",
    "        this.grades = new ArrayList<>();\n",
    "    }\n",
    "\n",
    "    // Adds a grade with error checking\n",
    "    public void addGrade(int points) {\n",
    "        if (points < 0 || points > 100) {\n",
    "            System.out.println(\"Error: Invalid grade. Must be between 0 and 100.\");\n",
    "            return;\n",
    "        }\n",
    "        grades.add(points);\n",
    "        System.out.println(\"Adding grade: \" + points + \" points\");\n",
    "    }\n",
    "\n",
    "    public double getAverage() {\n",
    "        if (grades.isEmpty()) return 0.0;\n",
    "        int total = 0;\n",
    "        for (int g : grades) total += g;\n",
    "        return (double) total / grades.size();\n",
    "    }\n",
    "\n",
    "    public String getLetterGrade() {\n",
    "        double avg = getAverage();\n",
    "        if (avg >= 90) return \"A\";\n",
    "        else if (avg >= 80) return \"B\";\n",
    "        else if (avg >= 70) return \"C\";\n",
    "        else if (avg >= 60) return \"D\";\n",
    "        else return \"F\";\n",
    "    }\n",
    "\n",
    "    public int getHighestGrade() {\n",
    "        if (grades.isEmpty()) return 0;\n",
    "        return Collections.max(grades);\n",
    "    }\n",
    "\n",
    "    public int getLowestGrade() {\n",
    "        if (grades.isEmpty()) return 0;\n",
    "        return Collections.min(grades);\n",
    "    }\n",
    "\n",
    "    public void dropLowestGrade() {\n",
    "        if (!grades.isEmpty()) {\n",
    "            int lowest = getLowestGrade();\n",
    "            grades.remove(Integer.valueOf(lowest));\n",
    "            System.out.println(\"Dropped lowest grade: \" + lowest);\n",
    "        }\n",
    "    }\n",
    "\n",
    "    public void reset() {\n",
    "        grades.clear();\n",
    "        System.out.println(\"All grades have been reset for \" + name + \".\");\n",
    "    }\n",
    "\n",
    "    public int compareTo(StudentGradeTracker other) {\n",
    "        return Double.compare(this.getAverage(), other.getAverage());\n",
    "    }\n",
    "\n",
    "    public void printReport() {\n",
    "        System.out.println(\"Student Name: \" + name);\n",
    "        System.out.println(\"Grades: \" + grades);\n",
    "        System.out.printf(\"Average: %.2f\\n\", getAverage());\n",
    "        System.out.println(\"Highest Grade: \" + getHighestGrade());\n",
    "        System.out.println(\"Lowest Grade: \" + getLowestGrade());\n",
    "        System.out.println(\"Letter Grade: \" + getLetterGrade());\n",
    "        System.out.println();\n",
    "    }\n",
    "\n",
    "    public static void main(String[] args) {\n",
    "        System.out.println(\"=== Student Grade Tracker (Bonus Version) ===\\n\");\n",
    "\n",
    "        StudentGradeTracker emma = new StudentGradeTracker(\"Emma Rodriguez\");\n",
    "        emma.addGrade(95);\n",
    "        emma.addGrade(88);\n",
    "        emma.addGrade(92);\n",
    "        emma.addGrade(85);\n",
    "        emma.printReport();\n",
    "\n",
    "        emma.dropLowestGrade();\n",
    "        System.out.println(\"--- After Dropping Lowest Grade ---\");\n",
    "        emma.printReport();\n",
    "\n",
    "        StudentGradeTracker james = new StudentGradeTracker(\"James Wilson\");\n",
    "        james.addGrade(78);\n",
    "        james.addGrade(82);\n",
    "        james.addGrade(75);\n",
    "        james.printReport();\n",
    "\n",
    "        int comparison = emma.compareTo(james);\n",
    "        if (comparison > 0)\n",
    "            System.out.println(emma.name + \" has a higher average than \" + james.name);\n",
    "        else if (comparison < 0)\n",
    "            System.out.println(james.name + \" has a higher average than \" + emma.name);\n",
    "        else\n",
    "            System.out.println(\"Both students have the same average!\");\n",
    "\n",
    "        emma.reset();\n",
    "        emma.printReport();\n",
    "    }\n",
    "}\n"
   ]
  },
  {
   "cell_type": "markdown",
   "metadata": {},
   "source": [
    "## Self-Grade\n",
    "\n",
    "| **Category** | **Score** | **Comment** |\n",
    "|---------------|------------|-------------|\n",
    "| **Functionality** | 39/40 | My program runs perfectly and calculates averages and grades correctly for both students. |\n",
    "| **Method Implementation** | 29/30 | I implemented all required methods and used instance variables properly. |\n",
    "| **Code Quality** | 18/20 | Code is well-organized and uses clear variable names. I could add more comments next time. |\n",
    "| **Output & Presentation** | 9/10 | Output is neatly formatted and matches the example provided. |\n",
    "\n",
    "**Final Score:** **95/100**\n",
    "\n",
    "\n",
    "##### Image Proof (Link to issue)\n",
    "https://github.com/shriya1401/shriyap_2025/issues/14\n"
   ]
  }
 ],
 "metadata": {
  "kernelspec": {
   "display_name": "Java",
   "language": "java",
   "name": "java"
  },
  "language_info": {
   "codemirror_mode": "java",
   "file_extension": ".jshell",
   "mimetype": "text/x-java-source",
   "name": "Java",
   "pygments_lexer": "java",
   "version": "21.0.8+9-Ubuntu-0ubuntu124.04.1"
  }
 },
 "nbformat": 4,
 "nbformat_minor": 2
}
