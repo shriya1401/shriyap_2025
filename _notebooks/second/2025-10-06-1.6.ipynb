{
 "cells": [
  {
   "cell_type": "markdown",
   "metadata": {},
   "source": [
    "---\n",
    "layout : post\n",
    "title : Lesson 1.6\n",
    "descriptions : By - Shriya Paladugu\n",
    "courses : { csp: {week: 1} }\n",
    "comments: true\n",
    "sticky_rank: 1\n",
    "\n",
    "---"
   ]
  },
  {
   "cell_type": "markdown",
   "metadata": {},
   "source": [
    "<link rel=\"stylesheet\"\n",
    "  href=\"https://cdnjs.cloudflare.com/ajax/libs/highlight.js/11.8.0/styles/github-dark.min.css\">\n",
    "<script src=\"https://cdnjs.cloudflare.com/ajax/libs/highlight.js/11.8.0/highlight.min.js\"></script>\n",
    "<script>hljs.highlightAll();</script>\n"
   ]
  },
  {
   "cell_type": "markdown",
   "metadata": {},
   "source": [
    "# CSA Unit 1.6 — Assignment Statements and Input\n"
   ]
  },
  {
   "cell_type": "markdown",
   "metadata": {},
   "source": [
    "## Popcorn Hack #1"
   ]
  },
  {
   "cell_type": "code",
   "execution_count": 1,
   "metadata": {
    "vscode": {
     "languageId": "java"
    }
   },
   "outputs": [
    {
     "data": {
      "text/plain": [
       "68"
      ]
     },
     "execution_count": 1,
     "metadata": {},
     "output_type": "execute_result"
    }
   ],
   "source": [
    "int playerScore = 1000;\n",
    "int playerHealth = 100;\n",
    "int enemiesDefeated = 0;\n",
    "\n",
    "// Player defeats an enemy worth 250 points\n",
    "playerScore += 250;\n",
    "\n",
    "// Player takes 15 damage\n",
    "playerHealth -= 15;\n",
    "\n",
    "// Enemy count goes up\n",
    "enemiesDefeated++;\n",
    "\n",
    "// Boss battle: double the current score\n",
    "playerScore *= 2;\n",
    "\n",
    "// Healing potion restores health to 80% of current\n",
    "playerHealth *= 4;\n",
    "playerHealth /= 5;   // integer math: equivalent to 80% of current health\n"
   ]
  },
  {
   "cell_type": "markdown",
   "metadata": {},
   "source": [
    "## Popcorn Hack #2"
   ]
  },
  {
   "cell_type": "code",
   "execution_count": null,
   "metadata": {
    "vscode": {
     "languageId": "java"
    }
   },
   "outputs": [
    {
     "name": "stdout",
     "output_type": "stream",
     "text": [
      "=== Bank Account Manager ===\n",
      "Starting balance: $1500.0\n",
      "---------------------------------------\n",
      "Added monthly salary. Balance: $4500.0\n",
      "Paid rent. Balance: $3300.0\n",
      "Applied monthly fee. Balance: $3287.5\n",
      "Applied monthly interest. Balance: $3353.25\n",
      "Average balance per transaction: $1117.75\n",
      "Account tier check (balance % 5): 3\n",
      "---------------------------------------\n",
      "End of month summary:\n",
      "Final Balance: $3353.25\n",
      "Transactions this month: 3\n",
      "Average transaction balance: $1117.75\n",
      "=======================================\n"
     ]
    }
   ],
   "source": [
    "// Initial account setup\n",
    "double balance = 1500.00;     // Current bank balance\n",
    "int transactions = 0;         // Number of transactions made this month\n",
    "double monthlyFee = 12.50;    // Bank maintenance fee\n",
    "double interestRate = 1.02;   // 2% interest multiplier\n",
    "\n",
    "System.out.println(\"=== Bank Account Manager ===\");\n",
    "System.out.println(\"Starting balance: $\" + balance);\n",
    "System.out.println(\"---------------------------------------\");\n",
    "\n",
    "// Add monthly salary deposit\n",
    "balance += 3000.00; \n",
    "transactions++;\n",
    "System.out.println(\"Added monthly salary. Balance: $\" + balance);\n",
    "\n",
    "// Subtract rent payment\n",
    "balance -= 1200.00; \n",
    "transactions++;\n",
    "System.out.println(\"Paid rent. Balance: $\" + balance);\n",
    "\n",
    "// Apply monthly maintenance fee\n",
    "balance -= monthlyFee;\n",
    "transactions++;\n",
    "System.out.println(\"Applied monthly fee. Balance: $\" + balance);\n",
    "\n",
    "// Apply 2% interest on remaining balance\n",
    "balance *= interestRate; \n",
    "System.out.println(\"Applied monthly interest. Balance: $\" + balance);\n",
    "\n",
    "// Average spending per transaction (rough estimate)\n",
    "double averageTransaction = balance / transactions;\n",
    "System.out.println(\"Average balance per transaction: $\" + averageTransaction);\n",
    "\n",
    "// Check account tier (remainder when divided by 5)\n",
    "int tier = (int) balance % 5;\n",
    "System.out.println(\"Account tier check (balance % 5): \" + tier);\n",
    "\n",
    "System.out.println(\"---------------------------------------\");\n",
    "System.out.println(\"End of month summary:\");\n",
    "System.out.println(\"Final Balance: $\" + balance);\n",
    "System.out.println(\"Transactions this month: \" + transactions);\n",
    "System.out.println(\"Average transaction balance: $\" + averageTransaction);\n",
    "System.out.println(\"=======================================\");\n"
   ]
  }
 ],
 "metadata": {
  "kernelspec": {
   "display_name": "Java",
   "language": "java",
   "name": "java"
  },
  "language_info": {
   "codemirror_mode": "java",
   "file_extension": ".jshell",
   "mimetype": "text/x-java-source",
   "name": "Java",
   "pygments_lexer": "java",
   "version": "21.0.8+9-Ubuntu-0ubuntu124.04.1"
  }
 },
 "nbformat": 4,
 "nbformat_minor": 2
}
