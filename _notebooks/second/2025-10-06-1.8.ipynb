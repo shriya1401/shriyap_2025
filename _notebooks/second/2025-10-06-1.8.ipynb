{
 "cells": [
  {
   "cell_type": "markdown",
   "metadata": {},
   "source": [
    "---\n",
    "layout : post\n",
    "title : Lesson 1.8\n",
    "descriptions : By - Shriya Paladugu\n",
    "courses : { csp: {week: 1} }\n",
    "comments: true\n",
    "sticky_rank: 1\n",
    "\n",
    "---"
   ]
  },
  {
   "cell_type": "markdown",
   "metadata": {},
   "source": [
    "<link rel=\"stylesheet\"\n",
    "  href=\"https://cdnjs.cloudflare.com/ajax/libs/highlight.js/11.8.0/styles/github-dark.min.css\">\n",
    "<script src=\"https://cdnjs.cloudflare.com/ajax/libs/highlight.js/11.8.0/highlight.min.js\"></script>\n",
    "<script>hljs.highlightAll();</script>\n"
   ]
  },
  {
   "cell_type": "markdown",
   "metadata": {},
   "source": [
    "# CSA Unit 1.9 — Assignment Statements and Input\n"
   ]
  },
  {
   "cell_type": "markdown",
   "metadata": {},
   "source": [
    "## Popcorn Hack #1"
   ]
  },
  {
   "cell_type": "code",
   "execution_count": 4,
   "metadata": {
    "vscode": {
     "languageId": "java"
    }
   },
   "outputs": [],
   "source": [
    "/**\n",
    " * Calculates the sum of all positive even numbers in the array.\n",
    " * \n",
    " * Preconditions:\n",
    " * - nums is not null\n",
    " * \n",
    " * Postconditions:\n",
    " * - Returns 0 if there are no positive even numbers\n",
    " *\n",
    " * @param nums the array of integers\n",
    " * @return the total of all positive even integers\n",
    " */\n",
    "public int doSomething(int[] nums) {\n",
    "    int result = 0;\n",
    "    for (int i = 0; i < nums.length; i++) {\n",
    "        if (nums[i] > 0 && nums[i] % 2 == 0) {\n",
    "            result += nums[i];\n",
    "        }\n",
    "    }\n",
    "    return result;\n",
    "}\n"
   ]
  },
  {
   "cell_type": "markdown",
   "metadata": {},
   "source": [
    "## Popcorn Hack #2"
   ]
  },
  {
   "cell_type": "code",
   "execution_count": 5,
   "metadata": {
    "vscode": {
     "languageId": "java"
    }
   },
   "outputs": [],
   "source": [
    "/**\n",
    " * Represents a grade book that stores assignments and calculates final grades.\n",
    " * \n",
    " * This class allows users to add assignments, assign category weights,\n",
    " * calculate a weighted final grade, and generate a simple report.\n",
    " * \n",
    " * Example:\n",
    " * GradeBook gb = new GradeBook();\n",
    " * gb.setCategoryWeight(\"Homework\", 0.4);\n",
    " * gb.setCategoryWeight(\"Tests\", 0.6);\n",
    " * gb.addAssignment(\"Homework\", \"HW1\", 95.0);\n",
    " * gb.addAssignment(\"Tests\", \"Unit Test\", 88.0);\n",
    " * double finalGrade = gb.calculateFinalGrade();\n",
    " * \n",
    " * @author Your Name\n",
    " * @version 1.0\n",
    " * @since 2025-10-13\n",
    " */\n",
    "public class GradeBook {\n",
    "    private HashMap<String, Double> assignments;\n",
    "    private HashMap<String, Double> categoryWeights;\n",
    "    private double extraCredit;\n",
    "\n",
    "    /**\n",
    "     * Adds an assignment score to a specific category.\n",
    "     *\n",
    "     * @param category the category name (e.g., \"Homework\")\n",
    "     * @param name the name of the assignment\n",
    "     * @param score the score earned (0–100)\n",
    "     */\n",
    "    public void addAssignment(String category, String name, double score) { }\n",
    "\n",
    "    /**\n",
    "     * Sets the weight for a given category.\n",
    "     *\n",
    "     * @param category the category name\n",
    "     * @param weight the category’s weight (e.g., 0.3 for 30%)\n",
    "     */\n",
    "    public void setCategoryWeight(String category, double weight) { }\n",
    "\n",
    "    /**\n",
    "     * Calculates the final weighted grade including extra credit.\n",
    "     *\n",
    "     * @return the final grade as a percentage\n",
    "     */\n",
    "    public double calculateFinalGrade() { return 0.0; }\n",
    "\n",
    "    /**\n",
    "     * Generates a simple grade report listing categories and scores.\n",
    "     *\n",
    "     * @return a string containing the formatted grade report\n",
    "     */\n",
    "    public String generateReport() { return \"\"; }\n",
    "}\n"
   ]
  },
  {
   "cell_type": "markdown",
   "metadata": {},
   "source": [
    "## Part 1"
   ]
  },
  {
   "cell_type": "code",
   "execution_count": 6,
   "metadata": {
    "vscode": {
     "languageId": "java"
    }
   },
   "outputs": [],
   "source": [
    "/**\n",
    " * Demonstrates adding two integers using a helper method.\n",
    " * \n",
    " * This program defines a method that adds two numbers and prints the result.\n",
    " * It serves as a simple example of documentation and method use.\n",
    " * \n",
    " * @author Your Name\n",
    " * @version 1.0\n",
    " * @since 2025-10-13\n",
    " */\n",
    "public class Stuff {\n",
    "\n",
    "    /**\n",
    "     * The main method that runs the program.\n",
    "     * Initializes two integers, adds them, and prints the result.\n",
    "     *\n",
    "     * @param args command-line arguments (not used)\n",
    "     */\n",
    "    public static void main(String[] args) {\n",
    "        int x = 5;\n",
    "        int y = 10;\n",
    "        int z = add(x, y);\n",
    "        System.out.println(\"The sum is \" + z);\n",
    "    }\n",
    "\n",
    "    /**\n",
    "     * Adds two integers and returns their sum.\n",
    "     *\n",
    "     * Preconditions:\n",
    "     * - a and b are valid integers\n",
    "     * \n",
    "     * Postconditions:\n",
    "     * - Returns the correct sum of a and b\n",
    "     *\n",
    "     * @param a the first integer\n",
    "     * @param b the second integer\n",
    "     * @return the sum of a and b\n",
    "     */\n",
    "    public static int add(int a, int b) {\n",
    "        return a + b;\n",
    "    }\n",
    "}\n"
   ]
  },
  {
   "cell_type": "markdown",
   "metadata": {},
   "source": [
    "### Explanation of Improvements\n",
    "\n",
    "- Added clear Javadoc comments for the class and methods.  \n",
    "- Included tags for author, version, and parameters.  \n",
    "- Added simple preconditions and postconditions.  \n",
    "- Fixed the class name to follow Java conventions (Stuff).  \n",
    "- Made the print message and formatting clearer.\n"
   ]
  },
  {
   "cell_type": "markdown",
   "metadata": {},
   "source": [
    "## Part 2"
   ]
  },
  {
   "cell_type": "code",
   "execution_count": 7,
   "metadata": {
    "vscode": {
     "languageId": "java"
    }
   },
   "outputs": [],
   "source": [
    "/**\n",
    " * Enrolls a student in a course if all enrollment conditions are met.\n",
    " * \n",
    " * This method checks that both the student and course exist, ensures\n",
    " * the course is not full, verifies prerequisites, checks for schedule\n",
    " * conflicts, and confirms the student will not exceed 18 credit hours.\n",
    " * If all conditions pass, the student is added to the course and the\n",
    " * enrollment is recorded.\n",
    " * \n",
    " * Preconditions:\n",
    " * - studentId and courseCode are valid (not null or empty)\n",
    " * - semester is a valid semester number\n",
    " * \n",
    " * Postconditions:\n",
    " * - Student is enrolled in the course if all checks pass\n",
    " * - Returns true if enrollment succeeds, false otherwise\n",
    " *\n",
    " * @param studentId the unique ID of the student\n",
    " * @param courseCode the code of the course to enroll in\n",
    " * @param semester the semester number for enrollment\n",
    " * @return true if the student was successfully enrolled, false otherwise\n",
    " */\n",
    "public boolean enrollStudent(String studentId, String courseCode, int semester) {\n",
    "    Student student = findStudentById(studentId);\n",
    "    if (student == null) return false;\n",
    "\n",
    "    Course course = findCourseByCode(courseCode);\n",
    "    if (course == null) return false;\n",
    "\n",
    "    if (course.isFull()) return false;\n",
    "    if (student.hasScheduleConflict(course)) return false;\n",
    "    if (!student.hasPrerequisites(course)) return false;\n",
    "    if (student.getCreditHours() + course.getCreditHours() > 18) return false;\n",
    "\n",
    "    student.addCourse(course);\n",
    "    course.addStudent(student);\n",
    "    recordEnrollmentTransaction(studentId, courseCode, semester);\n",
    "    return true;\n",
    "}\n"
   ]
  },
  {
   "cell_type": "markdown",
   "metadata": {},
   "source": [
    "## Reflection Questions"
   ]
  },
  {
   "cell_type": "markdown",
   "metadata": {
    "vscode": {
     "languageId": "java"
    }
   },
   "source": [
    "### Reflection Questions\n",
    "\n",
    "**1. Why is documentation more important in team projects than solo projects?**  \n",
    "Documentation is more important in team projects because multiple people need to understand and maintain the same code. Good comments and Javadoc help teammates quickly learn how methods work, what inputs they expect, and what results they produce. Without documentation, team members waste time guessing how parts of the code function.\n",
    "\n",
    "**2. Give an example of when a method SHOULD be documented and when it SHOULD NOT.**  \n",
    "A method should be documented when it has complex logic, multiple conditions, or special cases — for example, a method that calculates student grades with weighted categories.  \n",
    "A method should not be documented when it’s simple or self-explanatory, such as a basic getter or setter like getName() or setAge().\n"
   ]
  },
  {
   "cell_type": "markdown",
   "metadata": {},
   "source": [
    "## Extra Credit "
   ]
  },
  {
   "cell_type": "markdown",
   "metadata": {
    "vscode": {
     "languageId": "java"
    }
   },
   "source": [
    "### Challenge 1"
   ]
  },
  {
   "cell_type": "code",
   "execution_count": 8,
   "metadata": {
    "vscode": {
     "languageId": "java"
    }
   },
   "outputs": [],
   "source": [
    "/**\n",
    " * Calculates the factorial of a given non-negative integer using recursion.\n",
    " * \n",
    " * The factorial of n (written as n!) is defined as:\n",
    " * - 0! = 1  (base case)\n",
    " * - n! = n * (n - 1)!  (recursive case)\n",
    " * \n",
    " * This method demonstrates a classic recursive pattern with a simple base case\n",
    " * and a recursive call that reduces the problem size at each step.\n",
    " * \n",
    " * Complexity Analysis:\n",
    " * - Time Complexity: O(n) — one recursive call per integer down to 1.\n",
    " * - Space Complexity: O(n) — due to recursive call stack.\n",
    " * \n",
    " * Preconditions:\n",
    " * - n must be greater than or equal to 0.\n",
    " * \n",
    " * Postconditions:\n",
    " * - Returns the factorial of n.\n",
    " *\n",
    " * @param n the non-negative integer to calculate the factorial of\n",
    " * @return the factorial of n\n",
    " */\n",
    "public int factorial(int n) {\n",
    "    if (n == 0) {  // Base case\n",
    "        return 1;\n",
    "    } else {       // Recursive case\n",
    "        return n * factorial(n - 1);\n",
    "    }\n",
    "}\n"
   ]
  },
  {
   "cell_type": "markdown",
   "metadata": {},
   "source": [
    "### Challenge 2"
   ]
  },
  {
   "cell_type": "markdown",
   "metadata": {},
   "source": [
    "\n",
    "#### When to Document\n",
    "- **Document when:**\n",
    "  - A method has multiple parameters, complex logic, or special cases.\n",
    "  - A class represents a main component or has several responsibilities.\n",
    "  - The method interacts with external systems (files, APIs, databases).\n",
    "  - Code decisions or algorithms are not immediately clear.\n",
    "\n",
    "- **Do not document when:**\n",
    "  - The method is a simple getter/setter.\n",
    "  - The method’s purpose is obvious from its name and one line of code.\n",
    "\n",
    "---\n",
    "\n",
    "#### Required Tags\n",
    "- @param and @return for all methods  \n",
    "- *Preconditions* and *Postconditions* for non-trivial logic  \n",
    "- @throws when exceptions can be raised  \n",
    "- @author, @version, and @since for classes  \n",
    "\n",
    "---\n",
    "\n",
    "#### Example Template\n",
    "```java\n",
    "/**\n",
    " * Calculates the area of a rectangle.\n",
    " *\n",
    " * @param length the length of the rectangle\n",
    " * @param width  the width of the rectangle\n",
    " * @return the calculated area\n",
    " */\n",
    "public double calculateArea(double length, double width) { ... }\n",
    "\n",
    "```\n",
    "#### Common Mistakes to Avoid\n",
    "- Over-documenting obvious code (like getName() or setAge()).\n",
    "- Using vague phrases such as “does stuff” or “handles data.”\n",
    "- Forgetting to update documentation after making code changes.\n",
    "- Leaving out @param or @return tags.\n",
    "- Writing preconditions or postconditions that don’t match the actual code.\n",
    "- Not explaining *why* the code works, only *what* it does.\n"
   ]
  },
  {
   "cell_type": "markdown",
   "metadata": {},
   "source": [
    "### Challenge 3\n"
   ]
  },
  {
   "cell_type": "markdown",
   "metadata": {},
   "source": [
    "\n",
    "### Project Selected\n",
    "**Repository:** [Data-Structures-In-Java by Deepak Malik](https://github.com/deepak-malik/Data-Structures-In-Java)  \n",
    "**File:** src/com/deepak/data/structures/Cache/LRUCache.java\n",
    "\n",
    "This class implements a simple Least Recently Used (LRU) cache using a LinkedHashMap, but the original version lacks detailed Javadoc and clear explanations of how the cache works, its eviction policy, and complexity.\n",
    "\n",
    "---\n",
    "\n",
    "### Before"
   ]
  },
  {
   "cell_type": "code",
   "execution_count": 11,
   "metadata": {
    "vscode": {
     "languageId": "java"
    }
   },
   "outputs": [],
   "source": [
    "public class LRUCache<K, V> {\n",
    "    private final int capacity;\n",
    "    private final LinkedHashMap<K, V> map;\n",
    "\n",
    "    public LRUCache(int capacity) {\n",
    "        this.capacity = capacity;\n",
    "        this.map = new LinkedHashMap<>(capacity, 0.75f, true);\n",
    "    }\n",
    "\n",
    "    public void put(K key, V value) {\n",
    "        map.put(key, value);\n",
    "        if (map.size() > capacity) {\n",
    "            Iterator<K> it = map.keySet().iterator();\n",
    "            it.next();\n",
    "            it.remove();\n",
    "        }\n",
    "    }\n",
    "\n",
    "    public V get(K key) {\n",
    "        return map.get(key);\n",
    "    }\n",
    "}"
   ]
  },
  {
   "cell_type": "markdown",
   "metadata": {},
   "source": [
    "### After"
   ]
  },
  {
   "cell_type": "code",
   "execution_count": 10,
   "metadata": {
    "vscode": {
     "languageId": "java"
    }
   },
   "outputs": [],
   "source": [
    "/**\n",
    " * A fixed-capacity Least Recently Used (LRU) cache that evicts the oldest entry\n",
    " * when the maximum size is exceeded.\n",
    " *\n",
    " * <p>This implementation uses a {@code LinkedHashMap} in access-order mode so\n",
    " * that recently accessed items move to the end of the map. When the cache\n",
    " * exceeds its capacity, the least-recently-used entry (the oldest) is removed.</p>\n",
    " *\n",
    " * <p><b>Complexity:</b> O(1) average time for both {@code get()} and {@code put()}.</p>\n",
    " *\n",
    " * <p><b>Preconditions:</b> Capacity must be greater than 0.</p>\n",
    " * <p><b>Postconditions:</b> The cache size never exceeds the defined capacity.</p>\n",
    " *\n",
    " * <p><b>Example:</b></p>\n",
    " * <pre>\n",
    " * LRUCache<String, Integer> cache = new LRUCache<>(2);\n",
    " * cache.put(\"A\", 1);\n",
    " * cache.put(\"B\", 2);\n",
    " * cache.get(\"A\");  // refreshes \"A\" as most-recent\n",
    " * cache.put(\"C\", 3); // evicts \"B\"\n",
    " * </pre>\n",
    " *\n",
    " * @param <K> the key type\n",
    " * @param <V> the value type\n",
    " * @since 2025-10-13\n",
    " */\n",
    "public class LRUCache<K, V> {\n",
    "    private final int capacity;\n",
    "    private final LinkedHashMap<K, V> map;\n",
    "\n",
    "    /**\n",
    "     * Creates an LRU cache with a specified positive capacity.\n",
    "     *\n",
    "     * @param capacity the maximum number of entries allowed\n",
    "     * @throws IllegalArgumentException if capacity <= 0\n",
    "     */\n",
    "    public LRUCache(int capacity) {\n",
    "        if (capacity <= 0) {\n",
    "            throw new IllegalArgumentException(\"capacity must be > 0\");\n",
    "        }\n",
    "        this.capacity = capacity;\n",
    "        this.map = new LinkedHashMap<>(capacity, 0.75f, true);\n",
    "    }\n",
    "\n",
    "    /**\n",
    "     * Inserts or updates a key-value pair and evicts the least-recently-used entry\n",
    "     * if capacity is exceeded.\n",
    "     *\n",
    "     * @param key the key (cannot be null)\n",
    "     * @param value the value associated with the key\n",
    "     * @throws NullPointerException if key is null\n",
    "     */\n",
    "    public void put(K key, V value) {\n",
    "        if (key == null) throw new NullPointerException(\"key must not be null\");\n",
    "        map.put(key, value);\n",
    "        if (map.size() > capacity) {\n",
    "            Iterator<K> it = map.keySet().iterator();\n",
    "            it.next();   // oldest key\n",
    "            it.remove(); // evict\n",
    "        }\n",
    "    }\n",
    "\n",
    "    /**\n",
    "     * Retrieves the value associated with the given key and updates its recency.\n",
    "     *\n",
    "     * @param key the key to retrieve\n",
    "     * @return the value mapped to the key, or null if not present\n",
    "     * @throws NullPointerException if key is null\n",
    "     */\n",
    "    public V get(K key) {\n",
    "        if (key == null) throw new NullPointerException(\"key must not be null\");\n",
    "        return map.get(key);\n",
    "    }\n",
    "\n",
    "    /**\n",
    "     * Returns the current number of entries in the cache.\n",
    "     *\n",
    "     * @return the number of entries\n",
    "     */\n",
    "    public int size() {\n",
    "        return map.size();\n",
    "    }\n",
    "}\n"
   ]
  }
 ],
 "metadata": {
  "kernelspec": {
   "display_name": "Java",
   "language": "java",
   "name": "java"
  },
  "language_info": {
   "codemirror_mode": "java",
   "file_extension": ".jshell",
   "mimetype": "text/x-java-source",
   "name": "Java",
   "pygments_lexer": "java",
   "version": "21.0.8+9-Ubuntu-0ubuntu124.04.1"
  }
 },
 "nbformat": 4,
 "nbformat_minor": 2
}
