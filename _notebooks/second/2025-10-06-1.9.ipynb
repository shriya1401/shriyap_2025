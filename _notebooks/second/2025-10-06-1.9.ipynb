{
 "cells": [
  {
   "cell_type": "markdown",
   "metadata": {},
   "source": [
    "---\n",
    "layout : post\n",
    "title : Lesson 1.9\n",
    "descriptions : By - Shriya Paladugu\n",
    "courses : { csp: {week: 1} }\n",
    "comments: true\n",
    "sticky_rank: 1\n",
    "\n",
    "---"
   ]
  },
  {
   "cell_type": "markdown",
   "metadata": {},
   "source": [
    "<link rel=\"stylesheet\"\n",
    "  href=\"https://cdnjs.cloudflare.com/ajax/libs/highlight.js/11.8.0/styles/github-dark.min.css\">\n",
    "<script src=\"https://cdnjs.cloudflare.com/ajax/libs/highlight.js/11.8.0/highlight.min.js\"></script>\n",
    "<script>hljs.highlightAll();</script>\n"
   ]
  },
  {
   "cell_type": "markdown",
   "metadata": {},
   "source": [
    "# CSA Unit 1.9 — Assignment Statements and Input\n"
   ]
  },
  {
   "cell_type": "markdown",
   "metadata": {},
   "source": [
    "## Popcorn Hack #1"
   ]
  },
  {
   "cell_type": "code",
   "execution_count": null,
   "metadata": {
    "vscode": {
     "languageId": "java"
    }
   },
   "outputs": [
    {
     "name": "stdout",
     "output_type": "stream",
     "text": [
      "9\n"
     ]
    },
    {
     "name": "stdout",
     "output_type": "stream",
     "text": [
      "-2\n",
      "3.5\n",
      "2\n"
     ]
    }
   ],
   "source": [
    "public class PopcornMax {\n",
    "\n",
    "    // int version of max\n",
    "    public static int max(int a, int b) {\n",
    "        if (a > b) {\n",
    "            return a;\n",
    "        } else {\n",
    "            return b;\n",
    "        }\n",
    "    }\n",
    "\n",
    "    // double version of max\n",
    "    public static double max(double a, double b) {\n",
    "        if (a > b) {\n",
    "            return a;\n",
    "        } else {\n",
    "            return b;\n",
    "        }\n",
    "    }\n",
    "\n",
    "    public static void main(String[] args) {\n",
    "        System.out.println(max(3, 9));      // expected: 9\n",
    "        System.out.println(max(-2, -7));    // expected: -2\n",
    "        System.out.println(max(3.5, 2.9));  // expected: 3.5\n",
    "        System.out.println(max(2, 2.0));    // should call double version → 2.0\n",
    "    }\n",
    "}\n"
   ]
  },
  {
   "cell_type": "markdown",
   "metadata": {},
   "source": [
    "## Popcorn Hack #2"
   ]
  },
  {
   "cell_type": "code",
   "execution_count": null,
   "metadata": {
    "vscode": {
     "languageId": "java"
    }
   },
   "outputs": [
    {
     "name": "stdout",
     "output_type": "stream",
     "text": [
      "int:42\n"
     ]
    },
    {
     "name": "stdout",
     "output_type": "stream",
     "text": [
      "str:hello\n",
      "str:A!\n"
     ]
    }
   ],
   "source": [
    "public class PopcornPrint {\n",
    "\n",
    "    // method for int\n",
    "    public static void print(int n) {\n",
    "        System.out.println(\"int:\" + n);\n",
    "    }\n",
    "\n",
    "    // method for String\n",
    "    public static void print(String s) {\n",
    "        System.out.println(\"str:\" + s);\n",
    "    }\n",
    "\n",
    "    public static void main(String[] args) {\n",
    "        print(42);          // expected: int:42\n",
    "        print(\"hello\");     // expected: str:hello\n",
    "        print('A' + \"!\");   // char + String → String → expected: str:A!\n",
    "    }\n",
    "}\n"
   ]
  },
  {
   "cell_type": "markdown",
   "metadata": {},
   "source": [
    "## Short Answer\n",
    "\n",
    "### Q1. Why can’t `int sum(int a, int b)` and `double sum(int a, int b)` both exist?\n",
    "They cannot both exist because **overloading is based only on parameter lists**, not return types — these two methods have identical parameter types, causing a **duplicate method error**.\n",
    "\n",
    "\n",
    "### Q2. Distinguish between parameters and arguments.\n",
    "**Parameters** are variables defined in a method’s declaration, while **arguments** are the actual values passed to those parameters when the method is called.\n"
   ]
  },
  {
   "cell_type": "markdown",
   "metadata": {},
   "source": [
    "## Coding Tasks"
   ]
  },
  {
   "cell_type": "code",
   "execution_count": null,
   "metadata": {
    "vscode": {
     "languageId": "java"
    }
   },
   "outputs": [
    {
     "name": "stdout",
     "output_type": "stream",
     "text": [
      "5\n",
      "3.14\n",
      "123\n",
      "hibye\n",
      "hahaha\n",
      "int\n",
      "long\n",
      "double\n",
      "int\n",
      "long\n",
      "double\n"
     ]
    }
   ],
   "source": [
    "// 1) Three overloads of abs\n",
    "public static int abs(int x) {\n",
    "    return (x < 0) ? -x : x;\n",
    "}\n",
    "\n",
    "public static double abs(double x) {\n",
    "    return (x < 0) ? -x : x;\n",
    "}\n",
    "\n",
    "public static long abs(long x) {\n",
    "    return (x < 0) ? -x : x;\n",
    "}\n",
    "\n",
    "System.out.println(abs(-5));     // 5\n",
    "System.out.println(abs(-3.14));  // 3.14\n",
    "System.out.println(abs(-123L));  // 123\n",
    "// Explanation: Each abs version returns the positive value of its argument.\n",
    "\n",
    "\n",
    "// 2) Two overloads of concat\n",
    "public static String concat(String a, String b) {\n",
    "    return a + b;\n",
    "}\n",
    "\n",
    "public static String concat(String a, int n) {\n",
    "    String result = \"\";\n",
    "    for (int i = 0; i < n; i++) {\n",
    "        result += a;\n",
    "    }\n",
    "    return result;\n",
    "}\n",
    "\n",
    "System.out.println(concat(\"hi\", \"bye\")); // hibye\n",
    "System.out.println(concat(\"ha\", 3));     // hahaha\n",
    "// Explanation: One concat joins two strings; the other repeats a string n times.\n",
    "\n",
    "\n",
    "// 3) Determine output\n",
    "static void show(int x) { System.out.println(\"int\"); }\n",
    "static void show(double x) { System.out.println(\"double\"); }\n",
    "static void show(long x) { System.out.println(\"long\"); }\n",
    "\n",
    "show(7);   \n",
    "show(7L);  \n",
    "show(7.0);\n",
    "\n",
    "System.out.println(\"int\");\n",
    "System.out.println(\"long\");\n",
    "System.out.println(\"double\");\n",
    "\n",
    "// Explanation :  Each literal’s type (int, long, double) decides which show() runs.\n",
    "\n",
    "\n",
    "\n",
    "\n",
    "\n",
    "\n"
   ]
  },
  {
   "cell_type": "markdown",
   "metadata": {},
   "source": [
    "## FQ1"
   ]
  },
  {
   "cell_type": "code",
   "execution_count": null,
   "metadata": {
    "vscode": {
     "languageId": "java"
    }
   },
   "outputs": [
    {
     "name": "stdout",
     "output_type": "stream",
     "text": [
      "1\n",
      "-1\n",
      "1\n",
      "2\n"
     ]
    }
   ],
   "source": [
    "\n",
    "\n",
    "public static int indexOf(char target, String s) {\n",
    "    for (int i = 0; i < s.length(); i++) {\n",
    "        if (s.charAt(i) == target) {\n",
    "            return i;\n",
    "        }\n",
    "    }\n",
    "    return -1;\n",
    "}\n",
    "\n",
    "public static int indexOf(String target, String s) {\n",
    "    for (int i = 0; i <= s.length() - target.length(); i++) {\n",
    "        boolean match = true;\n",
    "        for (int j = 0; j < target.length(); j++) {\n",
    "            if (s.charAt(i + j) != target.charAt(j)) {\n",
    "                match = false;\n",
    "                break;\n",
    "            }\n",
    "        }\n",
    "        if (match) return i;\n",
    "    }\n",
    "    return -1;\n",
    "}\n",
    "\n",
    "System.out.println(indexOf('e', \"hello\"));    \n",
    "System.out.println(indexOf('x', \"hello\"));    \n",
    "System.out.println(indexOf(\"ell\", \"hello\")); \n",
    "System.out.println(indexOf(\"zz\", \"pizza\"));   \n",
    "\n",
    "// Explanation: The first method finds the index of a single character and the second finds the index of a substring without using built-in indexOf.\n",
    "\n",
    "\n"
   ]
  },
  {
   "cell_type": "markdown",
   "metadata": {},
   "source": [
    "## FQ2"
   ]
  },
  {
   "cell_type": "code",
   "execution_count": null,
   "metadata": {
    "vscode": {
     "languageId": "java"
    }
   },
   "outputs": [
    {
     "name": "stdout",
     "output_type": "stream",
     "text": [
      "5\n",
      "0\n",
      "10.0\n",
      "8\n"
     ]
    }
   ],
   "source": [
    "\n",
    "\n",
    "public static int clamp(int value, int low, int high) {\n",
    "    if (low > high) { int temp = low; low = high; high = temp; }\n",
    "    if (value < low) return low;\n",
    "    if (value > high) return high;\n",
    "    return value;\n",
    "}\n",
    "\n",
    "public static double clamp(double value, double low, double high) {\n",
    "    if (low > high) { double temp = low; low = high; high = temp; }\n",
    "    if (value < low) return low;\n",
    "    if (value > high) return high;\n",
    "    return value;\n",
    "}\n",
    "\n",
    "System.out.println(clamp(5, 1, 10)); \n",
    "System.out.println(clamp(-2, 0, 8));     \n",
    "System.out.println(clamp(12.5, 3.5, 10)); \n",
    "System.out.println(clamp(8, 10, 5));      \n"
   ]
  }
 ],
 "metadata": {
  "kernelspec": {
   "display_name": "Java",
   "language": "java",
   "name": "java"
  },
  "language_info": {
   "codemirror_mode": "java",
   "file_extension": ".jshell",
   "mimetype": "text/x-java-source",
   "name": "Java",
   "pygments_lexer": "java",
   "version": "21.0.8+9-Ubuntu-0ubuntu124.04.1"
  }
 },
 "nbformat": 4,
 "nbformat_minor": 2
}
