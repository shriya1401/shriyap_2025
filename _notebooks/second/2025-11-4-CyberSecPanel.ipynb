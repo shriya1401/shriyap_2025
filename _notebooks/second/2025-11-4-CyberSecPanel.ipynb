{
 "cells": [
  {
   "cell_type": "markdown",
   "metadata": {},
   "source": [
    "---\n",
    "layout : post\n",
    "title : Color\n",
    "descriptions : Color\n",
    "courses : { csp: {week: 1} }\n",
    "comments: true\n",
    "sticky_rank: 1\n",
    "\n",
    "---"
   ]
  },
  {
   "cell_type": "markdown",
   "metadata": {
    "vscode": {
     "languageId": "html"
    }
   },
   "source": [
    "Convert these hex codes to RGB & RGBA (A = 1)\n",
    "- 1E90FF   |   rgb(30, 144, 255)  |\trgba(30, 144, 255, 1)\n",
    "- 32CD32   |   rgb(50, 205, 50)   | rgba(50, 205, 50, 1)\n",
    "- FFD700   |   rgb(255, 215, 0)   | rgba(255, 215, 0, 1)"
   ]
  },
  {
   "cell_type": "markdown",
   "metadata": {},
   "source": [
    "Design a 2×2 icon\n",
    "- Top Left\t| Red\t#FF0000\n",
    "- Top Right\t| Green\t#00FF00\n",
    "- Bottom Left | Blue\t#0000FF\n",
    "- Bottom Right |  Yellow\t#FFFF00\n",
    "\n",
    "Calculate storage for that 2×2 image at 24-bit color depth:\n",
    "- Storage = 24 bits × 4 pixels = 96 bits"
   ]
  },
  {
   "cell_type": "markdown",
   "metadata": {},
   "source": [
    "Base64-encode the string \"Cat\""
   ]
  },
  {
   "cell_type": "code",
   "execution_count": null,
   "metadata": {
    "vscode": {
     "languageId": "javascript"
    }
   },
   "outputs": [],
   "source": [
    "btoa(\"Cat\") // → \"Q2F0\""
   ]
  },
  {
   "cell_type": "markdown",
   "metadata": {},
   "source": [
    "Create a 1×1 Red PNG, Convert to Base64, and Embed in HTML"
   ]
  },
  {
   "cell_type": "code",
   "execution_count": null,
   "metadata": {
    "vscode": {
     "languageId": "html"
    }
   },
   "outputs": [],
   "source": [
    "<img src=\"data:image/png;base64,\n",
    "iVBORw0KGgoAAAANSUhEUgAAAAEAAAABCAQAAAC1HAwCAAAAC0lEQVR42mP8z8AAAgMBAQEAAP9aNlcAAAAASUVORK5CYII=\" \n",
    "alt=\"1x1 red pixel\">\n"
   ]
  }
 ],
 "metadata": {
  "language_info": {
   "name": "python"
  }
 },
 "nbformat": 4,
 "nbformat_minor": 2
}
