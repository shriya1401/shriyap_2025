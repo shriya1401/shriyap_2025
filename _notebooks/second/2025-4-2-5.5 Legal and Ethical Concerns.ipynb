{
 "cells": [
  {
   "cell_type": "markdown",
   "metadata": {},
   "source": [
    "---\n",
    "layout : post\n",
    "title : Legal and Ethical Concerns\n",
    "descriptions : Legal and Ethical Concerns\n",
    "courses : { csp: {week: 1} }\n",
    "comments: true\n",
    "sticky_rank: 1\n",
    "\n",
    "---"
   ]
  },
  {
   "cell_type": "markdown",
   "metadata": {},
   "source": [
    "# Popcorn Hack #1\n",
    "\n",
    "**Suppose you buy something that someone made.**  \n",
    "**When is it your IP, and when is it not your IP?**\n",
    "\n",
    "---\n",
    "\n",
    "- ✅ **Your IP:**  \n",
    "  If you buy a blank notebook and write your own story in it, the story you create is **your intellectual property** because it is your original work.\n",
    "\n",
    "- ❌ **Not Your IP:**  \n",
    "  If you buy a movie DVD, you own the physical disc, but **not the copyright** to the movie. You cannot legally copy or distribute the content, because it is **not your IP**.\n"
   ]
  },
  {
   "cell_type": "markdown",
   "metadata": {},
   "source": [
    "# Popcorn Hack #2\n",
    "\n",
    "**As a computer science student, which license suits your repository/site the best and why?**\n",
    "\n",
    "---\n",
    "\n",
    "✅ **MIT License**\n",
    "\n",
    "The **MIT License** is a great fit because it allows others to **freely use, modify, and distribute** your code, even for commercial purposes, as long as they give you **credit**. It's simple, permissive, and widely used in the open-source community, making it ideal for students who want to **share their projects, encourage collaboration, and build a public portfolio**.\n"
   ]
  },
  {
   "cell_type": "markdown",
   "metadata": {},
   "source": [
    "# Homework\n",
    "\n",
    "<div style=\"text-align: center; margin: 20px 0;\">\n",
    "  <img src=\"{{site.baseurl}}/images/MATCH.png\" alt=\"AP CSP MCQ Performance Chart\" style=\"width: 80%; max-width: 600px; border-radius: 15px; box-shadow: 0px 6px 15px rgba(0, 0, 0, 0.2); animation: fadeIn 2s ease-in-out;\" />\n",
    "</div>\n"
   ]
  }
 ],
 "metadata": {
  "language_info": {
   "name": "python"
  }
 },
 "nbformat": 4,
 "nbformat_minor": 2
}
