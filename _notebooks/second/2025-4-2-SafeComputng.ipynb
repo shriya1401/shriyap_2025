{
 "cells": [
  {
   "cell_type": "markdown",
   "metadata": {},
   "source": [
    "---\n",
    "layout : post\n",
    "title : Safe Computing\n",
    "descriptions : Safe Computing\n",
    "courses : { csp: {week: 1} }\n",
    "comments: true\n",
    "sticky_rank: 1\n",
    "\n",
    "---"
   ]
  },
  {
   "cell_type": "markdown",
   "metadata": {},
   "source": [
    "## Popcorn Hack #1\n",
    "\n",
    "**Service: Amazon**\n",
    "\n",
    "Amazon is a major e-commerce platform where users shop for products online. It stores sensitive personal information such as:\n",
    "\n",
    "- Full name  \n",
    "- Address & phone number  \n",
    "- Email & login credentials  \n",
    "- Credit/debit card info  \n",
    "- Purchase history\n",
    "\n",
    "---\n",
    "\n",
    "**What If It Gets Hacked?**\n",
    "\n",
    "If hackers steal this data:\n",
    "\n",
    "1. **Fraud** – They could make fake purchases or steal money using saved payment methods.  \n",
    "2. **Phishing** – Scammers could send fake Amazon emails or texts to trick me into giving more personal info.  \n",
    "3. **Account Hopping** – If I reuse passwords, they could break into other accounts like Netflix or Gmail.  \n",
    "4. **Social Engineering** – With enough info, hackers could impersonate me to access even more services.\n",
    "\n",
    "---\n",
    "\n",
    "**Why It Matters**\n",
    "\n",
    "Losing this kind of data could lead to identity theft, drained bank accounts, and losing access to other connected platforms.\n"
   ]
  },
  {
   "cell_type": "markdown",
   "metadata": {},
   "source": [
    "## Popcorn Hack #2\n",
    "\n",
    "1. **Check the Sender**  \n",
    "   Look closely at the sender’s email address—does it match your bank’s official domain? Watch out for weird spellings or extra characters.\n",
    "\n",
    "2. **Don’t Click Any Links**  \n",
    "   Avoid clicking on any links or downloading attachments. Hover over links to preview the URL—if it looks suspicious, don’t touch it.\n",
    "\n",
    "3. **Go Directly to the Source**  \n",
    "   Open a new browser window and go to your bank’s official website directly. Log in from there to check for any real alerts or issues.\n",
    "\n",
    "4. **Contact Your Bank**  \n",
    "   Call your bank using the number on the back of your debit card—not any number in the email. Confirm whether the message is real.\n",
    "\n",
    "5. **Report the Email**  \n",
    "   If it’s a phishing attempt, report it to your bank’s fraud department and delete it.\n",
    "\n",
    "**Always think before you click. When in doubt, go straight to the source!**\n"
   ]
  },
  {
   "cell_type": "markdown",
   "metadata": {},
   "source": [
    "## Popcorn Hack #3\n",
    "\n",
    "\n",
    "### How Hackers Exploit Public Wi-Fi:\n",
    "- **Eavesdropping:** Hackers can intercept unencrypted data (like login info) using packet sniffers.  \n",
    "- **Fake Hotspots:** They may set up rogue Wi-Fi networks with legit-sounding names to trick users into connecting.  \n",
    "- **Man-in-the-Middle Attacks:** They position themselves between you and the network to steal data as it passes through.\n",
    "\n",
    "---\n",
    "\n",
    "### Smart Precautions to Take:\n",
    "1. **Use a VPN:** Encrypts your traffic so hackers can’t read it, even on public Wi-Fi.  \n",
    "2. **Stick to HTTPS Sites:** Look for “https://” in the URL—it means the site encrypts your data.  \n",
    "3. **Avoid Sensitive Transactions:** Don’t access banking or enter passwords on public networks.  \n",
    "4. **Turn Off Sharing & Auto-Connect:** Disable file sharing and avoid auto-joining open networks.  \n",
    "5. **Use Two-Factor Authentication:** Adds a security layer even if your credentials get exposed.\n",
    "\n",
    "\n"
   ]
  }
 ],
 "metadata": {
  "language_info": {
   "name": "python"
  }
 },
 "nbformat": 4,
 "nbformat_minor": 2
}
