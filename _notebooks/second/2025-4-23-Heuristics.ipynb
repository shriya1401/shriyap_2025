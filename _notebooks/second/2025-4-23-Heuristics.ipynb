{
 "cells": [
  {
   "cell_type": "markdown",
   "id": "c60e8b1a",
   "metadata": {},
   "source": [
    "---\n",
    "layout : post\n",
    "title : Undecidable Problems, Graphs + Heuristics\n",
    "descriptions : Undecidable Problems, Graphs + Heuristics\n",
    "courses : { csp: {week: 1} }\n",
    "comments: true\n",
    "sticky_rank: 1\n",
    "\n",
    "---"
   ]
  },
  {
   "cell_type": "markdown",
   "id": "601c5a47",
   "metadata": {},
   "source": [
    "# Undecidable Problems, Graphs + Heuristics"
   ]
  },
  {
   "cell_type": "markdown",
   "id": "83eedd70",
   "metadata": {},
   "source": [
    "Undecidable Problem: The Post Correspondence Problem (PCP)\n",
    "The Post Correspondence Problem is an undecidable problem in theoretical computer science. It involves determining whether, given two lists of strings over some alphabet, there exists a sequence of indices such that the corresponding strings from both lists, when concatenated in that order, produce the same string.\n",
    "\n",
    "Example:\n",
    "Given:\n",
    "- List A: [\"a\", \"ab\"]\n",
    "- List B: [\"aa\", \"b\"]\n",
    "\n",
    "Is there a sequence of indices (e.g., 1, 2) where:\n",
    "A[1] + A[2] == B[1] + B[2]`?\n",
    "\n",
    "This problem is undecidable because there is no algorithm that can determine the answer for all possible inputs."
   ]
  },
  {
   "cell_type": "markdown",
   "id": "cc6854e3",
   "metadata": {},
   "source": [
    "## Nearest Neighbor Algorithm for TSP (Python Implementation)"
   ]
  },
  {
   "cell_type": "code",
   "execution_count": null,
   "id": "4e637b65",
   "metadata": {},
   "outputs": [],
   "source": [
    "\n",
    "def tsp_nearest_neighbor(graph, start=0):\n",
    "    n = len(graph)\n",
    "    visited = [False] * n\n",
    "    path = [start]\n",
    "    visited[start] = True\n",
    "    total_cost = 0\n",
    "    current = start\n",
    "\n",
    "    for _ in range(n - 1):\n",
    "        next_city = None\n",
    "        min_dist = float('inf')\n",
    "        for j in range(n):\n",
    "            if not visited[j] and 0 < graph[current][j] < min_dist:\n",
    "                min_dist = graph[current][j]\n",
    "                next_city = j\n",
    "        if next_city is not None:\n",
    "            path.append(next_city)\n",
    "            visited[next_city] = True\n",
    "            total_cost += min_dist\n",
    "            current = next_city\n",
    "\n",
    "    total_cost += graph[current][start]  # Return to starting city\n",
    "    path.append(start)\n",
    "    return path, total_cost\n",
    "\n",
    "# Example graph (symmetric TSP)\n",
    "graph = [\n",
    "    [0, 2, 9, 10],\n",
    "    [1, 0, 6, 4],\n",
    "    [15, 7, 0, 8],\n",
    "    [6, 3, 12, 0]\n",
    "]\n",
    "\n",
    "route, cost = tsp_nearest_neighbor(graph)\n",
    "print(\"Path:\", route)\n",
    "print(\"Total cost:\", cost)\n"
   ]
  },
  {
   "cell_type": "markdown",
   "id": "f2eef058",
   "metadata": {},
   "source": [
    "Real-World Use of Heuristics: Scheduling Airline Flights\n",
    "Problem: Scheduling planes, gates, and crew to thousands of flights each day.\n",
    "\n",
    "Why Heuristics Are Used:\n",
    "- The number of combinations of flight schedules, available planes, and crews grows exponentially.\n",
    "- An exact solution would take too long to compute.\n",
    "- Heuristics (e.g., greedy algorithms, genetic algorithms) provide \"good enough\" solutions quickly, which is essential in a time-sensitive industry."
   ]
  }
 ],
 "metadata": {
  "language_info": {
   "name": "python"
  }
 },
 "nbformat": 4,
 "nbformat_minor": 5
}
