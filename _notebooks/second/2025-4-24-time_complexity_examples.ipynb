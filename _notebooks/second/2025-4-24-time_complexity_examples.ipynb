{
 "cells": [
  {
   "cell_type": "markdown",
   "metadata": {},
   "source": [
    "---\n",
    "layout : post\n",
    "title : Time Complexity\n",
    "descriptions : Time Complexity\n",
    "courses : { csp: {week: 1} }\n",
    "comments: true\n",
    "sticky_rank: 1\n",
    "\n",
    "---"
   ]
  },
  {
   "cell_type": "markdown",
   "metadata": {},
   "source": [
    "# Time Complexity Examples\n",
    "\n",
    "This notebook has the Python examples for different time complexities:\n",
    "- O(1): Constant Time\n",
    "- O(log n): Logarithmic Time\n",
    "- O(n): Linear Time\n",
    "- O(n²): Quadratic Time\n"
   ]
  },
  {
   "cell_type": "code",
   "execution_count": null,
   "metadata": {},
   "outputs": [],
   "source": [
    "# O(1) - Constant Time\n",
    "def get_first_element(arr):\n",
    "    return arr[0]  # Accessing the first element takes constant time\n",
    "\n",
    "get_first_element([5, 10, 15, 20])"
   ]
  },
  {
   "cell_type": "code",
   "execution_count": null,
   "metadata": {},
   "outputs": [],
   "source": [
    "# O(log n) - Logarithmic Time (Binary Search)\n",
    "def binary_search(arr, target):\n",
    "    low, high = 0, len(arr) - 1\n",
    "    while low <= high:\n",
    "        mid = (low + high) // 2\n",
    "        if arr[mid] == target:\n",
    "            return mid\n",
    "        elif arr[mid] < target:\n",
    "            low = mid + 1\n",
    "        else:\n",
    "            high = mid - 1\n",
    "    return -1\n",
    "\n",
    "binary_search([1, 3, 5, 7, 9, 11, 13], 7)"
   ]
  },
  {
   "cell_type": "code",
   "execution_count": null,
   "metadata": {},
   "outputs": [],
   "source": [
    "# O(n) - Linear Time\n",
    "def linear_search(arr, target):\n",
    "    for i in arr:\n",
    "        if i == target:\n",
    "            return True\n",
    "    return False\n",
    "\n",
    "linear_search([1, 2, 3, 4, 5], 4)"
   ]
  },
  {
   "cell_type": "code",
   "execution_count": null,
   "metadata": {},
   "outputs": [],
   "source": [
    "# O(n^2) - Quadratic Time (Nested Loops)\n",
    "def print_all_pairs(arr):\n",
    "    for i in arr:\n",
    "        for j in arr:\n",
    "            print(f\"({i}, {j})\")\n",
    "\n",
    "print_all_pairs([1, 2, 3])"
   ]
  }
 ],
 "metadata": {
  "kernelspec": {
   "display_name": "Python 3",
   "language": "python",
   "name": "python3"
  },
  "language_info": {
   "name": "python",
   "version": "3.x"
  }
 },
 "nbformat": 4,
 "nbformat_minor": 2
}
