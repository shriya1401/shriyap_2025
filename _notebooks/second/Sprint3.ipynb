{
 "cells": [
  {
   "cell_type": "markdown",
   "metadata": {},
   "source": [
    "---\n",
    "layout : post\n",
    "title : Sprint 3\n",
    "descriptions : Sprint 3\n",
    "courses : { csp: {week: 1} }\n",
    "comments: true\n",
    "sticky_rank: 1\n",
    "\n",
    "---"
   ]
  },
  {
   "cell_type": "code",
   "execution_count": null,
   "metadata": {},
   "outputs": [],
   "source": [
    " def post(self):\n",
    "            # Obtain the current user from the token required setting in the global context\n",
    "            current_user = g.current_user\n",
    "            # Obtain the request data sent by the RESTful client API\n",
    "            data = request.get_json()\n",
    "            # Create a new post object using the data from the request\n",
    "            post = NestPost(data['title'], data['content'], current_user.id, data['group_id'], data['image_url'])\n",
    "            # Save the post object using the Object Relational Mapper (ORM) method defined in the model\n",
    "            post.create()\n",
    "            # Return response to the client in JSON format, converting Python dictionaries to JSON format\n",
    "            return jsonify(post.read())"
   ]
  },
  {
   "cell_type": "markdown",
   "metadata": {},
   "source": [
    "-The post method is responsible for adding a new message to a text file\n",
    "\n",
    "-request.get_json() -> This retrieves data sent in JSON format from a client request. It captures the incoming message data, like {\"message\": \"Hello, world!\"}, so you can then access it using data.get('message')\n",
    "\n",
    "- post = NestPost(data['title'], data['content'], current_user.id, data['group_id'], data['image_url']) -> This gets the data from the JSON file for the specific inputs of title, content, group_id, image-url\n",
    "\n",
    "-  post.create() -> This creates the post onto the database\n",
    "\n",
    "- "
   ]
  },
  {
   "cell_type": "code",
   "execution_count": null,
   "metadata": {},
   "outputs": [],
   "source": [
    "        def get(self):\n",
    "            # Obtain the current user\n",
    "            current_user = g.current_user\n",
    "            # Find all the posts by the current user\n",
    "            posts = NestPost.query.filter(NestPost._user_id == current_user.id).all()\n",
    "            # Prepare a JSON list of all the posts, uses for loop shortcut called list comprehension\n",
    "            json_ready = [post.read() for post in posts]\n",
    "            # Return a JSON list, converting Python dictionaries to JSON format\n",
    "            return jsonify(json_ready)"
   ]
  },
  {
   "cell_type": "markdown",
   "metadata": {},
   "source": [
    "- def get(self): -> Fetches a post by its ID, allowing users to view the content.\n",
    "\n",
    "- posts = NestPost.query.filter(NestPost._user_id == current_user.id).all() -> This line performs a query on the NestPost model to find all posts that match the current_user's ID, filtering by the _user_id field. The .all() method is used to retrieve all matching records in a list.\n",
    "\n",
    "- json_ready = [post.read() for post in posts] -> list comprehension to iterate over each post in posts. For each post, it calls the read() method (presumably to transform it into a dictionary format), and the resulting dictionaries are collected into the json_ready list\n",
    "\n",
    "- return jsonify(json_ready) -> returns the json_ready list as a JSON response by using jsonify(), which converts Python objects (like dictionaries or lists) into a JSON format suitable for HTTP responses.\n",
    "\n",
    "- \n",
    "\n"
   ]
  },
  {
   "cell_type": "code",
   "execution_count": null,
   "metadata": {},
   "outputs": [],
   "source": [
    " def put(self):\n",
    "            # Obtain the current user\n",
    "            current_user = g.current_user\n",
    "            # Obtain the request data\n",
    "            data = request.get_json()\n",
    "            # Find the current post from the database table(s)\n",
    "            post = NestPost.query.get(data['id'])\n",
    "            # Update the post\n",
    "            post._title = data['title']\n",
    "            post._content = data['content']\n",
    "            post._group_id = data['group_id']\n",
    "            post._image_url = data['image_url']\n",
    "            # Save the post\n",
    "            post.update()\n",
    "            # Return response\n",
    "            return jsonify(post.read())"
   ]
  },
  {
   "cell_type": "markdown",
   "metadata": {},
   "source": [
    "Updates the title, comment, or content of an existing post.\n",
    "\n",
    "- post._title = data['title'], post._content = data['content'], post._group_id = data['group_id'], post._image_url = data['image_url'] -> When the user changes data it will update, through the uses of these. \n",
    "\n",
    "-  post.update() -> This updates the post to the updated data\n"
   ]
  },
  {
   "cell_type": "code",
   "execution_count": null,
   "metadata": {},
   "outputs": [],
   "source": [
    "  def delete(self):\n",
    "            # Obtain the current user\n",
    "            current_user = g.current_user\n",
    "            # Obtain the request data\n",
    "            data = request.get_json()\n",
    "            # Find the current post from the database table(s)\n",
    "            post = NestPost.query.get(data['id'])\n",
    "            # Delete the post using the ORM method defined in the model\n",
    "            post.delete()\n",
    "            # Return response\n",
    "            return jsonify({\"message\": \"Post deleted\"})"
   ]
  },
  {
   "cell_type": "markdown",
   "metadata": {},
   "source": [
    "Removes a post by its ID. This is typically used for moderation or cleanup.\n",
    "\n",
    "-  request.get_json() -> This retrieves data sent in JSON format from a client request. It captures the incoming message data, like {\"message\": \"Hello, world!\"}, so you can then access it using data.get('message')\n",
    "\n",
    "-  post = NestPost.query.get(data['id']) -> using this the delete def will use the id number from the data table and delete the row\n",
    "\n",
    "- post.delete() -> This deletes the post which is requested"
   ]
  }
 ],
 "metadata": {
  "kernelspec": {
   "display_name": "venv",
   "language": "python",
   "name": "python3"
  },
  "language_info": {
   "codemirror_mode": {
    "name": "ipython",
    "version": 3
   },
   "file_extension": ".py",
   "mimetype": "text/x-python",
   "name": "python",
   "nbconvert_exporter": "python",
   "pygments_lexer": "ipython3",
   "version": "3.12.3"
  }
 },
 "nbformat": 4,
 "nbformat_minor": 2
}
