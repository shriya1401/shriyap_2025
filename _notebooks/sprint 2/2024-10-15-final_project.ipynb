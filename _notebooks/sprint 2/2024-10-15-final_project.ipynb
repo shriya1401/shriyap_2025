{
 "cells": [
  {
   "cell_type": "markdown",
   "metadata": {},
   "source": [
    "---\n",
    "layout : post\n",
    "title : Final Project\n",
    "descriptions : Final porject for sprint 2\n",
    "courses : { csp: {week: 1} }\n",
    "comments: true\n",
    "sticky_rank: 1\n",
    "\n",
    "---"
   ]
  },
  {
   "cell_type": "code",
   "execution_count": 10,
   "metadata": {},
   "outputs": [
    {
     "ename": "SyntaxError",
     "evalue": "invalid decimal literal (2153533608.py, line 12)",
     "output_type": "error",
     "traceback": [
      "\u001b[0;36m  Cell \u001b[0;32mIn[10], line 12\u001b[0;36m\u001b[0m\n\u001b[0;31m    padding: 20px;\u001b[0m\n\u001b[0m              ^\u001b[0m\n\u001b[0;31mSyntaxError\u001b[0m\u001b[0;31m:\u001b[0m invalid decimal literal\n"
     ]
    }
   ],
   "source": [
    "import random\n",
    "\n",
    "# Initialize variables\n",
    "grid_size = 5  # Grid is 5x5\n",
    "grid = [['.' for _ in range(grid_size)] for _ in range(grid_size)]  # 5x5 grid of empty spaces\n",
    "treasure_position = (random.randint(0, grid_size-1), random.randint(0, grid_size-1))\n",
    "player_position = [0, 0]  # Player starts at the top-left corner (0, 0)\n",
    "\n",
    "# Place the treasure in the grid\n",
    "grid[treasure_position[0]][treasure_position[1]] = 'T'\n",
    "\n",
    "# Function to display the grid\n",
    "def display_grid():\n",
    "    for row in grid:\n",
    "        print(' '.join(row))\n",
    "\n",
    "# Function to update the player's position\n",
    "def update_player_position(new_position):\n",
    "    grid[player_position[0]][player_position[1]] = '.'  # Remove old position\n",
    "    player_position[0] = new_position[0]\n",
    "    player_position[1] = new_position[1]\n",
    "    grid[player_position[0]][player_position[1]] = 'P'  # Mark new position with 'P'\n",
    "\n",
    "# Function to check if player found the treasure\n",
    "def check_for_treasure():\n",
    "    return player_position == list(treasure_position)\n",
    "\n",
    "# Main game loop\n",
    "def play_game():\n",
    "    print(\"Welcome to the Treasure Hunt Game!\")\n",
    "    grid[player_position[0]][player_position[1]] = 'P'  # Mark initial position\n",
    "    while True:\n",
    "        display_grid()\n",
    "        \n",
    "        # Take player input for movement\n",
    "        move = input(\"Move (up/down/left/right): \").lower()\n",
    "        \n",
    "        # Handle movement\n",
    "        if move == \"up\" and player_position[0] > 0:\n",
    "            update_player_position([player_position[0] - 1, player_position[1]])\n",
    "        elif move == \"down\" and player_position[0] < grid_size - 1:\n",
    "            update_player_position([player_position[0] + 1, player_position[1]])\n",
    "        elif move == \"left\" and player_position[1] > 0:\n",
    "            update_player_position([player_position[0], player_position[1] - 1])\n",
    "        elif move == \"right\" and player_position[1] < grid_size - 1:\n",
    "            update_player_position([player_position[0], player_position[1] + 1])\n",
    "        else:\n",
    "            print(\"Invalid move. Try again.\")\n",
    "            continue  # Skip to next iteration if invalid move\n",
    "        \n",
    "        # Check if player found the treasure\n",
    "        if check_for_treasure():\n",
    "            display_grid()\n",
    "            print(\"Congratulations! You found the treasure!\")\n",
    "            break\n",
    "\n",
    "# Run the game\n",
    "play_game()\n"
   ]
  }
 ],
 "metadata": {
  "kernelspec": {
   "display_name": "venv",
   "language": "python",
   "name": "python3"
  },
  "language_info": {
   "codemirror_mode": {
    "name": "ipython",
    "version": 3
   },
   "file_extension": ".py",
   "mimetype": "text/x-python",
   "name": "python",
   "nbconvert_exporter": "python",
   "pygments_lexer": "ipython3",
   "version": "3.12.3"
  }
 },
 "nbformat": 4,
 "nbformat_minor": 2
}
