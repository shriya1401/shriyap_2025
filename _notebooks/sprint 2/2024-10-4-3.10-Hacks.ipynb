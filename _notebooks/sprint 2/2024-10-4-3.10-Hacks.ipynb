{
 "cells": [
  {
   "cell_type": "markdown",
   "metadata": {},
   "source": [
    "---\n",
    "layout : post\n",
    "title : Homework and Popcorn Hacks for Lessons  3.10\n",
    "descriptions : All homeworks for Lessons\n",
    "courses : { csp: {week: 1} }\n",
    "comments: true\n",
    "sticky_rank: 1\n",
    "\n",
    "---"
   ]
  },
  {
   "cell_type": "code",
   "execution_count": null,
   "metadata": {},
   "outputs": [],
   "source": [
    "print(\"Adding Numbers In List Script\")\n",
    "print(\"-\"*25)\n",
    "numlist = []\n",
    "while True:\n",
    "    start = input(\"Would you like to (1) enter numbers (2) add numbers (3) remove last value added or (4) exit: \")\n",
    "    if start == \"1\":\n",
    "        val = input(\"Enter a numeric value: \") # take input while storing it in a variable\n",
    "        try: \n",
    "            test = int(val) # testing to see if input is an integer (numeric)\n",
    "        except:\n",
    "            print(\"Please enter a valid number\")\n",
    "            continue # 'continue' keyword skips to next step of while loop (basically restarting the loop)\n",
    "        numlist.append(int(val)) # append method to add values\n",
    "        print(\"Added \"+val+\" to list.\")\n",
    "    elif start == \"2\":\n",
    "        sum = 0\n",
    "        for num in numlist: # loop through list and add all values to sum variable\n",
    "            sum += num\n",
    "        print(\"Sum of numbers in list is \"+str(sum))\n",
    "    elif start == \"3\":\n",
    "        if len(numlist) > 0: # Make sure there are values in list to remove\n",
    "            print(\"Removed \"+str(numlist[len(numlist)-1])+\" from list.\")\n",
    "            numlist.pop()\n",
    "        else:\n",
    "            print(\"No values to delete\")\n",
    "    elif start == \"4\":\n",
    "        break # Break out of the while loop, or it will continue running forever\n",
    "    else:\n",
    "        continue\n"
   ]
  },
  {
   "cell_type": "markdown",
   "metadata": {},
   "source": [
    "In python I made it so it allows users to interact with a list of numbers, with options to add numbers, calculate the sum, remove the last number, or exit. Runs an infinite while loop, allowing users to choose from four options: Enter a numeric value and add it to the list, add up all the numbers in the list and display the sum, remove the last number added to the list, exit ."
   ]
  },
  {
   "cell_type": "markdown",
   "metadata": {},
   "source": [
    "### Pseudocode\n",
    "   nums ← 1 to 100\n",
    "odd_sum ← 0\n",
    "\n",
    "FOR EACH score IN nums\n",
    "    IF score MOD 2 ≠ 0 THEN\n",
    "        odd_sum ← odd_sum + score\n",
    "    END IF\n",
    "END FOR\n",
    "\n",
    "DISPLAY (\"Sum of odd numbers in the list:\", odd_sum)"
   ]
  },
  {
   "cell_type": "code",
   "execution_count": null,
   "metadata": {},
   "outputs": [],
   "source": [
    "\n",
    "nums = range(1, 101)  # This creates a range of numbers from 1 to 100\n",
    "odd_sum = 0\n",
    "\n",
    "for score in nums:\n",
    "    if score % 2 != 0:\n",
    "        odd_sum += score\n",
    "\n",
    "print(\"Sum of odd numbers in the list:\", odd_sum)"
   ]
  },
  {
   "cell_type": "markdown",
   "metadata": {},
   "source": [
    "Calculates the sum of all odd numbers in the range from 1 to 100. The odd_sum is initialized to 0. This will hold the sum of odd numbers. The for loop iterates through each number (score) in the nums range.\n",
    "Inside the loop, the condition if score % 2 != 0 checks if the number is odd. If it is, the number is added to odd_sum."
   ]
  },
  {
   "cell_type": "code",
   "execution_count": null,
   "metadata": {},
   "outputs": [],
   "source": [
    "def gather_tasks():\n",
    "    tasks = []\n",
    "    print(\"Enter your tasks (type 'done' to finish):\")\n",
    "    \n",
    "    while True:\n",
    "        task = input(\"Task: \")\n",
    "        if task.lower() == 'done':\n",
    "            break\n",
    "        tasks.append(task)\n",
    "    \n",
    "    return tasks\n",
    "\n",
    "# Function to display tasks\n",
    "def display_tasks(tasks):\n",
    "    count = len(tasks)\n",
    "    print(f\"You have {count} task(s) on your list:\")  # No color\n",
    "    for task in tasks:\n",
    "        print(f\"- {task}\")  # No color\n",
    "\n",
    "# Main code\n",
    "if __name__ == \"__main__\":\n",
    "    user_tasks = gather_tasks()\n",
    "    display_tasks(user_tasks)\n"
   ]
  },
  {
   "cell_type": "markdown",
   "metadata": {},
   "source": [
    "User inputs a list of tasks and then displays them. The gather_tasks() statement, prompts the user to enter tasks one by one. The loop continues until the user types \"done\". Each task is added to the tasks list. Once the user finishes, the function returns the list of tasks."
   ]
  },
  {
   "cell_type": "code",
   "execution_count": null,
   "metadata": {},
   "outputs": [],
   "source": [
    "# Initial list\n",
    "my_list = [1, 2, 3, 5]\n",
    "\n",
    "# 1. Assign a value to a specific element\n",
    "my_list[3] = 4  # Change the 4th element (index 3) from 5 to 4\n",
    "print(\"After assigning value:\", my_list)  # Output: [1, 2, 3, 4]\n",
    "\n",
    "# 2. Insert an element at a specific position\n",
    "my_list.insert(1, 10)  # Insert 10 at index 1\n",
    "print(\"After inserting element:\", my_list)  # Output: [1, 10, 2, 3, 4]\n",
    "\n",
    "# 3. Append a new element at the end\n",
    "my_list.append(6)  # Append 6 to the list\n",
    "print(\"After appending element:\", my_list)  # Output: [1, 10, 2, 3, 4, 6]\n",
    "\n",
    "# 4. Remove a specific element\n",
    "my_list.remove(10)  # Remove the value 10 from the list\n",
    "print(\"After removing element:\", my_list)  # Output: [1, 2, 3, 4, 6]\n",
    "\n",
    "# 5. Calculate the length of the list\n",
    "list_length = len(my_list)\n",
    "print(\"Length of the list:\", list_length)  # Output: 5\n"
   ]
  },
  {
   "cell_type": "markdown",
   "metadata": {},
   "source": [
    "Demonstrates various ways to modify a list updating an element, inserting a new one, appending to the end, removing an item, and calculating the list's length. "
   ]
  },
  {
   "cell_type": "code",
   "execution_count": null,
   "metadata": {},
   "outputs": [],
   "source": [
    "# Function to find the maximum and minimum numbers in a list\n",
    "def find_max_and_min(number_list):\n",
    "    # Initialize variables to the first element of the list\n",
    "    max_value = number_list[0]\n",
    "    min_value = number_list[0]\n",
    "\n",
    "    # Iterate through the list\n",
    "    for number in number_list:\n",
    "        if number > max_value:\n",
    "            max_value = number\n",
    "        if number < min_value:\n",
    "            min_value = number\n",
    "\n",
    "    # Return both max and min values\n",
    "    return max_value, min_value\n",
    "\n",
    "# Example list of numbers\n",
    "number_list = [3, 5, 1, 9, 2]\n",
    "\n",
    "# Call the function and display the results\n",
    "max_number, min_number = find_max_and_min(number_list)\n",
    "print(\"Maximum:\", max_number)  # Output: Maximum: 9\n",
    "print(\"Minimum:\", min_number)  # Output: Minimum: 1\n"
   ]
  },
  {
   "cell_type": "markdown",
   "metadata": {},
   "source": [
    "In Python, I defined a function find_max_and_min() to find the maximum and minimum values in a list of numbers."
   ]
  },
  {
   "cell_type": "code",
   "execution_count": null,
   "metadata": {},
   "outputs": [],
   "source": [
    "# Function to accept user input and populate a list\n",
    "def populate_list():\n",
    "    # Create an empty list to store user input\n",
    "    user_list = []\n",
    "    \n",
    "    # Ask the user how many elements they want to add\n",
    "    num_elements = int(input(\"How many elements do you want to add? \"))\n",
    "    \n",
    "    # Accept inputs from the user to populate the list\n",
    "    for i in range(num_elements):\n",
    "        element = input(f\"Enter element {i + 1}: \")\n",
    "        user_list.append(element)  # Append each input to the list\n",
    "    \n",
    "    return user_list\n",
    "\n",
    "# Function to explore attributes/values of list elements\n",
    "def explore_attributes(user_list):\n",
    "    print(\"\\nList Elements and Their Attributes:\")\n",
    "    for i, element in enumerate(user_list):\n",
    "        print(f\"Element {i + 1}: '{element}', Type: {type(element)}\")\n",
    "        if isinstance(element, str):\n",
    "            print(f\"  - Length of string: {len(element)}\")\n",
    "        elif isinstance(element, int) or isinstance(element, float):\n",
    "            print(f\"  - Value: {element}\")\n",
    "        print()  # Blank line for readability\n",
    "\n",
    "# Main program\n",
    "if __name__ == \"__main__\":\n",
    "    user_list = populate_list()\n",
    "    explore_attributes(user_list)\n"
   ]
  },
  {
   "cell_type": "markdown",
   "metadata": {},
   "source": [
    "A way to gather input from the user, store it in a list, and then examine the attributes of the list's elements. The program prompts the user to input the number of elements they wish to add to the list and then collects the elements. It then prints each element along with its type (str, int, etc.), and for strings, it prints the length. For integers and floats, it simply displays their values."
   ]
  },
  {
   "cell_type": "code",
   "execution_count": null,
   "metadata": {},
   "outputs": [],
   "source": [
    "# Function to populate the list with user input\n",
    "def populate_list():\n",
    "    user_list = []  # Initialize an empty list\n",
    "    while True:\n",
    "        element = input(\"Enter a number to add to the list (or type 'done' to finish): \")\n",
    "        if element.lower() == 'done':\n",
    "            break  # Exit the loop when the user is done adding numbers\n",
    "        try:\n",
    "            # Convert the input to a float or integer and append to the list\n",
    "            user_list.append(float(element))\n",
    "        except ValueError:\n",
    "            print(\"Please enter a valid number or 'done' to stop.\")\n",
    "    \n",
    "    return user_list\n",
    "\n",
    "# Function to calculate and print the sum of all numbers in the list\n",
    "def calculate_sum(user_list):\n",
    "    total_sum = sum(user_list)  # Calculate the sum of all elements in the list\n",
    "    print(f\"\\nSum of numbers in the list: {total_sum}\")\n",
    "\n",
    "# Function to allow removing the last element using the .pop() method\n",
    "def remove_last_element(user_list):\n",
    "    if user_list:\n",
    "        removed_element = user_list.pop()  # Remove the last element\n",
    "        print(f\"\\nRemoved the last element: {removed_element}\")\n",
    "        print(f\"Updated list: {user_list}\")\n",
    "    else:\n",
    "        print(\"\\nThe list is already empty, nothing to remove.\")\n",
    "\n",
    "# Main program\n",
    "if __name__ == \"__main__\":\n",
    "    # Step 1: Populate the list with user input\n",
    "    user_list = populate_list()\n",
    "    \n",
    "    # Step 2: Calculate and print the sum of all numbers in the list\n",
    "    calculate_sum(user_list)\n",
    "    \n",
    "    # Step 3: Allow user to remove the last element\n",
    "    while True:\n",
    "        remove = input(\"\\nWould you like to remove the last element? (yes/no): \").lower()\n",
    "        if remove == 'yes':\n",
    "            remove_last_element(user_list)\n",
    "        else:\n",
    "            break\n"
   ]
  },
  {
   "cell_type": "markdown",
   "metadata": {},
   "source": [
    "Collects the numbers and calculates their sum. It allows the user to remove the last element in the list and prints the updated list after each removal. The loop ends when the user decides not to remove any more elements."
   ]
  },
  {
   "cell_type": "markdown",
   "metadata": {},
   "source": [
    "# Pseudocode\n",
    "\n",
    "# Step 1: Create a list of numbers from 1 to 100\n",
    "Create a list called number_list containing numbers from 1 to 100.\n",
    "\n",
    "# Step 2: Initialize sum variable\n",
    "Set sum_of_evens to 0.\n",
    "\n",
    "# Step 3: Iterate through each number in the list\n",
    "FOR each number in number_list:\n",
    "    IF number MOD 2 == 0:\n",
    "        # Step 4: Add even numbers to the sum\n",
    "        Add number to sum_of_evens.\n",
    "    END IF\n",
    "END FOR\n",
    "\n",
    "# Step 5: Display the sum of even numbers\n",
    "Display sum_of_evens.\n"
   ]
  },
  {
   "cell_type": "code",
   "execution_count": null,
   "metadata": {},
   "outputs": [],
   "source": [
    "import random  # Import the random module\n",
    "\n",
    "# Step 1: Create an empty list to store meal suggestions\n",
    "meal_suggestions = []\n",
    "\n",
    "# Step 2: Prompt the user to enter meal suggestions\n",
    "while True:\n",
    "    meal = input(\"Enter a meal suggestion (or type 'done' to finish): \")\n",
    "    if meal.lower() == 'done':  # Check if the user wants to stop\n",
    "        break\n",
    "    else:\n",
    "        meal_suggestions.append(meal)  # Add the meal suggestion to the list\n",
    "\n",
    "# Step 3: Randomly select a meal from the list\n",
    "if meal_suggestions:  # Ensure the list is not empty\n",
    "    selected_meal = random.choice(meal_suggestions)  # Pick a random meal\n",
    "    # Step 4: Display the selected meal\n",
    "    print(f\"How about this meal for today? {selected_meal}\")\n",
    "else:\n",
    "    print(\"No meal suggestions were entered.\")\n"
   ]
  },
  {
   "cell_type": "markdown",
   "metadata": {},
   "source": [
    "The script collects meal suggestions from the user, then randomly picks one and displays it.\n",
    "The user can keep adding meals and choose to stop at any time by typing 'done'.\n",
    "If no suggestions are entered, the system notifies the user."
   ]
  }
 ],
 "metadata": {
  "language_info": {
   "name": "python"
  }
 },
 "nbformat": 4,
 "nbformat_minor": 2
}
