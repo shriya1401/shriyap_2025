{
 "cells": [
  {
   "cell_type": "code",
   "execution_count": null,
   "metadata": {},
   "outputs": [],
   "source": [
    "print(\"Adding Numbers In List Script\")\n",
    "print(\"-\"*25)\n",
    "numlist = []\n",
    "while True:\n",
    "    start = input(\"Would you like to (1) enter numbers (2) add numbers (3) remove last value added or (4) exit: \")\n",
    "    if start == \"1\":\n",
    "        val = input(\"Enter a numeric value: \") # take input while storing it in a variable\n",
    "        try: \n",
    "            test = int(val) # testing to see if input is an integer (numeric)\n",
    "        except:\n",
    "            print(\"Please enter a valid number\")\n",
    "            continue # 'continue' keyword skips to next step of while loop (basically restarting the loop)\n",
    "        numlist.append(int(val)) # append method to add values\n",
    "        print(\"Added \"+val+\" to list.\")\n",
    "    elif start == \"2\":\n",
    "        sum = 0\n",
    "        for num in numlist: # loop through list and add all values to sum variable\n",
    "            sum += num\n",
    "        print(\"Sum of numbers in list is \"+str(sum))\n",
    "    elif start == \"3\":\n",
    "        if len(numlist) > 0: # Make sure there are values in list to remove\n",
    "            print(\"Removed \"+str(numlist[len(numlist)-1])+\" from list.\")\n",
    "            numlist.pop()\n",
    "        else:\n",
    "            print(\"No values to delete\")\n",
    "    elif start == \"4\":\n",
    "        break # Break out of the while loop, or it will continue running forever\n",
    "    else:\n",
    "        continue\n"
   ]
  },
  {
   "cell_type": "markdown",
   "metadata": {},
   "source": [
    "### Pseudocode\n",
    "   nums ← 1 to 100\n",
    "odd_sum ← 0\n",
    "\n",
    "FOR EACH score IN nums\n",
    "    IF score MOD 2 ≠ 0 THEN\n",
    "        odd_sum ← odd_sum + score\n",
    "    END IF\n",
    "END FOR\n",
    "\n",
    "DISPLAY (\"Sum of odd numbers in the list:\", odd_sum)"
   ]
  },
  {
   "cell_type": "code",
   "execution_count": null,
   "metadata": {},
   "outputs": [],
   "source": [
    "\n",
    "nums = range(1, 101)  # This creates a range of numbers from 1 to 100\n",
    "odd_sum = 0\n",
    "\n",
    "for score in nums:\n",
    "    if score % 2 != 0:\n",
    "        odd_sum += score\n",
    "\n",
    "print(\"Sum of odd numbers in the list:\", odd_sum)"
   ]
  },
  {
   "cell_type": "code",
   "execution_count": null,
   "metadata": {},
   "outputs": [],
   "source": [
    "def gather_tasks():\n",
    "    tasks = []\n",
    "    print(\"Enter your tasks (type 'done' to finish):\")\n",
    "    \n",
    "    while True:\n",
    "        task = input(\"Task: \")\n",
    "        if task.lower() == 'done':\n",
    "            break\n",
    "        tasks.append(task)\n",
    "    \n",
    "    return tasks\n",
    "\n",
    "# Function to display tasks\n",
    "def display_tasks(tasks):\n",
    "    count = len(tasks)\n",
    "    print(f\"You have {count} task(s) on your list:\")  # No color\n",
    "    for task in tasks:\n",
    "        print(f\"- {task}\")  # No color\n",
    "\n",
    "# Main code\n",
    "if __name__ == \"__main__\":\n",
    "    user_tasks = gather_tasks()\n",
    "    display_tasks(user_tasks)\n"
   ]
  }
 ],
 "metadata": {
  "language_info": {
   "name": "python"
  }
 },
 "nbformat": 4,
 "nbformat_minor": 2
}
