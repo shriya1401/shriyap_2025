{
 "cells": [
  {
   "cell_type": "markdown",
   "metadata": {},
   "source": [
    "---\n",
    "layout : post\n",
    "title : Homework and Popcorn Hacks for Lessons 3.4\n",
    "descriptions : All homeworks for Lessons\n",
    "courses : { csp: {week: 1} }\n",
    "comments: true\n",
    "sticky_rank: 1\n",
    "\n",
    "---"
   ]
  },
  {
   "cell_type": "markdown",
   "metadata": {},
   "source": [
    "Popcorn Hacks"
   ]
  },
  {
   "cell_type": "code",
   "execution_count": 1,
   "metadata": {
    "vscode": {
     "languageId": "javascript"
    }
   },
   "outputs": [
    {
     "name": "stdout",
     "output_type": "stream",
     "text": [
      "Using Concatenation:\n",
      "Hello, my favorite movie is Inside Out 2. My favorite sport is Basketball and my pet’s name is Biscuit.\n",
      "\n",
      "Using Interpolation:\n",
      "Hello, my favorite movie is Inside Out 2. My favorite sport is Basketball and my pet’s name is Biscuit.\n"
     ]
    }
   ],
   "source": [
    "# Define the variables\n",
    "movie = \"Inside Out 2\"\n",
    "sport = \"Basketball\"\n",
    "pet_name = \"Biscuit\"\n",
    "\n",
    "# String Concatenation\n",
    "message_concatenation = \"Hello, my favorite movie is \" + movie + \". My favorite sport is \" + sport + \" and my pet’s name is \" + pet_name + \".\"\n",
    "print(\"Using Concatenation:\")\n",
    "print(message_concatenation)\n",
    "\n",
    "# String Interpolation (f-string)\n",
    "message_interpolation = f\"Hello, my favorite movie is {movie}. My favorite sport is {sport} and my pet’s name is {pet_name}.\"\n",
    "print(\"\\nUsing Interpolation:\")\n",
    "print(message_interpolation)\n"
   ]
  },
  {
   "cell_type": "code",
   "execution_count": null,
   "metadata": {
    "vscode": {
     "languageId": "javascript"
    }
   },
   "outputs": [],
   "source": [
    "// Given string\n",
    "let sentence = \"A journey of a thousand miles begins with a single step\";\n",
    "\n",
    "// Using the slice() method\n",
    "let sliced1 = sentence.slice(0, 10);  // First 10 characters\n",
    "let sliced2 = sentence.slice(2, 20);  // Characters from index 2 to 20\n",
    "let sliced3 = sentence.slice(-10);     // Last 10 characters\n",
    "let sliced4 = sentence.slice(2, -2);   // Characters from index 2 to the second last character\n",
    "\n",
    "// Printing the results\n",
    "console.log(\"First 10 characters: \", sliced1);   // A journey\n",
    "console.log(\"Characters from index 2 to 20: \", sliced2); // journey of a th\n",
    "console.log(\"Last 10 characters: \", sliced3);    // single step\n",
    "console.log(\"Characters from index 2 to second last: \", sliced4); // journey of a thousand miles begins with a singl\n"
   ]
  },
  {
   "cell_type": "code",
   "execution_count": null,
   "metadata": {},
   "outputs": [],
   "source": [
    "def remove_vowels(sentence):\n",
    "    vowels = \"aeiouAEIOU\"  # String of vowels\n",
    "    modified_sentence = \"\"\n",
    "\n",
    "    # Loop through each character in the sentence\n",
    "    for char in sentence:\n",
    "        if char not in vowels:\n",
    "            modified_sentence += char  # Add non-vowel characters to the modified sentence\n",
    "\n",
    "    return modified_sentence\n",
    "\n",
    "# Test the function\n",
    "test_sentence = \"A journey of a thousand miles begins with a single step.\"\n",
    "result = remove_vowels(test_sentence)\n",
    "print(\"Modified Sentence (using loop):\", result)\n"
   ]
  },
  {
   "cell_type": "code",
   "execution_count": null,
   "metadata": {},
   "outputs": [],
   "source": [
    "def remove_vowels(sentence):\n",
    "    vowels = \"aeiouAEIOU\"  # String of vowels\n",
    "    \n",
    "    # Use list comprehension to filter out vowels and join the characters back into a string\n",
    "    modified_sentence = ''.join([char for char in sentence if char not in vowels])\n",
    "    \n",
    "    return modified_sentence\n",
    "\n",
    "# Test the function\n",
    "test_sentence = \"A journey of a thousand miles begins with a single step.\"\n",
    "result = remove_vowels(test_sentence)\n",
    "print(\"Modified Sentence (using list comprehension):\", result)\n"
   ]
  },
  {
   "cell_type": "code",
   "execution_count": null,
   "metadata": {},
   "outputs": [],
   "source": [
    "def reverse_words(sentence):\n",
    "    # Split the sentence into words\n",
    "    words = sentence.split()\n",
    "    \n",
    "    # Reverse the list of words\n",
    "    reversed_words = words[::-1]\n",
    "    \n",
    "    # Join the reversed list back into a string\n",
    "    reversed_sentence = ' '.join(reversed_words)\n",
    "    \n",
    "    return reversed_sentence\n",
    "\n",
    "# Test the function with different sentences\n",
    "test_sentence_1 = \"A journey of a thousand miles begins with a single step.\"\n",
    "test_sentence_2 = \"Python is an amazing programming language.\"\n",
    "test_sentence_3 = \"Keep calm and carry on.\"\n",
    "\n",
    "# Output the results\n",
    "print(\"Original Sentence 1:\", test_sentence_1)\n",
    "print(\"Reversed Sentence 1:\", reverse_words(test_sentence_1))\n",
    "print()\n",
    "print(\"Original Sentence 2:\", test_sentence_2)\n",
    "print(\"Reversed Sentence 2:\", reverse_words(test_sentence_2))\n",
    "print()\n",
    "print(\"Original Sentence 3:\", test_sentence_3)\n",
    "print(\"Reversed Sentence 3:\", reverse_words(test_sentence_3))\n"
   ]
  },
  {
   "cell_type": "markdown",
   "metadata": {},
   "source": [
    "Homework Hacks"
   ]
  },
  {
   "cell_type": "code",
   "execution_count": 4,
   "metadata": {
    "vscode": {
     "languageId": "javascript"
    }
   },
   "outputs": [
    {
     "data": {
      "application/javascript": "function generateGreeting(firstName, lastName) {\n    // Using string concatenation\n    var greetingConcat = \"Hello, \" + firstName + \" \" + lastName + \"!\";\n    \n    // Using template literals (interpolation)\n    var greetingTemplate = `Hello, ${firstName} ${lastName}!`;\n    \n    console.log(greetingConcat);  // Output using concatenation\n    console.log(greetingTemplate); // Output using interpolation\n}\n\n// Test the function\ngenerateGreeting(\"Shriya\", \"Paladugu\");\n",
      "text/plain": [
       "<IPython.core.display.Javascript object>"
      ]
     },
     "metadata": {},
     "output_type": "display_data"
    }
   ],
   "source": [
    "%%js\n",
    "function generateGreeting(firstName, lastName) {\n",
    "    // Using string concatenation\n",
    "    var greetingConcat = \"Hello, \" + firstName + \" \" + lastName + \"!\";\n",
    "    \n",
    "    // Using template literals (interpolation)\n",
    "    var greetingTemplate = `Hello, ${firstName} ${lastName}!`;\n",
    "    \n",
    "    console.log(greetingConcat);  // Output using concatenation\n",
    "    console.log(greetingTemplate); // Output using interpolation\n",
    "}\n",
    "\n",
    "// Test the function\n",
    "generateGreeting(\"Shriya\", \"Paladugu\");\n"
   ]
  },
  {
   "cell_type": "code",
   "execution_count": 5,
   "metadata": {},
   "outputs": [
    {
     "name": "stdout",
     "output_type": "stream",
     "text": [
      "Is 'A man a plan a canal Panama' a palindrome? True\n",
      "Is 'Hello World' a palindrome? False\n",
      "Is 'Racecar' a palindrome? True\n",
      "Is 'Python' a palindrome? False\n"
     ]
    }
   ],
   "source": [
    "def is_palindrome(input_string):\n",
    "    # Remove spaces and convert to lowercase for accurate comparison\n",
    "    cleaned_string = ''.join(input_string.split()).lower()\n",
    "    \n",
    "    # Check if the cleaned string is equal to its reverse\n",
    "    return cleaned_string == cleaned_string[::-1]\n",
    "\n",
    "# Test the function with various inputs\n",
    "test_strings = [\n",
    "    \"A man a plan a canal Panama\",  # Palindrome\n",
    "    \"Hello World\",                   # Not a palindrome\n",
    "    \"Racecar\",                       # Palindrome\n",
    "    \"Basketball\"                         # Not a palindrome\n",
    "]\n",
    "\n",
    "for test in test_strings:\n",
    "    result = is_palindrome(test)\n",
    "    print(f\"Is '{test}' a palindrome? {result}\")\n"
   ]
  }
 ],
 "metadata": {
  "kernelspec": {
   "display_name": "venv",
   "language": "python",
   "name": "python3"
  },
  "language_info": {
   "codemirror_mode": {
    "name": "ipython",
    "version": 3
   },
   "file_extension": ".py",
   "mimetype": "text/x-python",
   "name": "python",
   "nbconvert_exporter": "python",
   "pygments_lexer": "ipython3",
   "version": "3.12.3"
  }
 },
 "nbformat": 4,
 "nbformat_minor": 2
}
