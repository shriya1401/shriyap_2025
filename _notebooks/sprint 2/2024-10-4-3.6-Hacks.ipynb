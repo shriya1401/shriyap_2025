{
 "cells": [
  {
   "cell_type": "markdown",
   "metadata": {},
   "source": [
    "---\n",
    "layout : post\n",
    "title : Homework and Popcorn Hacks for Lessons 3.6\n",
    "descriptions : All homeworks for Lessons\n",
    "courses : { csp: {week: 1} }\n",
    "comments: true\n",
    "sticky_rank: 1\n",
    "\n",
    "---"
   ]
  },
  {
   "cell_type": "code",
   "execution_count": 1,
   "metadata": {},
   "outputs": [
    {
     "name": "stdout",
     "output_type": "stream",
     "text": [
      "You can't go on the rollercoaster!\n"
     ]
    }
   ],
   "source": [
    "age = 90\n",
    "\n",
    "if age > 50:\n",
    "    print(\"You can't go on the rollercoaster!\")\n",
    "else:\n",
    "    print(\"You can ride the rollercoaster@\")\n",
    "\n"
   ]
  },
  {
   "cell_type": "code",
   "execution_count": 2,
   "metadata": {
    "vscode": {
     "languageId": "javascript"
    }
   },
   "outputs": [
    {
     "data": {
      "application/javascript": "let age = 90;\n\n// Conditional statement\nif (age > 50) {\n    console.log(\"You cant go on the rollercoaster!\");\n} else {\n    console.log(\"You can go on the rollercoaster!\");\n}\n",
      "text/plain": [
       "<IPython.core.display.Javascript object>"
      ]
     },
     "metadata": {},
     "output_type": "display_data"
    }
   ],
   "source": [
    "%%js\n",
    "let age = 90;\n",
    "\n",
    "// Conditional statement\n",
    "if (age > 50) {\n",
    "    console.log(\"You cant go on the rollercoaster!\");\n",
    "} else {\n",
    "    console.log(\"You can go on the rollercoaster!\");\n",
    "}\n"
   ]
  },
  {
   "cell_type": "code",
   "execution_count": null,
   "metadata": {},
   "outputs": [],
   "source": [
    "# Get user input for a boolean value\n",
    "likes_coffee = input(\"Do you like coffee? (yes/no): \").strip().lower() == 'yes'\n",
    "\n",
    "# Conditional check using the boolean variable\n",
    "if likes_coffee:\n",
    "    print(\"Great! You love coffee.\")\n",
    "else:\n",
    "    print(\"You don't like coffee.\")\n"
   ]
  },
  {
   "cell_type": "code",
   "execution_count": 4,
   "metadata": {
    "vscode": {
     "languageId": "javascript"
    }
   },
   "outputs": [
    {
     "data": {
      "application/javascript": "// Get user input for a boolean value\nlet likesCoffee = prompt(\"Do you like coffee? (yes/no)\").toLowerCase() === 'yes';\n\n// Conditional check using the boolean variable\nif (likesCoffee) {\n    console.log(\"Great! You love coffee.\");\n} else {\n    console.log(\"You don't like coffee.\");\n}\n",
      "text/plain": [
       "<IPython.core.display.Javascript object>"
      ]
     },
     "metadata": {},
     "output_type": "display_data"
    }
   ],
   "source": [
    "%%js\n",
    "// Get user input for a boolean value\n",
    "let likesCoffee = prompt(\"Do you like coffee? (yes/no)\").toLowerCase() === 'yes';\n",
    "\n",
    "// Conditional check using the boolean variable\n",
    "if (likesCoffee) {\n",
    "    console.log(\"Great! You love coffee.\");\n",
    "} else {\n",
    "    console.log(\"You don't like coffee.\");\n",
    "}\n",
    "\n"
   ]
  },
  {
   "cell_type": "code",
   "execution_count": null,
   "metadata": {},
   "outputs": [],
   "source": [
    "# Import the random library\n",
    "import random\n",
    "\n",
    "# Simulate rolling a die\n",
    "dice_roll = random.randint(1, 6)  # Generate a random number between 1 and 6\n",
    "\n",
    "print(f\"You rolled a {dice_roll}.\")\n",
    "\n",
    "# Conditional based on the dice roll\n",
    "if dice_roll >= 4:\n",
    "    print(\"You rolled a high number!\")\n",
    "else:\n",
    "    print(\"You rolled a low number.\")\n"
   ]
  },
  {
   "cell_type": "code",
   "execution_count": null,
   "metadata": {
    "vscode": {
     "languageId": "javascript"
    }
   },
   "outputs": [],
   "source": [
    "// Generate a random number between 1 and 6 using Math\n",
    "let diceRoll = Math.floor(Math.random() * 6) + 1;\n",
    "\n",
    "console.log(`You rolled a ${diceRoll}.`);\n",
    "\n",
    "// Conditional based on the dice roll\n",
    "if (diceRoll >= 4) {\n",
    "    console.log(\"You rolled a high number!\");\n",
    "} else {\n",
    "    console.log(\"You rolled a low number.\");\n",
    "}\n"
   ]
  },
  {
   "cell_type": "code",
   "execution_count": null,
   "metadata": {},
   "outputs": [],
   "source": [
    "# Input age and whether the child has a ball\n",
    "age = int(input(\"Enter your age: \"))\n",
    "has_ball = input(\"Do you have a ball? (yes/no): \").strip().lower()\n",
    "\n",
    "# Check if the child can join the game based on age and ball ownership\n",
    "if age >= 5:\n",
    "    if has_ball == \"yes\":\n",
    "        # Determine play group based on age\n",
    "        group = \"younger kids\" if age < 8 else \"older kids\"\n",
    "        print(f\"Great! You can play with the {group}.\")\n",
    "    else:\n",
    "        print(\"You need a ball to join the game.\")\n",
    "else:\n",
    "    print(\"Sorry, you can't join the game yet. You must be at least 5 years old.\")\n"
   ]
  },
  {
   "cell_type": "code",
   "execution_count": 5,
   "metadata": {},
   "outputs": [
    {
     "data": {
      "application/javascript": "// Get age from the user\nlet age = parseInt(prompt(\"Enter your age: \"));\n\n// Check ball ownership\nlet hasBall = prompt(\"Do you have a ball? (yes/no)\").toLowerCase() === 'yes';\n\n// Check eligibility based on age and ball ownership\nif (age >= 5 && hasBall) {\n    // Determine play group based on age\n    let group;\n    if (age < 8) {\n        group = \"under 8 group\";\n    } else {\n        group = \"8 and older group\";\n    }\n\n    // Display result\n    console.log(`You can join the game! You are in the ${group}.`);\n} else {\n    console.log(\"Sorry, you cannot join the game. You must be at least 5 years old and have a ball.\");\n}\n",
      "text/plain": [
       "<IPython.core.display.Javascript object>"
      ]
     },
     "metadata": {},
     "output_type": "display_data"
    }
   ],
   "source": [
    "# Define a function to ask a question\n",
    "def ask_question(question, options, correct_answer):\n",
    "    print(question)\n",
    "    for i, option in enumerate(options, 1):\n",
    "        print(f\"{i}. {option}\")\n",
    "    \n",
    "    # Get the user's answer\n",
    "    answer = int(input(\"Enter the number of your answer: \"))\n",
    "    \n",
    "    # Check if the answer is correct\n",
    "    if options[answer - 1].lower() == correct_answer.lower():\n",
    "        print(\"Correct!\\n\")\n",
    "        return True\n",
    "    else:\n",
    "        print(f\"Wrong! The correct answer was '{correct_answer}'.\\n\")\n",
    "        return False\n",
    "\n",
    "# List of questions, options, and correct answers\n",
    "questions = [\n",
    "    {\n",
    "        \"question\": \"What is the capital of France?\",\n",
    "        \"options\": [\"Berlin\", \"Madrid\", \"Paris\", \"Rome\"],\n",
    "        \"correct_answer\": \"Paris\"\n",
    "    },\n",
    "    {\n",
    "        \"question\": \"Which planet is known as the Red Planet?\",\n",
    "        \"options\": [\"Earth\", \"Mars\", \"Jupiter\", \"Venus\"],\n",
    "        \"correct_answer\": \"Mars\"\n",
    "    },\n",
    "    {\n",
    "        \"question\": \"Which month of the year is National Ice Cream Month?\",\n",
    "        \"options\": [\"June\", \"July\", \"August\", \"May\"],\n",
    "        \"correct_answer\": \"July\"\n",
    "    },\n",
    "    {\n",
    "        \"question\": \"What is the largest ocean on Earth?\",\n",
    "        \"options\": [\"Atlantic Ocean\", \"Indian Ocean\", \"Pacific Ocean\", \"Southern Ocean\"],\n",
    "        \"correct_answer\": \"Pacific Ocean\"\n",
    "    },\n",
    "    {\n",
    "        \"question\": \"In which year did World War II end?\",\n",
    "        \"options\": [\"1945\", \"1939\", \"1942\", \"1948\"],\n",
    "        \"correct_answer\": \"1945\"\n",
    "    }\n",
    "]\n",
    "\n",
    "# Main game function\n",
    "def quiz_game():\n",
    "    score = 0\n",
    "    total_questions = len(questions)\n",
    "    \n",
    "    print(\"Welcome to the General Knowledge Quiz!\")\n",
    "    print(\"Answer the following 5 questions:\\n\")\n",
    "    \n",
    "    # Loop through each question and ask it\n",
    "    for q in questions:\n",
    "        if ask_question(q[\"question\"], q[\"options\"], q[\"correct_answer\"]):\n",
    "            score += 1\n",
    "\n",
    "    # Final score\n",
    "    print(f\"Quiz over! Your final score is {score}/{total_questions}.\")\n",
    "\n",
    "# Run the quiz game\n",
    "if __name__ == \"__main__\":\n",
    "    quiz_game()\n"
   ]
  }
 ],
 "metadata": {
  "kernelspec": {
   "display_name": "venv",
   "language": "python",
   "name": "python3"
  },
  "language_info": {
   "codemirror_mode": {
    "name": "ipython",
    "version": 3
   },
   "file_extension": ".py",
   "mimetype": "text/x-python",
   "name": "python",
   "nbconvert_exporter": "python",
   "pygments_lexer": "ipython3",
   "version": "3.12.3"
  }
 },
 "nbformat": 4,
 "nbformat_minor": 2
}
