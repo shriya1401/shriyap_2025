{
 "cells": [
  {
   "cell_type": "markdown",
   "metadata": {},
   "source": [
    "---\n",
    "layout : post\n",
    "title : Homework and Popcorn Hacks for Lessons 3.6\n",
    "descriptions : All homeworks for Lessons\n",
    "courses : { csp: {week: 1} }\n",
    "comments: true\n",
    "sticky_rank: 1\n",
    "\n",
    "---"
   ]
  },
  {
   "cell_type": "code",
   "execution_count": 1,
   "metadata": {},
   "outputs": [
    {
     "name": "stdout",
     "output_type": "stream",
     "text": [
      "You can't go on the rollercoaster!\n"
     ]
    }
   ],
   "source": [
    "age = 90\n",
    "\n",
    "if age > 50:\n",
    "    print(\"You can't go on the rollercoaster!\")\n",
    "else:\n",
    "    print(\"You can ride the rollercoaster@\")\n",
    "\n"
   ]
  },
  {
   "cell_type": "markdown",
   "metadata": {},
   "source": [
    "In python, I set the value of the variable age to 90 and used an if-else conditional to determine if a person can ride a rollercoaster based on their age, so if they are less than 50 years old. If they are lower than 50 years then they can ride the rollercoaster, other wize they cant. "
   ]
  },
  {
   "cell_type": "code",
   "execution_count": 2,
   "metadata": {
    "vscode": {
     "languageId": "javascript"
    }
   },
   "outputs": [
    {
     "data": {
      "application/javascript": "let age = 90;\n\n// Conditional statement\nif (age > 50) {\n    console.log(\"You cant go on the rollercoaster!\");\n} else {\n    console.log(\"You can go on the rollercoaster!\");\n}\n",
      "text/plain": [
       "<IPython.core.display.Javascript object>"
      ]
     },
     "metadata": {},
     "output_type": "display_data"
    }
   ],
   "source": [
    "%%js\n",
    "let age = 90;\n",
    "\n",
    "// Conditional statement\n",
    "if (age > 50) {\n",
    "    console.log(\"You cant go on the rollercoaster!\");\n",
    "} else {\n",
    "    console.log(\"You can go on the rollercoaster!\");\n",
    "}\n"
   ]
  },
  {
   "cell_type": "markdown",
   "metadata": {},
   "source": [
    "In javascript, I set the value of the variable age to 90 and used an if-else conditional to determine if a person can ride a rollercoaster based on their age, so if they are less than 50 years old. If they are lower than 50 years then they can ride the rollercoaster, other wize they cant. "
   ]
  },
  {
   "cell_type": "code",
   "execution_count": null,
   "metadata": {},
   "outputs": [],
   "source": [
    "# Get user input for a boolean value\n",
    "likes_coffee = input(\"Do you like coffee? (yes/no): \").strip().lower() == 'yes'\n",
    "\n",
    "# Conditional check using the boolean variable\n",
    "if likes_coffee:\n",
    "    print(\"Great! You love coffee.\")\n",
    "else:\n",
    "    print(\"You don't like coffee.\")\n"
   ]
  },
  {
   "cell_type": "markdown",
   "metadata": {},
   "source": [
    "This Python, I used an input to prompts the user for input and checks whether they like coffee based on their response, based on their response a different statement will be printed, so if they idd like coffee, it would print 'Great! You love coffee.'"
   ]
  },
  {
   "cell_type": "code",
   "execution_count": 4,
   "metadata": {
    "vscode": {
     "languageId": "javascript"
    }
   },
   "outputs": [
    {
     "data": {
      "application/javascript": "// Get user input for a boolean value\nlet likesCoffee = prompt(\"Do you like coffee? (yes/no)\").toLowerCase() === 'yes';\n\n// Conditional check using the boolean variable\nif (likesCoffee) {\n    console.log(\"Great! You love coffee.\");\n} else {\n    console.log(\"You don't like coffee.\");\n}\n",
      "text/plain": [
       "<IPython.core.display.Javascript object>"
      ]
     },
     "metadata": {},
     "output_type": "display_data"
    }
   ],
   "source": [
    "%%js\n",
    "// Get user input for a boolean value\n",
    "let likesCoffee = prompt(\"Do you like coffee? (yes/no)\").toLowerCase() === 'yes';\n",
    "\n",
    "// Conditional check using the boolean variable\n",
    "if (likesCoffee) {\n",
    "    console.log(\"Great! You love coffee.\");\n",
    "} else {\n",
    "    console.log(\"You don't like coffee.\");\n",
    "}\n",
    "\n"
   ]
  },
  {
   "cell_type": "markdown",
   "metadata": {},
   "source": [
    "In javascript, I used an input to prompts the user for input and checks whether they like coffee based on their response, based on their response a different statement will be printed, so if they did like coffee, it would print 'Great! You love coffee.'"
   ]
  },
  {
   "cell_type": "code",
   "execution_count": null,
   "metadata": {},
   "outputs": [],
   "source": [
    "# Import the random library\n",
    "import random\n",
    "\n",
    "# Simulate rolling a die\n",
    "dice_roll = random.randint(1, 6)  # Generate a random number between 1 and 6\n",
    "\n",
    "print(f\"You rolled a {dice_roll}.\")\n",
    "\n",
    "# Conditional based on the dice roll\n",
    "if dice_roll >= 4:\n",
    "    print(\"You rolled a high number!\")\n",
    "else:\n",
    "    print(\"You rolled a low number.\")\n"
   ]
  },
  {
   "cell_type": "markdown",
   "metadata": {},
   "source": [
    "The python code is used to roll a die by generating a random number between 1 and 6, then prints the result of the roll, then by using an if else statement, it gives feedback on whether the rolled number is considered \"high\" (4, 5, or 6) or \"low\" (1, 2, or 3)."
   ]
  },
  {
   "cell_type": "code",
   "execution_count": null,
   "metadata": {
    "vscode": {
     "languageId": "javascript"
    }
   },
   "outputs": [],
   "source": [
    "// Generate a random number between 1 and 6 using Math\n",
    "let diceRoll = Math.floor(Math.random() * 6) + 1;\n",
    "\n",
    "console.log(`You rolled a ${diceRoll}.`);\n",
    "\n",
    "// Conditional based on the dice roll\n",
    "if (diceRoll >= 4) {\n",
    "    console.log(\"You rolled a high number!\");\n",
    "} else {\n",
    "    console.log(\"You rolled a low number.\");\n",
    "}\n"
   ]
  },
  {
   "cell_type": "markdown",
   "metadata": {},
   "source": [
    "The python code is used to roll a die by generating a random number between 1 and 6, then prints the result of the roll, then by using an if else statement, it gives feedback on whether the rolled number is considered \"high\" (4, 5, or 6) or \"low\" (1, 2, or 3).But in python randomizing the number is more complex than for javascript, the Math.random gives any number between 0-1 including decimals, then the math.floor rounds the number without any decimals. "
   ]
  },
  {
   "cell_type": "code",
   "execution_count": null,
   "metadata": {},
   "outputs": [],
   "source": [
    "# Input age and whether the child has a ball\n",
    "age = int(input(\"Enter your age: \"))\n",
    "has_ball = input(\"Do you have a ball? (yes/no): \").strip().lower()\n",
    "\n",
    "# Check if the child can join the game based on age and ball ownership\n",
    "if age >= 5:\n",
    "    if has_ball == \"yes\":\n",
    "        # Determine play group based on age\n",
    "        group = \"younger kids\" if age < 8 else \"older kids\"\n",
    "        print(f\"Great! You can play with the {group}.\")\n",
    "    else:\n",
    "        print(\"You need a ball to join the game.\")\n",
    "else:\n",
    "    print(\"Sorry, you can't join the game yet. You must be at least 5 years old.\")\n"
   ]
  },
  {
   "cell_type": "markdown",
   "metadata": {},
   "source": [
    "Using python, I used the code to determine whether a child can join a game based on their age and whether they have a ball. In the input function I used .stip() to make sure there arent any extra spaces, and used the .lower() function to convert all text to lowercase. "
   ]
  },
  {
   "cell_type": "code",
   "execution_count": 5,
   "metadata": {},
   "outputs": [
    {
     "data": {
      "application/javascript": "// Get age from the user\nlet age = parseInt(prompt(\"Enter your age: \"));\n\n// Check ball ownership\nlet hasBall = prompt(\"Do you have a ball? (yes/no)\").toLowerCase() === 'yes';\n\n// Check eligibility based on age and ball ownership\nif (age >= 5 && hasBall) {\n    // Determine play group based on age\n    let group;\n    if (age < 8) {\n        group = \"under 8 group\";\n    } else {\n        group = \"8 and older group\";\n    }\n\n    // Display result\n    console.log(`You can join the game! You are in the ${group}.`);\n} else {\n    console.log(\"Sorry, you cannot join the game. You must be at least 5 years old and have a ball.\");\n}\n",
      "text/plain": [
       "<IPython.core.display.Javascript object>"
      ]
     },
     "metadata": {},
     "output_type": "display_data"
    }
   ],
   "source": [
    "# Define a function to ask a question\n",
    "def ask_question(question, options, correct_answer):\n",
    "    print(question)\n",
    "    for i, option in enumerate(options, 1):\n",
    "        print(f\"{i}. {option}\")\n",
    "    \n",
    "    # Get the user's answer\n",
    "    answer = int(input(\"Enter the number of your answer: \"))\n",
    "    \n",
    "    # Check if the answer is correct\n",
    "    if options[answer - 1].lower() == correct_answer.lower():\n",
    "        print(\"Correct!\\n\")\n",
    "        return True\n",
    "    else:\n",
    "        print(f\"Wrong! The correct answer was '{correct_answer}'.\\n\")\n",
    "        return False\n",
    "\n",
    "# List of questions, options, and correct answers\n",
    "questions = [\n",
    "    {\n",
    "        \"question\": \"What is the capital of France?\",\n",
    "        \"options\": [\"Berlin\", \"Madrid\", \"Paris\", \"Rome\"],\n",
    "        \"correct_answer\": \"Paris\"\n",
    "    },\n",
    "    {\n",
    "        \"question\": \"Which planet is known as the Red Planet?\",\n",
    "        \"options\": [\"Earth\", \"Mars\", \"Jupiter\", \"Venus\"],\n",
    "        \"correct_answer\": \"Mars\"\n",
    "    },\n",
    "    {\n",
    "        \"question\": \"Which month of the year is National Ice Cream Month?\",\n",
    "        \"options\": [\"June\", \"July\", \"August\", \"May\"],\n",
    "        \"correct_answer\": \"July\"\n",
    "    },\n",
    "    {\n",
    "        \"question\": \"What is the largest ocean on Earth?\",\n",
    "        \"options\": [\"Atlantic Ocean\", \"Indian Ocean\", \"Pacific Ocean\", \"Southern Ocean\"],\n",
    "        \"correct_answer\": \"Pacific Ocean\"\n",
    "    },\n",
    "    {\n",
    "        \"question\": \"In which year did World War II end?\",\n",
    "        \"options\": [\"1945\", \"1939\", \"1942\", \"1948\"],\n",
    "        \"correct_answer\": \"1945\"\n",
    "    }\n",
    "]\n",
    "\n",
    "# Main game function\n",
    "def quiz_game():\n",
    "    score = 0\n",
    "    total_questions = len(questions)\n",
    "    \n",
    "    print(\"Welcome to the General Knowledge Quiz!\")\n",
    "    print(\"Answer the following 5 questions:\\n\")\n",
    "    \n",
    "    # Loop through each question and ask it\n",
    "    for q in questions:\n",
    "        if ask_question(q[\"question\"], q[\"options\"], q[\"correct_answer\"]):\n",
    "            score += 1\n",
    "\n",
    "    # Final score\n",
    "    print(f\"Quiz over! Your final score is {score}/{total_questions}.\")\n",
    "\n",
    "# Run the quiz game\n",
    "if __name__ == \"__main__\":\n",
    "    quiz_game()\n"
   ]
  },
  {
   "cell_type": "markdown",
   "metadata": {},
   "source": [
    "This Python program implements a simple quiz game where users answer multiple-choice questions, and the program checks if their answers are correct."
   ]
  }
 ],
 "metadata": {
  "kernelspec": {
   "display_name": "venv",
   "language": "python",
   "name": "python3"
  },
  "language_info": {
   "codemirror_mode": {
    "name": "ipython",
    "version": 3
   },
   "file_extension": ".py",
   "mimetype": "text/x-python",
   "name": "python",
   "nbconvert_exporter": "python",
   "pygments_lexer": "ipython3",
   "version": "3.12.3"
  }
 },
 "nbformat": 4,
 "nbformat_minor": 2
}
