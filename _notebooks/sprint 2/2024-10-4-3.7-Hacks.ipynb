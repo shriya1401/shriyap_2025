{
 "cells": [
  {
   "cell_type": "markdown",
   "metadata": {},
   "source": [
    "---\n",
    "layout : post\n",
    "title : Homework and Popcorn Hacks for Lessons 3.7\n",
    "descriptions : All homeworks for Lessons\n",
    "courses : { csp: {week: 1} }\n",
    "comments: true\n",
    "sticky_rank: 1\n",
    "\n",
    "---"
   ]
  },
  {
   "cell_type": "markdown",
   "metadata": {},
   "source": [
    " Nested conditionals : One conditional statement (like an if, else, or elif) is placed inside another"
   ]
  },
  {
   "cell_type": "code",
   "execution_count": 5,
   "metadata": {},
   "outputs": [
    {
     "name": "stdout",
     "output_type": "stream",
     "text": [
      "You can have fruits\n"
     ]
    }
   ],
   "source": [
    "# Prompting the user for their age and preference for sweets\n",
    "age = int(input(\"Please enter your age: \"))\n",
    "sweets = input(\"Do you like sweets? (yes/no): \").strip().lower()\n",
    "\n",
    "# Using nested conditionals to determine the snack\n",
    "if age < 18:\n",
    "    if sweets == \"yes\":\n",
    "        print(\"You get candy\")\n",
    "    else:\n",
    "        print(\"You get a fruit snack.\")\n",
    "else:\n",
    "        print(\"You can have fruits\")\n",
    "        "
   ]
  },
  {
   "cell_type": "markdown",
   "metadata": {},
   "source": [
    "The user is first asked for their age. If under 18, they are asked about their sweet preference. If they are 18 or older, they simply get fruits. If the user likes sweets and is under 18, they get candy. If not, they get a fruit snack, which I did by using if and else conditionals. "
   ]
  },
  {
   "cell_type": "code",
   "execution_count": 6,
   "metadata": {},
   "outputs": [
    {
     "name": "stdout",
     "output_type": "stream",
     "text": [
      "You can afford the high-end laptop.\n"
     ]
    }
   ],
   "source": [
    "# Define the prices of different laptops\n",
    "laptop1_price = 500  # Budget laptop\n",
    "laptop2_price = 1000  # Mid-range laptop\n",
    "laptop3_price = 1500  # High-end laptop\n",
    "\n",
    "# Prompt the user for their savings\n",
    "savings = float(input(\"Enter your savings: $\"))\n",
    "\n",
    "# Nested conditionals to check which laptop(s) the user can afford\n",
    "if savings >= laptop3_price:\n",
    "    print(\"You can afford the high-end laptop.\")\n",
    "elif savings >= laptop2_price:\n",
    "    print(\"You can afford the mid-range laptop.\")\n",
    "elif savings >= laptop1_price:\n",
    "    print(\"You can afford the budget laptop.\")\n",
    "else:\n",
    "    print(\"You cannot afford any laptop right now.\")"
   ]
  },
  {
   "cell_type": "markdown",
   "metadata": {},
   "source": [
    "The user is first asked to enter their savings by using an input() statement, depending on that if the user has enough savings for the high-end laptop, they'll be shown that option. If they don't have enough for the high-end laptop but can afford the mid-range one, they get that option. If they can only afford the budget laptop, they will be informed. If they can't afford any laptop, they are told as well, which is used with if, elif, and else statements. "
   ]
  },
  {
   "cell_type": "code",
   "execution_count": 13,
   "metadata": {
    "vscode": {
     "languageId": "javascript"
    }
   },
   "outputs": [
    {
     "data": {
      "application/javascript": "let Money = true;\nlet hasFreeTime = true; \n\n// Check if you can go on a trip\nif (hasMoney) {\n    if (hasFreeTime) {\n        console.log(\"You can go on the trip!\");\n    } else {\n        console.log(\"You have money, but no free time for the trip.\");\n    }\n} else {\n    if (hasFreeTime) {\n        console.log(\"You have time, but not enough money for the trip.\");\n    } else {\n        console.log(\"You neither have money nor free time for the trip.\");\n    }\n}\n",
      "text/plain": [
       "<IPython.core.display.Javascript object>"
      ]
     },
     "metadata": {},
     "output_type": "display_data"
    }
   ],
   "source": [
    "%%js\n",
    "let Money = true;\n",
    "let FreeTime = true; \n",
    "\n",
    "// Check if you can go on a trip\n",
    "if (Money) {\n",
    "    if (FreeTime) {\n",
    "        console.log(\"You can go on the trip!\");\n",
    "    } else {\n",
    "        console.log(\"You have money, but no free time for the trip.\");\n",
    "    }\n",
    "} else {\n",
    "    if (FreeTime) {\n",
    "        console.log(\"You have time, but not enough money for the trip.\");\n",
    "    } else {\n",
    "        console.log(\"You neither have money nor free time for the trip.\");\n",
    "    }\n",
    "}\n"
   ]
  },
  {
   "cell_type": "markdown",
   "metadata": {},
   "source": [
    "I used nested conditionals to determine whether you can go on a trip based on two factors, money and free time. "
   ]
  },
  {
   "cell_type": "code",
   "execution_count": null,
   "metadata": {
    "vscode": {
     "languageId": "javascript"
    }
   },
   "outputs": [],
   "source": [
    "%%js\n",
    "// Get age from the user\n",
    "let age = parseInt(prompt(\"Enter your age: \"));\n",
    "\n",
    "// Check ball ownership\n",
    "let hasBall = prompt(\"Do you have a ball? (yes/no)\").toLowerCase() === 'yes';\n",
    "\n",
    "// Check eligibility based on age and ball ownership\n",
    "if (age >= 5 && hasBall) {\n",
    "    // Determine play group based on age\n",
    "    let group;\n",
    "    if (age < 8) {\n",
    "        group = \"under 8 group\";\n",
    "    } else {\n",
    "        group = \"8 and older group\";\n",
    "    }\n",
    "\n",
    "    // Display result\n",
    "    console.log(`You can join the game! You are in the ${group}.`);\n",
    "} else {\n",
    "    console.log(\"Sorry, you cannot join the game. You must be at least 5 years old and have a ball.\");\n",
    "}\n"
   ]
  },
  {
   "cell_type": "markdown",
   "metadata": {},
   "source": [
    "I used javascript to determine eligibility for joining a game based on age and ball ownership. I used the prompt() statement do determine if they have a ball and there age. Depending on that I used if else conditionals to determine if thet can join the game. "
   ]
  }
 ],
 "metadata": {
  "kernelspec": {
   "display_name": "venv",
   "language": "python",
   "name": "python3"
  },
  "language_info": {
   "codemirror_mode": {
    "name": "ipython",
    "version": 3
   },
   "file_extension": ".py",
   "mimetype": "text/x-python",
   "name": "python",
   "nbconvert_exporter": "python",
   "pygments_lexer": "ipython3",
   "version": "3.12.3"
  }
 },
 "nbformat": 4,
 "nbformat_minor": 2
}
