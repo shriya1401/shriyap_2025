{
 "cells": [
  {
   "cell_type": "markdown",
   "metadata": {},
   "source": [
    "---\n",
    "layout : post\n",
    "title : Homework and Popcorn Hacks for Lessons 3.8\n",
    "descriptions : All homeworks for Lessons\n",
    "courses : { csp: {week: 1} }\n",
    "comments: true\n",
    "sticky_rank: 1\n",
    "\n",
    "---"
   ]
  },
  {
   "cell_type": "code",
   "execution_count": null,
   "metadata": {
    "vscode": {
     "languageId": "javascript"
    }
   },
   "outputs": [],
   "source": [
    "%%javascript\n",
    "for (let i = 3; i < 7; i++) {\n",
    "    console.log(i);\n",
    "}"
   ]
  },
  {
   "cell_type": "code",
   "execution_count": null,
   "metadata": {
    "vscode": {
     "languageId": "javascript"
    }
   },
   "outputs": [],
   "source": [
    " "
   ]
  },
  {
   "cell_type": "code",
   "execution_count": 5,
   "metadata": {
    "vscode": {
     "languageId": "javascript"
    }
   },
   "outputs": [
    {
     "name": "stdout",
     "output_type": "stream",
     "text": [
      "15\n",
      "18\n",
      "21\n",
      "24\n",
      "27\n",
      "30\n",
      "33\n",
      "36\n",
      "39\n",
      "42\n",
      "45\n",
      "48\n",
      "51\n",
      "54\n",
      "57\n",
      "60\n",
      "63\n",
      "66\n",
      "69\n",
      "72\n",
      "75\n",
      "78\n",
      "81\n",
      "84\n",
      "87\n",
      "90\n",
      "93\n",
      "96\n",
      "99\n"
     ]
    }
   ],
   "source": [
    "number = 14\n",
    "\n",
    "while number <=100:\n",
    "    if number % 3 == 0:\n",
    "        print(number)\n",
    "    number += 1"
   ]
  },
  {
   "cell_type": "code",
   "execution_count": null,
   "metadata": {},
   "outputs": [],
   "source": [
    "person = {'name': 'Shriya', 'age': 15}\n",
    "\n",
    "# Looping through keys\n",
    "for key in person:\n",
    "    print(key, person[key])\n",
    "\n",
    "# Looping through values\n",
    "for value in person.values():\n",
    "    print(value)\n",
    "\n",
    "# Looping through keys and values\n",
    "for key, value in person.items():\n",
    "    print(key, value)\n"
   ]
  },
  {
   "cell_type": "code",
   "execution_count": null,
   "metadata": {},
   "outputs": [],
   "source": [
    "import random\n",
    "\n",
    "flip = \"\"\n",
    "\n",
    "while flip != \"heads\":\n",
    "    flip = random.choice([\"heads\", \"tails\"])\n",
    "    print(f\"Flipped: {flip}\")\n",
    "\n",
    "print(\"Landed on heads!\")"
   ]
  },
  {
   "cell_type": "code",
   "execution_count": null,
   "metadata": {},
   "outputs": [],
   "source": [
    "# Part 1: FizzBuzz from 1 to 50\n",
    "i = 1\n",
    "while i <= 50:\n",
    "    if i % 3 == 0 and i % 5 == 0:\n",
    "        print(\"FizzBuzz\")\n",
    "    elif i % 3 == 0:\n",
    "        print(\"Fizz\")\n",
    "    elif i % 5 == 0:\n",
    "        print(\"Buzz\")\n",
    "    elif i % 7 == 0:\n",
    "        print(\"Boom\")\n",
    "    else:\n",
    "        print(i)\n",
    "    i += 1\n",
    "\n",
    "# Challenge: FizzBuzz from 50 to 100, but for multiples of 4 and 6\n",
    "print(\"Challenge: Range from 50 to 100 with new rules\")\n",
    "i = 50\n",
    "while i <= 100:\n",
    "    if i % 4 == 0 and i % 6 == 0:\n",
    "        print(\"FizzBuzz\")\n",
    "    elif i % 4 == 0:\n",
    "        print(\"Fizz\")\n",
    "    elif i % 6 == 0:\n",
    "        print(\"Buzz\")\n",
    "    elif i % 7 == 0:\n",
    "        print(\"Boom\")\n",
    "    else:\n",
    "        print(i)\n",
    "    i += 1\n"
   ]
  },
  {
   "cell_type": "code",
   "execution_count": 12,
   "metadata": {},
   "outputs": [
    {
     "name": "stdout",
     "output_type": "stream",
     "text": [
      "Incorrect login. You have 2 attempt(s) left.\n",
      "Incorrect login. You have 1 attempt(s) left.\n",
      "Account locked. You have used all attempts.\n",
      "Security question failed. Account remains locked.\n",
      "Login failed. Please try again later.\n"
     ]
    }
   ],
   "source": [
    "# Simulate a user login system with 3 attempts using a while loop (do-while behavior)\n",
    "\n",
    "correct_username = \"admin\"\n",
    "correct_password = \"password123\"\n",
    "security_answer = \"blue\"  # Security question answer\n",
    "\n",
    "attempts = 3\n",
    "login_successful = False\n",
    "\n",
    "while attempts > 0:\n",
    "    # Prompt for username and password\n",
    "    input_username = input(\"Enter username: \")\n",
    "    input_password = input(\"Enter password: \")\n",
    "\n",
    "    if input_username == correct_username and input_password == correct_password:\n",
    "        print(\"Login successful!\")\n",
    "        login_successful = True\n",
    "        break\n",
    "    else:\n",
    "        attempts -= 1\n",
    "        if attempts > 0:\n",
    "            print(f\"Incorrect login. You have {attempts} attempt(s) left.\")\n",
    "        else:\n",
    "            print(\"Account locked. You have used all attempts.\")\n",
    "            # Prompt for security question to reset the password\n",
    "            answer = input(\"To reset your password, answer the security question: What is your favorite color? \")\n",
    "            if answer.lower() == security_answer.lower():\n",
    "                new_password = input(\"Password reset successful. Please set a new password: \")\n",
    "                correct_password = new_password\n",
    "                print(\"New password set successfully.\")\n",
    "                attempts = 3  # Reset attempts after password reset\n",
    "            else:\n",
    "                print(\"Security question failed. Account remains locked.\")\n",
    "\n",
    "if not login_successful and attempts == 0:\n",
    "    print(\"Login failed. Please try again later.\")\n"
   ]
  },
  {
   "cell_type": "code",
   "execution_count": null,
   "metadata": {},
   "outputs": [],
   "source": [
    "# List of tasks\n",
    "tasks = [\n",
    "    \"Finish homework\",\n",
    "    \"Practice basketball\",\n",
    "    \"Eat dinner\",\n",
    "    \"Watch tv\",\n",
    "    \"Sleep\"\n",
    "]\n",
    "\n",
    "# Function to display tasks with indices\n",
    "def display_tasks():\n",
    "    print(\"Your To-Do List:\")\n",
    "    for index in range(len(tasks)):\n",
    "        print(f\"{index + 1}. {tasks[index]}\")  # Display task with its index\n",
    "\n",
    "# Call the function\n",
    "display_tasks()\n"
   ]
  },
  {
   "cell_type": "code",
   "execution_count": null,
   "metadata": {
    "vscode": {
     "languageId": "javascript"
    }
   },
   "outputs": [],
   "source": [
    "%%js\n",
    "// List of tasks\n",
    "const tasks = [\n",
    "    \"Finish homework\",\n",
    "    \"Practice basketball\",\n",
    "    \"Eat dinner\",\n",
    "    \"Watch tv\",\n",
    "    \"Sleep\"\n",
    "];\n",
    "\n",
    "// Function to display tasks with indices\n",
    "function displayTasks() {\n",
    "    console.log(\"Your To-Do List:\");\n",
    "    for (let index = 0; index < tasks.length; index++) {\n",
    "        console.log(`${index + 1}. ${tasks[index]}`); // Display task with its index\n",
    "    }\n",
    "}\n",
    "\n",
    "// Call the function\n",
    "displayTasks();"
   ]
  },
  {
   "cell_type": "code",
   "execution_count": 7,
   "metadata": {
    "vscode": {
     "languageId": "javascript"
    }
   },
   "outputs": [
    {
     "data": {
      "application/javascript": "\nfor (let i = 2; i < 14; i++) {\n  if (i === 6) {\n    continue; \n  }\n  console.log(i); \n}\n\n//pretty much the same exact thing as the break commands!\n",
      "text/plain": [
       "<IPython.core.display.Javascript object>"
      ]
     },
     "metadata": {},
     "output_type": "display_data"
    }
   ],
   "source": [
    "\n",
    "\n",
    "%%javascript\n",
    "\n",
    "for (let i = 2; i < 14; i++) {\n",
    "  if (i === 6) {\n",
    "    continue; \n",
    "  }\n",
    "  console.log(i); \n",
    "}\n",
    "\n",
    "//pretty much the same exact thing as the break commands!"
   ]
  },
  {
   "cell_type": "code",
   "execution_count": 8,
   "metadata": {},
   "outputs": [
    {
     "name": "stdout",
     "output_type": "stream",
     "text": [
      "1\n",
      "3\n",
      "5\n",
      "7\n",
      "9\n"
     ]
    }
   ],
   "source": [
    "for i in range(1, 10):\n",
    "    if i % 2 == 0:\n",
    "        continue  # Skip the rest of the loop if i is even\n",
    "    print(i)"
   ]
  },
  {
   "cell_type": "code",
   "execution_count": null,
   "metadata": {
    "vscode": {
     "languageId": "javascript"
    }
   },
   "outputs": [],
   "source": [
    "for (let i = 0; i <= 10; i += 2) {\n",
    "    if (i > 8) {\n",
    "        break; // Exit the loop when the number exceeds 8\n",
    "    }\n",
    "    console.log(i);\n",
    "}"
   ]
  },
  {
   "cell_type": "code",
   "execution_count": null,
   "metadata": {},
   "outputs": [],
   "source": [
    "for i in range(1, 10):\n",
    "    if i % 2 == 0:\n",
    "        continue  # Skip even numbers\n",
    "    print(f\"This number is {i}\")\n"
   ]
  }
 ],
 "metadata": {
  "kernelspec": {
   "display_name": "venv",
   "language": "python",
   "name": "python3"
  },
  "language_info": {
   "codemirror_mode": {
    "name": "ipython",
    "version": 3
   },
   "file_extension": ".py",
   "mimetype": "text/x-python",
   "name": "python",
   "nbconvert_exporter": "python",
   "pygments_lexer": "ipython3",
   "version": "3.12.3"
  }
 },
 "nbformat": 4,
 "nbformat_minor": 2
}
