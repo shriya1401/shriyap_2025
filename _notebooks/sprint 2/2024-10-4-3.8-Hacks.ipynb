{
 "cells": [
  {
   "cell_type": "markdown",
   "metadata": {},
   "source": [
    "---\n",
    "layout : post\n",
    "title : Homework and Popcorn Hacks for Lessons 3.8\n",
    "descriptions : All homeworks for Lessons\n",
    "courses : { csp: {week: 1} }\n",
    "comments: true\n",
    "sticky_rank: 1\n",
    "\n",
    "---"
   ]
  },
  {
   "cell_type": "markdown",
   "metadata": {},
   "source": [
    "For Loops: Used when you know how many times you want to repeat something.\n",
    "While Loops: Used when you don't know the number of repeats, but you have a condition to check.\n",
    "Do-While Loops: Like a while loop, but it will run at least once.\n",
    "Index Loops: Used to go through items in an array or list using their position (index).\n",
    "continue: Skips to the next repeat, ignoring the rest of the code in the loop.\n",
    "break: Stops the loop completely and doesn't continue further repeats."
   ]
  },
  {
   "cell_type": "code",
   "execution_count": null,
   "metadata": {
    "vscode": {
     "languageId": "javascript"
    }
   },
   "outputs": [],
   "source": [
    "%%javascript\n",
    "for (let i = 3; i < 7; i++) {\n",
    "    console.log(i);\n",
    "}"
   ]
  },
  {
   "cell_type": "markdown",
   "metadata": {},
   "source": [
    "The loop starts with i = 3. It runs as long as i is less than 7 (i < 7 is the condition). After each iteration, i is incremented by 1 (i++)."
   ]
  },
  {
   "cell_type": "code",
   "execution_count": null,
   "metadata": {
    "vscode": {
     "languageId": "javascript"
    }
   },
   "outputs": [],
   "source": [
    "number = 14\n",
    "\n",
    "while number <=100:\n",
    "    if number % 3 == 0:\n",
    "        print(number)\n",
    "    number += 1"
   ]
  },
  {
   "cell_type": "markdown",
   "metadata": {},
   "source": [
    "The variable number is set to 14, the while loop continues as long as number is less than or equal to 100, inside the loop, it checks if number % 3 == 0 (if the number is divisible by 3). If true, the number is printed. After each round, number is increased by 1."
   ]
  },
  {
   "cell_type": "code",
   "execution_count": null,
   "metadata": {},
   "outputs": [],
   "source": [
    "person = {'name': 'Shriya', 'age': 15}\n",
    "\n",
    "# Looping through keys\n",
    "for key in person:\n",
    "    print(key, person[key])\n",
    "\n",
    "# Looping through values\n",
    "for value in person.values():\n",
    "    print(value)\n",
    "\n",
    "# Looping through keys and values\n",
    "for key, value in person.items():\n",
    "    print(key, value)\n"
   ]
  },
  {
   "cell_type": "markdown",
   "metadata": {},
   "source": [
    "The first loop prints both the keys and their corresponding values. The second loop prints just the values.\n",
    "The third loop prints both keys and values."
   ]
  },
  {
   "cell_type": "code",
   "execution_count": null,
   "metadata": {},
   "outputs": [],
   "source": [
    "import random\n",
    "\n",
    "flip = \"\"\n",
    "\n",
    "while flip != \"heads\":\n",
    "    flip = random.choice([\"heads\", \"tails\"])\n",
    "    print(f\"Flipped: {flip}\")\n",
    "\n",
    "print(\"Landed on heads!\")"
   ]
  },
  {
   "cell_type": "markdown",
   "metadata": {},
   "source": [
    "The loop will continue flipping until it randomly picks \"heads\".\n",
    "Each flip is independently random, so the number of flips required to land on \"heads\" will vary each time the program runs."
   ]
  },
  {
   "cell_type": "code",
   "execution_count": null,
   "metadata": {},
   "outputs": [],
   "source": [
    "# Part 1: FizzBuzz from 1 to 50\n",
    "i = 1\n",
    "while i <= 50:\n",
    "    if i % 3 == 0 and i % 5 == 0:\n",
    "        print(\"FizzBuzz\")\n",
    "    elif i % 3 == 0:\n",
    "        print(\"Fizz\")\n",
    "    elif i % 5 == 0:\n",
    "        print(\"Buzz\")\n",
    "    elif i % 7 == 0:\n",
    "        print(\"Boom\")\n",
    "    else:\n",
    "        print(i)\n",
    "    i += 1\n",
    "\n",
    "# Challenge: FizzBuzz from 50 to 100, but for multiples of 4 and 6\n",
    "print(\"Challenge: Range from 50 to 100 with new rules\")\n",
    "i = 50\n",
    "while i <= 100:\n",
    "    if i % 4 == 0 and i % 6 == 0:\n",
    "        print(\"FizzBuzz\")\n",
    "    elif i % 4 == 0:\n",
    "        print(\"Fizz\")\n",
    "    elif i % 6 == 0:\n",
    "        print(\"Buzz\")\n",
    "    elif i % 7 == 0:\n",
    "        print(\"Boom\")\n",
    "    else:\n",
    "        print(i)\n",
    "    i += 1\n"
   ]
  },
  {
   "cell_type": "markdown",
   "metadata": {},
   "source": [
    "If a number is divisible by both 3 and 5, it prints \"FizzBuzz\". If it's divisible only by 3, it prints \"Fizz\". If it's divisible only by 5, it prints \"Buzz\". If it's divisible by 7, it prints \"Boom\". If none of the above conditions are met, it prints the number itself."
   ]
  },
  {
   "cell_type": "code",
   "execution_count": null,
   "metadata": {},
   "outputs": [],
   "source": [
    "# Simulate a user login system with 3 attempts using a while loop (do-while behavior)\n",
    "\n",
    "correct_username = \"admin\"\n",
    "correct_password = \"password123\"\n",
    "security_answer = \"blue\"  # Security question answer\n",
    "\n",
    "attempts = 3\n",
    "login_successful = False\n",
    "\n",
    "while attempts > 0:\n",
    "    # Prompt for username and password\n",
    "    input_username = input(\"Enter username: \")\n",
    "    input_password = input(\"Enter password: \")\n",
    "\n",
    "    if input_username == correct_username and input_password == correct_password:\n",
    "        print(\"Login successful!\")\n",
    "        login_successful = True\n",
    "        break\n",
    "    else:\n",
    "        attempts -= 1\n",
    "        if attempts > 0:\n",
    "            print(f\"Incorrect login. You have {attempts} attempt(s) left.\")\n",
    "        else:\n",
    "            print(\"Account locked. You have used all attempts.\")\n",
    "            # Prompt for security question to reset the password\n",
    "            answer = input(\"To reset your password, answer the security question: What is your favorite color? \")\n",
    "            if answer.lower() == security_answer.lower():\n",
    "                new_password = input(\"Password reset successful. Please set a new password: \")\n",
    "                correct_password = new_password\n",
    "                print(\"New password set successfully.\")\n",
    "                attempts = 3  # Reset attempts after password reset\n",
    "            else:\n",
    "                print(\"Security question failed. Account remains locked.\")\n",
    "\n",
    "if not login_successful and attempts == 0:\n",
    "    print(\"Login failed. Please try again later.\")\n"
   ]
  },
  {
   "cell_type": "markdown",
   "metadata": {},
   "source": [
    "A user login system with 3 attempts and includes a password reset feature using a security question. The user has three attempts to enter the correct username and password. If the username and password are correct, the login is successful, and the program exits. Each incorrect login reduces the remaining attempts by 1. If the user uses all attempts, the account is locked, unless they answer a security question correctly of 'What is your favorite color?'."
   ]
  },
  {
   "cell_type": "code",
   "execution_count": null,
   "metadata": {},
   "outputs": [],
   "source": [
    "# List of tasks\n",
    "tasks = [\n",
    "    \"Finish homework\",\n",
    "    \"Practice basketball\",\n",
    "    \"Eat dinner\",\n",
    "    \"Watch tv\",\n",
    "    \"Sleep\"\n",
    "]\n",
    "\n",
    "# Function to display tasks with indices\n",
    "def display_tasks():\n",
    "    print(\"Your To-Do List:\")\n",
    "    for index in range(len(tasks)):\n",
    "        print(f\"{index + 1}. {tasks[index]}\")  # Display task with its index\n",
    "\n",
    "# Call the function\n",
    "display_tasks()\n"
   ]
  },
  {
   "cell_type": "markdown",
   "metadata": {},
   "source": [
    "Makes a to-do list of tasks with numbered indices. The display_tasks function iterates through the tasks list and prints each task along with its index."
   ]
  },
  {
   "cell_type": "code",
   "execution_count": null,
   "metadata": {
    "vscode": {
     "languageId": "javascript"
    }
   },
   "outputs": [],
   "source": [
    "%%js\n",
    "// List of tasks\n",
    "const tasks = [\n",
    "    \"Finish homework\",\n",
    "    \"Practice basketball\",\n",
    "    \"Eat dinner\",\n",
    "    \"Watch tv\",\n",
    "    \"Sleep\"\n",
    "];\n",
    "\n",
    "// Function to display tasks with indices\n",
    "function displayTasks() {\n",
    "    console.log(\"Your To-Do List:\");\n",
    "    for (let index = 0; index < tasks.length; index++) {\n",
    "        console.log(`${index + 1}. ${tasks[index]}`); // Display task with its index\n",
    "    }\n",
    "}\n",
    "\n",
    "// Call the function\n",
    "displayTasks();"
   ]
  },
  {
   "cell_type": "markdown",
   "metadata": {},
   "source": [
    "This is a python version of the previous part preforming the same function of : Makes a to-do list of tasks with numbered indices. The display_tasks function iterates through the tasks list and prints each task along with its index."
   ]
  },
  {
   "cell_type": "code",
   "execution_count": 7,
   "metadata": {
    "vscode": {
     "languageId": "javascript"
    }
   },
   "outputs": [
    {
     "data": {
      "application/javascript": "\nfor (let i = 2; i < 14; i++) {\n  if (i === 6) {\n    continue; \n  }\n  console.log(i); \n}\n\n//pretty much the same exact thing as the break commands!\n",
      "text/plain": [
       "<IPython.core.display.Javascript object>"
      ]
     },
     "metadata": {},
     "output_type": "display_data"
    }
   ],
   "source": [
    "\n",
    "\n",
    "%%javascript\n",
    "\n",
    "for (let i = 2; i < 14; i++) {\n",
    "  if (i === 6) {\n",
    "    continue; \n",
    "  }\n",
    "  console.log(i); \n",
    "}\n"
   ]
  },
  {
   "cell_type": "markdown",
   "metadata": {},
   "source": [
    "The loop runs from i = 2 to i = 13, when i equals 6, the continue statement is executed, which skips the current iteration and jumps to the next number without executing console.log(i) for i = 6.\n",
    "For all other values of i, it prints the value to the console."
   ]
  },
  {
   "cell_type": "code",
   "execution_count": null,
   "metadata": {},
   "outputs": [],
   "source": [
    "for i in range(1, 10):\n",
    "    if i % 2 == 0:\n",
    "        continue  # Skip the rest of the loop if i is even\n",
    "    print(i)"
   ]
  },
  {
   "cell_type": "markdown",
   "metadata": {},
   "source": [
    "The loop iterates over numbers from 1 to 9, when the number i is even (i % 2 == 0), the continue statement is triggered, causing the loop to skip the print(i) statement for that iteration, for odd numbers, it prints the value of i."
   ]
  },
  {
   "cell_type": "code",
   "execution_count": null,
   "metadata": {
    "vscode": {
     "languageId": "javascript"
    }
   },
   "outputs": [],
   "source": [
    "for (let i = 0; i <= 10; i += 2) {\n",
    "    if (i > 8) {\n",
    "        break; // Exit the loop when the number exceeds 8\n",
    "    }\n",
    "    console.log(i);\n",
    "}"
   ]
  },
  {
   "cell_type": "markdown",
   "metadata": {},
   "source": [
    "The JavaScript code runs through even numbers from 0 to 10, but it stops when i exceeds 8 due to the break statement. "
   ]
  },
  {
   "cell_type": "code",
   "execution_count": null,
   "metadata": {},
   "outputs": [],
   "source": [
    "for i in range(1, 10):\n",
    "    if i % 2 == 0:\n",
    "        continue  # Skip even numbers\n",
    "    print(f\"This number is {i}\")\n"
   ]
  },
  {
   "cell_type": "markdown",
   "metadata": {},
   "source": [
    "Your Python code iterates through numbers from 1 to 9 and prints only the odd numbers by skipping the even ones using the continue statement. "
   ]
  }
 ],
 "metadata": {
  "kernelspec": {
   "display_name": "venv",
   "language": "python",
   "name": "python3"
  },
  "language_info": {
   "codemirror_mode": {
    "name": "ipython",
    "version": 3
   },
   "file_extension": ".py",
   "mimetype": "text/x-python",
   "name": "python",
   "nbconvert_exporter": "python",
   "pygments_lexer": "ipython3",
   "version": "3.12.3"
  }
 },
 "nbformat": 4,
 "nbformat_minor": 2
}
