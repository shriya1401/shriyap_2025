{
 "cells": [
  {
   "cell_type": "markdown",
   "metadata": {},
   "source": [
    "---\n",
    "layout : post\n",
    "title : Homework and Popcorn Hacks for Lessons 3.1\n",
    "descriptions : All homeworks for Lessons\n",
    "courses : { csp: {week: 1} }\n",
    "comments: true\n",
    "sticky_rank: 1\n",
    "\n",
    "---"
   ]
  },
  {
   "cell_type": "markdown",
   "metadata": {},
   "source": [
    "Defining variables in both python and javascript have a similar procedure other than the fact that for javascript you have to define the variable by using statements such as let and var, while for python you can directly state a value for a variable. "
   ]
  },
  {
   "cell_type": "markdown",
   "metadata": {},
   "source": [
    "Popcorn Hacks"
   ]
  },
  {
   "cell_type": "code",
   "execution_count": 5,
   "metadata": {
    "vscode": {
     "languageId": "javascript"
    }
   },
   "outputs": [
    {
     "data": {
      "application/javascript": "// Create a dictionary (object) in JavaScript with unique values\nvar myDictionary = {\n    1: \"apple\",\n    2: \"banana\",\n    3: \"cherry\"\n};\n\n// Accessing a value\nconsole.log(\"Fruit with key 2:\", myDictionary[2]); // Output: banana\n",
      "text/plain": [
       "<IPython.core.display.Javascript object>"
      ]
     },
     "metadata": {},
     "output_type": "display_data"
    }
   ],
   "source": [
    "%%js\n",
    "// Create a dictionary (object) in JavaScript with unique values\n",
    "var myDictionary = {\n",
    "    1: \"Orange\",\n",
    "    2: \"mango\",\n",
    "    3: \"Strawberry\"\n",
    "};\n",
    "\n",
    "// Accessing a value\n",
    "console.log(\"Fruit with key 2:\", myDictionary[2]); // Output: mango\n"
   ]
  },
  {
   "cell_type": "markdown",
   "metadata": {},
   "source": [
    "\n",
    "3.1 was mainly about what variables and the different types, which is specifically used in my hack with a dictionary containing lists matching keys to values, so in this popcorn hack, the numbers to the fruit values. "
   ]
  },
  {
   "cell_type": "code",
   "execution_count": null,
   "metadata": {},
   "outputs": [],
   "source": [
    "import random\n",
    "import time\n",
    "\n",
    "def play_game():\n",
    "    score = 0\n",
    "    correct_streak = 0\n",
    "    multiplier = 1  # Multiplier for score based on streaks\n",
    "    time_limit = 10  # Base time limit in seconds\n",
    "\n",
    "    # Difficulty levels: Easy, Medium, Hard\n",
    "    print(\"Choose your difficulty level:\")\n",
    "    print(\"1: Easy (numbers between 1-10)\")\n",
    "    print(\"2: Medium (numbers between 1-20)\")\n",
    "    print(\"3: Hard (numbers between 1-50)\")\n",
    "    \n",
    "    while True:\n",
    "        difficulty = input(\"Enter difficulty (1, 2, or 3): \")\n",
    "        if difficulty in ['1', '2', '3']:\n",
    "            break\n",
    "        print(\"Invalid choice. Please select 1, 2, or 3.\")\n",
    "\n",
    "    if difficulty == '1':\n",
    "        num_range = 10\n",
    "    elif difficulty == '2':\n",
    "        num_range = 20\n",
    "    else:\n",
    "        num_range = 50\n",
    "\n",
    "    while True:\n",
    "        # Generate two random numbers based on difficulty level\n",
    "        num1 = random.randint(1, num_range)\n",
    "        num2 = random.randint(1, num_range)\n",
    "\n",
    "        # Randomly choose an operator: +, -, *, /\n",
    "        operator = random.choice(['+', '-', '*', '/'])\n",
    "\n",
    "        # Calculate the correct answer\n",
    "        if operator == '+':\n",
    "            correct_answer = num1 + num2\n",
    "        elif operator == '-':\n",
    "            correct_answer = num1 - num2\n",
    "        elif operator == '*':\n",
    "            correct_answer = num1 * num2\n",
    "        else:  # operator == '/'\n",
    "            if num2 != 0:\n",
    "                correct_answer = round(num1 / num2, 2)  # Rounded to 2 decimal places\n",
    "            else:\n",
    "                continue  # Skip division by zero\n",
    "\n",
    "        # Display the question and start the timer\n",
    "        print(f\"\\nWhat is {num1} {operator} {num2}? (Type 'q' to quit)\")\n",
    "        start_time = time.time()\n",
    "\n",
    "        # Show countdown timer\n",
    "        while True:\n",
    "            remaining_time = time_limit - (time.time() - start_time)\n",
    "            if remaining_time <= 0:\n",
    "                print(f\"\\nTime's up! You exceeded the {time_limit} seconds limit.\")\n",
    "                correct_streak = 0\n",
    "                multiplier = 1\n",
    "                break\n",
    "\n",
    "            print(f\"Time left: {round(remaining_time, 1)}s\", end=\"\\r\")\n",
    "            player_input = input(\"\\nYour answer: \")\n",
    "\n",
    "            # Allow the player to quit by typing 'q'\n",
    "            if player_input.lower() == 'q':\n",
    "                print(f\"\\nGame over! Your final score is: {score}\")\n",
    "                return\n",
    "\n",
    "            try:\n",
    "                if float(player_input) == correct_answer:\n",
    "                    custom_messages = [\"Great job!\", \"You're on fire! 🔥\", \"Keep it up!\", \"Math genius! 🌟\"]\n",
    "                    print(random.choice(custom_messages))\n",
    "                    correct_streak += 1\n",
    "                    if correct_streak % 3 == 0:\n",
    "                        multiplier += 1\n",
    "                        print(f\"Streak bonus! Multiplier now: x{multiplier}\")\n",
    "                    score += (1 * multiplier)\n",
    "                    break\n",
    "                else:\n",
    "                    print(f\"Oops! The correct answer was {correct_answer}.\")\n",
    "                    correct_streak = 0\n",
    "                    multiplier = 1\n",
    "                    break\n",
    "            except ValueError:\n",
    "                print(\"Please enter a valid number or 'q' to quit.\")\n",
    "    \n",
    "    # End of game, display final score\n",
    "    print(f\"\\nGame over! Your final score is: {score}\")\n",
    "\n",
    "# Start the game\n",
    "play_game()\n"
   ]
  },
  {
   "cell_type": "markdown",
   "metadata": {},
   "source": [
    "\n",
    "This next popcorn hack is a math quiz, which I not only incorporated the different variables taught in this lesson but also added loops. In my code one example of when I used variables is score as I set the value to 0. In this code that represents that initially the score starts at zero, but by using mathemtical expressions such as, correct_answer = num1 + num2, the score will gradually increase based on how many the user gets correct. \n"
   ]
  },
  {
   "cell_type": "code",
   "execution_count": null,
   "metadata": {
    "vscode": {
     "languageId": "javascript"
    }
   },
   "outputs": [],
   "source": [
    "// Temperature Converter in JavaScript\n",
    "let temperature = parseFloat(prompt(\"Enter the temperature:\"));\n",
    "let conversionType = prompt(\"Convert to (C)elsius or (F)ahrenheit?\").toUpperCase();\n",
    "\n",
    "if (conversionType === \"C\") {\n",
    "    // Convert Fahrenheit to Celsius\n",
    "    let celsius = (temperature - 32) * (5 / 9);\n",
    "    console.log(`${temperature}°F is equal to ${celsius.toFixed(2)}°C`);\n",
    "} else if (conversionType === \"F\") {\n",
    "    // Convert Celsius to Fahrenheit\n",
    "    let fahrenheit = (temperature * (9 / 5)) + 32;\n",
    "    console.log(`${temperature}°C is equal to ${fahrenheit.toFixed(2)}°F`);\n",
    "} else {\n",
    "    console.log(\"Invalid conversion type entered.\");\n",
    "}\n"
   ]
  },
  {
   "cell_type": "markdown",
   "metadata": {},
   "source": [
    "\n",
    "I used many coding concepts in this popcorn hack such as variables, which is shown in the code like 'let termperature' which stores the users temerature they inputed. I also used conditional statements such as if/ elif/else to check if the user chose to convert to Celsius or Farenheit, depending on that it will change its conversion. I also used mathematical operations such as toFixed as it ensures that the result of the temperature is displayed with two decimal places. \n"
   ]
  },
  {
   "cell_type": "code",
   "execution_count": null,
   "metadata": {},
   "outputs": [],
   "source": [
    "# Unique Temperature Converter in Python\n",
    "\n",
    "# Function to convert temperatures\n",
    "def temperature_converter():\n",
    "    try:\n",
    "        # Prompt the user for the temperature with a detailed message\n",
    "        temperature = float(input(\"🌡️ Enter the temperature value you'd like to convert: \"))\n",
    "        \n",
    "        # Ask the user for the conversion type with better clarity\n",
    "        conversion_type = input(\"🔄 Would you like to convert to (C)elsius or (F)ahrenheit? \").strip().upper()\n",
    "\n",
    "        if conversion_type == \"C\":\n",
    "            # Convert Fahrenheit to Celsius\n",
    "            celsius = (temperature - 32) * (5 / 9)\n",
    "            print(f\"✅ Success! {temperature}°F is equal to {celsius:.2f}°C.\")\n",
    "            \n",
    "            # Check for extreme temperatures\n",
    "            if celsius < -273.15:\n",
    "                print(\"⚠️ Warning: This temperature is below absolute zero!\")\n",
    "\n",
    "        elif conversion_type == \"F\":\n",
    "            # Convert Celsius to Fahrenheit\n",
    "            fahrenheit = (temperature * (9 / 5)) + 32\n",
    "            print(f\"✅ Success! {temperature}°C is equal to {fahrenheit:.2f}°F.\")\n",
    "            \n",
    "            # Warn for unrealistically high or low temperatures\n",
    "            if fahrenheit > 1000:\n",
    "                print(\"⚠️ Caution: This seems like an extremely high temperature!\")\n",
    "            elif fahrenheit < -459.67:\n",
    "                print(\"⚠️ Warning: This temperature is below absolute zero!\")\n",
    "\n",
    "        else:\n",
    "            print(\"❌ Error: Invalid conversion type entered. Please enter 'C' for Celsius or 'F' for Fahrenheit.\")\n",
    "\n",
    "    except ValueError:\n",
    "        print(\"❌ Error: Invalid input. Please enter a numeric temperature value.\")\n",
    "\n",
    "# Call the temperature converter function\n",
    "temperature_converter()\n"
   ]
  },
  {
   "cell_type": "markdown",
   "metadata": {},
   "source": [
    "\n",
    "This is the last popcorn hack for 3.1 which allows users to convert temperatures from Celcius and Farenheit. I used if/elif/else statements so the system can decide on converting to Farenheit or Celsius. In this case if the user chooses 'C' then the system will convert the degrees from farenheit to celsius, vice versa for choosing 'F'. I also included a warning system to ensure that the users are typing in the corrent temperature, such as if the user were to have entered a degree above 1000, then it would print saying it was an exteremly high temperature, which is shown using an if statement like the following : '\n",
    "if fahrenheit > 1000:\n",
    "                print(\"⚠️ Caution: This seems like an extremely high temperature!\")'\n",
    "But overall the program works by first asking the user the temperature and how they would want to convert it. Based on that the system uses the mathematical expressions I coded to convert the degrees, unless the user provides an unrealistic degree amount. \n"
   ]
  },
  {
   "cell_type": "markdown",
   "metadata": {},
   "source": [
    "Homework Hacks"
   ]
  },
  {
   "cell_type": "code",
   "execution_count": null,
   "metadata": {},
   "outputs": [],
   "source": [
    "# Initialize an empty shopping list and total cost\n",
    "shopping_list = []\n",
    "total_cost = 0.0\n",
    "\n",
    "# Step 2: User Input for Shopping List\n",
    "print(\"Welcome to your Shopping List! 🎉\")\n",
    "print(\"You can add items to your shopping list. Type 'done' when you are finished.\\n\")\n",
    "\n",
    "while True:\n",
    "    # Get the name of the item\n",
    "    item_name = input(\"Enter the name of the item (or type 'done' to finish): \").strip()\n",
    "    \n",
    "    # Check if the user wants to finish\n",
    "    if item_name.lower() == 'done':\n",
    "        break\n",
    "    \n",
    "    # Get the price of the item\n",
    "    try:\n",
    "        item_price = float(input(f\"Enter the price of {item_name}: $\"))\n",
    "    except ValueError:\n",
    "        print(\"Invalid input. Please enter a numeric value for the price.\")\n",
    "        continue  # Skip this iteration if price is invalid\n",
    "    \n",
    "    # Add the item and its price to the shopping list\n",
    "    shopping_list.append((item_name, item_price))\n",
    "    \n",
    "    # Update the total cost\n",
    "    total_cost += item_price\n",
    "    print(f\"Added {item_name} for ${item_price:.2f}.\\n\")\n",
    "\n",
    "# Step 3: Display the shopping list and total cost\n",
    "print(\"\\nYour Shopping List:\")\n",
    "for item, price in shopping_list:\n",
    "    print(f\"- {item}: ${price:.2f}\")\n",
    "\n",
    "print(f\"\\nTotal Cost: ${total_cost:.2f}\")\n"
   ]
  },
  {
   "cell_type": "markdown",
   "metadata": {},
   "source": [
    "\n",
    "    This Python program is a shopping list, in which users can input items and their corresponding prices. \n",
    "    The system then calculates and displays the total cost of the items. \n",
    "\n",
    "    I set the initial value of the <code>shopping_list</code> variable as <code>[]</code>, as that is the \n",
    "    beginning of their list when they haven't added anything yet. After the user inputs values, the value of \n",
    "    the variable will gradually increase. \n",
    "\n",
    "    I also used conditionals such as <code>if item_name.lower() == 'done':</code>, which represents that when \n",
    "    the user is finished with their shopping list, they will enter 'done', which stops the calculation of the \n",
    "    prices of products. \n",
    "\n",
    "    I used a while loop in this homework hack as well, to continuously prompt the user to add their \n",
    "    grocery items until they finish.\n"
   ]
  },
  {
   "cell_type": "code",
   "execution_count": null,
   "metadata": {
    "vscode": {
     "languageId": "javascript"
    }
   },
   "outputs": [],
   "source": [
    "// Step 1: Initialize Conversion Rates\n",
    "const conversionRates = {\n",
    "    cupsToTablespoons: 16,\n",
    "    cupsToTeaspoons: 48,\n",
    "    tablespoonsToTeaspoons: 3,\n",
    "};\n",
    "\n",
    "// Function to convert the quantity based on the unit\n",
    "function convertIngredient(quantity, unit, toUnit) {\n",
    "    let convertedQuantity;\n",
    "\n",
    "    if (unit === \"cups\") {\n",
    "        if (toUnit === \"tablespoons\") {\n",
    "            convertedQuantity = quantity * conversionRates.cupsToTablespoons;\n",
    "        } else if (toUnit === \"teaspoons\") {\n",
    "            convertedQuantity = quantity * conversionRates.cupsToTeaspoons;\n",
    "        }\n",
    "    } else if (unit === \"tablespoons\") {\n",
    "        if (toUnit === \"cups\") {\n",
    "            convertedQuantity = quantity / conversionRates.cupsToTablespoons;\n",
    "        } else if (toUnit === \"teaspoons\") {\n",
    "            convertedQuantity = quantity * conversionRates.tablespoonsToTeaspoons;\n",
    "        }\n",
    "    } else if (unit === \"teaspoons\") {\n",
    "        if (toUnit === \"cups\") {\n",
    "            convertedQuantity = quantity / conversionRates.cupsToTeaspoons;\n",
    "        } else if (toUnit === \"tablespoons\") {\n",
    "            convertedQuantity = quantity / conversionRates.tablespoonsToTeaspoons;\n",
    "        }\n",
    "    }\n",
    "\n",
    "    return convertedQuantity;\n",
    "}\n",
    "\n",
    "// Step 2: Input for Ingredients\n",
    "console.log(\"Welcome to the Recipe Ingredient Converter! 🎉\");\n",
    "let ingredients = [];\n",
    "\n",
    "while (true) {\n",
    "    let ingredientName = prompt(\"Enter the name of the ingredient (or type 'done' to finish):\");\n",
    "\n",
    "    if (ingredientName.toLowerCase() === \"done\") {\n",
    "        break; // Exit the loop if the user is done\n",
    "    }\n",
    "\n",
    "    let quantity = parseFloat(prompt(`Enter the quantity of ${ingredientName}:`));\n",
    "    let currentUnit = prompt(\"Enter the current unit (cups, tablespoons, teaspoons):\").toLowerCase();\n",
    "    let desiredUnit = prompt(\"Enter the desired unit to convert to (cups, tablespoons, teaspoons):\").toLowerCase();\n",
    "\n",
    "    // Perform the conversion\n",
    "    let convertedQuantity = convertIngredient(quantity, currentUnit, desiredUnit);\n",
    "\n",
    "    // Step 4: Display the Converted Results\n",
    "    if (convertedQuantity !== undefined) {\n",
    "        console.log(`${quantity} ${currentUnit} of ${ingredientName} is equal to ${convertedQuantity.toFixed(2)} ${desiredUnit}.`);\n",
    "    } else {\n",
    "        console.log(\"Invalid unit conversion. Please check your inputs.\");\n",
    "    }\n",
    "\n",
    "    // Store ingredient data\n",
    "    ingredients.push({\n",
    "        name: ingredientName,\n",
    "        quantity: quantity,\n",
    "        currentUnit: currentUnit,\n",
    "        convertedQuantity: convertedQuantity,\n",
    "        desiredUnit: desiredUnit\n",
    "    });\n",
    "}\n",
    "\n",
    "// Display all converted results at once\n",
    "console.log(\"\\nConverted Ingredients Summary:\");\n",
    "ingredients.forEach(ingredient => {\n",
    "    console.log(`${ingredient.quantity} ${ingredient.currentUnit} of ${ingredient.name} is equal to ${ingredient.convertedQuantity?.toFixed(2) || 'N/A'} ${ingredient.desiredUnit}.`);\n",
    "});\n"
   ]
  },
  {
   "cell_type": "markdown",
   "metadata": {},
   "source": [
    "\n",
    "This second homework hack is a recipe ingrediant converter allowing the user to input ingredients with their quantities in one unit, ex : cups or tablespoons, and then convert them to another unit, ex : teaspoons. First, I set up a dictionary (conversionRates), then stored the values of conversions inside of them, with variables, 'cupsToTeaspoons: 48'. Then I used the convertingrediant function which takes the quantity, current unit, and wanted unit as input and performs the conversion based on the conversion rates given. They continously will get prompted by entering their ingrediants until they enter stop as shown 'while (true) {\n",
    "    let ingredientName = prompt(\"Enter the name of the ingredient (or type 'done' to finish):\");\n",
    "\n",
    "    if (ingredientName.toLowerCase() === \"done\") {\n",
    "        break; // Exit the loop if the user is done\n",
    "    } }'\n",
    "Then after the user enters done a summary of all the ingrediants will appear in the console,\n",
    " 'console.log(\"\\nConverted Ingredients Summary:\");\n",
    "ingredients.forEach(ingredient => {\n",
    "    console.log(`${ingredient.quantity} ${ingredient.currentUnit} of ${ingredient.name} is equal to ${ingredient.convertedQuantity?.toFixed(2) || 'N/A'} ${ingredient.desiredUnit}.`);\n",
    "});'"
   ]
  }
 ],
 "metadata": {
  "kernelspec": {
   "display_name": "venv",
   "language": "python",
   "name": "python3"
  },
  "language_info": {
   "codemirror_mode": {
    "name": "ipython",
    "version": 3
   },
   "file_extension": ".py",
   "mimetype": "text/x-python",
   "name": "python",
   "nbconvert_exporter": "python",
   "pygments_lexer": "ipython3",
   "version": "3.12.3"
  }
 },
 "nbformat": 4,
 "nbformat_minor": 2
}
