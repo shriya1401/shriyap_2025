{
 "cells": [
  {
   "cell_type": "markdown",
   "metadata": {},
   "source": [
    "---\n",
    "layout : post\n",
    "title : Homework and Popcorn Hacks for Lessons 3.2\n",
    "descriptions : All homeworks for Lessons\n",
    "courses : { csp: {week: 1} }\n",
    "comments: true\n",
    "sticky_rank: 1\n",
    "\n",
    "---"
   ]
  },
  {
   "cell_type": "markdown",
   "metadata": {},
   "source": [
    "Popcorn Hacks"
   ]
  },
  {
   "cell_type": "code",
   "execution_count": 3,
   "metadata": {},
   "outputs": [
    {
     "name": "stdout",
     "output_type": "stream",
     "text": [
      "Key 1: Bananas\n",
      "Key 2: Apples\n",
      "Key 3: Pears\n"
     ]
    }
   ],
   "source": [
    "# Step 1: Create a dictionary to map fruit names to numbers\n",
    "fruit_dict = {\n",
    "    1: \"Bananas\",\n",
    "    2: \"Apples\",\n",
    "    3: \"Pears\"\n",
    "}\n",
    "\n",
    "# Step 2: Access and print the values using their corresponding keys\n",
    "for key in fruit_dict:\n",
    "    print(f\"Key {key}: {fruit_dict[key]}\")\n"
   ]
  },
  {
   "cell_type": "code",
   "execution_count": 6,
   "metadata": {
    "vscode": {
     "languageId": "javascript"
    }
   },
   "outputs": [
    {
     "data": {
      "application/javascript": "function calculator() {\n    // Prompt user for the first number\n    const firstNumber = parseFloat(prompt(\"Enter the first number:\"));\n    \n    // Prompt user for the second number\n    const secondNumber = parseFloat(prompt(\"Enter the second number:\"));\n    \n    // Prompt user for the operation\n    const operation = prompt(\"Enter the operation (+, -, *, /):\");\n\n    let result;\n\n    // Perform the calculation based on the operation\n    switch (operation) {\n        case '+':\n            result = firstNumber + secondNumber;\n            break;\n        case '-':\n            result = firstNumber - secondNumber;\n            break;\n        case '*':\n            result = firstNumber * secondNumber;\n            break;\n        case '/':\n            // Check for division by zero\n            if (secondNumber === 0) {\n                result = \"Error: Division by zero!\";\n            } else {\n                result = firstNumber / secondNumber;\n            }\n            break;\n        default:\n            result = \"Invalid operation. Please use +, -, *, or /.\";\n    }\n\n    // Display the result\n    console.log(`Result: ${result}`);\n}\n\n// Call the calculator function\ncalculator();\n",
      "text/plain": [
       "<IPython.core.display.Javascript object>"
      ]
     },
     "metadata": {},
     "output_type": "display_data"
    }
   ],
   "source": [
    "\n",
    "%%js\n",
    "function calculator() {\n",
    "    // Prompt user for the first number\n",
    "    const firstNumber = parseFloat(prompt(\"Enter the first number:\"));\n",
    "    \n",
    "    // Prompt user for the second number\n",
    "    const secondNumber = parseFloat(prompt(\"Enter the second number:\"));\n",
    "    \n",
    "    // Prompt user for the operation\n",
    "    const operation = prompt(\"Enter the operation (+, -, *, /):\");\n",
    "\n",
    "    let result;\n",
    "\n",
    "    // Perform the calculation based on the operation\n",
    "    switch (operation) {\n",
    "        case '+':\n",
    "            result = firstNumber + secondNumber;\n",
    "            break;\n",
    "        case '-':\n",
    "            result = firstNumber - secondNumber;\n",
    "            break;\n",
    "        case '*':\n",
    "            result = firstNumber * secondNumber;\n",
    "            break;\n",
    "        case '/':\n",
    "            // Check for division by zero\n",
    "            if (secondNumber === 0) {\n",
    "                result = \"Error: Division by zero!\";\n",
    "            } else {\n",
    "                result = firstNumber / secondNumber;\n",
    "            }\n",
    "            break;\n",
    "        default:\n",
    "            result = \"Invalid operation. Please use +, -, *, or /.\";\n",
    "    }\n",
    "\n",
    "    // Display the result\n",
    "    console.log(`Result: ${result}`);\n",
    "}\n",
    "\n",
    "// Call the calculator function\n",
    "calculator();\n"
   ]
  },
  {
   "cell_type": "code",
   "execution_count": null,
   "metadata": {},
   "outputs": [],
   "source": [
    "# Simple Calculator in Python\n",
    "\n",
    "def get_number(prompt):\n",
    "    while True:\n",
    "        try:\n",
    "            # Prompt user for a number and convert it to float\n",
    "            return float(input(prompt))\n",
    "        except ValueError:\n",
    "            print(\"Invalid input. Please enter a numeric value.\")\n",
    "\n",
    "def calculator():\n",
    "    # Get the first number with validation\n",
    "    first_number = get_number(\"Enter the first number: \")\n",
    "    \n",
    "    # Get the second number with validation\n",
    "    second_number = get_number(\"Enter the second number: \")\n",
    "    \n",
    "    # Prompt user for the operation\n",
    "    operation = input(\"Enter the operation (+, -, *, /): \")\n",
    "\n",
    "    # Perform the calculation based on the operation\n",
    "    if operation == '+':\n",
    "        result = first_number + second_number\n",
    "    elif operation == '-':\n",
    "        result = first_number - second_number\n",
    "    elif operation == '*':\n",
    "        result = first_number * second_number\n",
    "    elif operation == '/':\n",
    "        # Check for division by zero\n",
    "        if second_number == 0:\n",
    "            result = \"Error: Division by zero!\"\n",
    "        else:\n",
    "            result = first_number / second_number\n",
    "    else:\n",
    "        result = \"Invalid operation. Please use +, -, *, or /.\"\n",
    "\n",
    "    # Display the result\n",
    "    print(f\"Result: {result}\")\n",
    "\n",
    "# Call the calculator function\n",
    "calculator()\n"
   ]
  },
  {
   "cell_type": "code",
   "execution_count": null,
   "metadata": {},
   "outputs": [],
   "source": [
    "def repeat_strings(strings, n):\n",
    "    \"\"\"\n",
    "    Repeat each string in the list n times.\n",
    "\n",
    "    Parameters:\n",
    "    strings (list of str): The list of strings to be repeated.\n",
    "    n (int): The number of times to repeat each string.\n",
    "\n",
    "    Returns:\n",
    "    list of str: A new list with each string repeated n times.\n",
    "    \"\"\"\n",
    "    # Using list comprehension to create the new list\n",
    "    return [s * n for s in strings]\n",
    "\n",
    "# Example usage\n",
    "original_list = [\"apple\", \"banana\", \"cherry\"]\n",
    "n = 3\n",
    "result = repeat_strings(original_list, n)\n",
    "print(result)\n"
   ]
  },
  {
   "cell_type": "code",
   "execution_count": null,
   "metadata": {},
   "outputs": [],
   "source": [
    "def compare_sets(set1, set2):\n",
    "    \"\"\"\n",
    "    Compare two sets and check if there is a value in set2 that exists in set1.\n",
    "\n",
    "    Parameters:\n",
    "    set1 (set): The first set to compare.\n",
    "    set2 (set): The second set to compare.\n",
    "\n",
    "    Returns:\n",
    "    bool: True if any element in set2 is in set1, otherwise False.\n",
    "    \"\"\"\n",
    "    # Check for intersection between the two sets\n",
    "    return any(element in set1 for element in set2)\n",
    "\n",
    "# Example usage\n",
    "set1 = {1, 2, 3, 4, 5}\n",
    "set2 = {4, 5, 6, 7, 8}\n",
    "\n",
    "result = compare_sets(set1, set2)\n",
    "print(result)  # Output: True\n",
    "\n",
    "set3 = {6, 7, 8}\n",
    "result2 = compare_sets(set1, set3)\n",
    "print(result2)  # Output: False\n"
   ]
  },
  {
   "cell_type": "markdown",
   "metadata": {},
   "source": [
    "Homework hacks"
   ]
  },
  {
   "cell_type": "code",
   "execution_count": null,
   "metadata": {},
   "outputs": [],
   "source": [
    "# Create variables\n",
    "name = \"Shriya\"\n",
    "age = 15\n",
    "city = \"San Diego\"\n",
    "favorite_color = \"pink\"\n",
    "\n",
    "# Create the profile dictionary\n",
    "profile = {\n",
    "    \"name\": name,\n",
    "    \"age\": age,\n",
    "    \"city\": city,\n",
    "    \"favorite_color\": favorite_color\n",
    "}\n",
    "\n",
    "# Print the profile dictionary\n",
    "print(profile)\n"
   ]
  },
  {
   "cell_type": "code",
   "execution_count": null,
   "metadata": {},
   "outputs": [],
   "source": [
    "# Create a list of hobbies\n",
    "hobbies = [\"Hanging out with friends\", \"basketball\", \"Cyber Security\"]\n",
    "\n",
    "# Print the hobbies list\n",
    "print(hobbies)\n"
   ]
  },
  {
   "cell_type": "code",
   "execution_count": 11,
   "metadata": {},
   "outputs": [
    {
     "name": "stdout",
     "output_type": "stream",
     "text": [
      "Is basketball available today? True\n"
     ]
    }
   ],
   "source": [
    "# Choose a hobby from the hobbies list\n",
    "chosen_hobby = \"basketball\"  # Example hobby\n",
    "\n",
    "# Set the availability of the hobby\n",
    "has_hobby = True  # Change to False if the hobby is not available today\n",
    "\n",
    "# Print the message\n",
    "print(f\"Is {chosen_hobby} available today? {has_hobby}\")\n"
   ]
  },
  {
   "cell_type": "code",
   "execution_count": null,
   "metadata": {},
   "outputs": [],
   "source": [
    "# Create a list of hobbies\n",
    "hobbies = [\"Hanging out with friends\", \"basketball\", \"Cyber Security\"]\n",
    "\n",
    "# Calculate the total number of hobbies\n",
    "total_hobbies = len(hobbies)\n",
    "\n",
    "# Print the message\n",
    "print(f\"I have {total_hobbies} hobbies.\")\n"
   ]
  },
  {
   "cell_type": "code",
   "execution_count": null,
   "metadata": {},
   "outputs": [],
   "source": [
    "# Create a tuple of favorite hobbies\n",
    "favorite_hobbies = (\"basketball\", \"hanging out with friends\", \"Cyber Security\")\n",
    "\n",
    "# Print the favorite_hobbies tuple\n",
    "print(favorite_hobbies)\n"
   ]
  },
  {
   "cell_type": "code",
   "execution_count": null,
   "metadata": {},
   "outputs": [],
   "source": [
    "# Create a set of skills\n",
    "skills = {\"Sympathetic\", \"problem-solving\", \"reliability\"}\n",
    "\n",
    "# Print the set of skills\n",
    "print(skills)\n"
   ]
  },
  {
   "cell_type": "code",
   "execution_count": null,
   "metadata": {},
   "outputs": [],
   "source": [
    "# Create a variable for the new skill and set it to None\n",
    "new_skill = None\n",
    "\n",
    "# Print the value of new_skill\n",
    "print(new_skill)"
   ]
  },
  {
   "cell_type": "code",
   "execution_count": null,
   "metadata": {},
   "outputs": [],
   "source": [
    "# Define the costs\n",
    "hobby_cost = 5.0  # Cost per hobby\n",
    "skill_cost = 10.0  # Cost per skill\n",
    "\n",
    "# Calculate the number of hobbies and skills\n",
    "total_hobbies = 3  # Example number of hobbies\n",
    "total_skills = 3   # Example number of skills\n",
    "\n",
    "# Calculate the total cost\n",
    "total_cost = (total_hobbies * hobby_cost) + (total_skills * skill_cost)\n",
    "\n",
    "# Print the total cost\n",
    "print(f\"The total cost to develop all hobbies and skills is: ${total_cost:.2f}\")\n"
   ]
  },
  {
   "cell_type": "markdown",
   "metadata": {},
   "source": [
    "Java Script Bonus"
   ]
  },
  {
   "cell_type": "code",
   "execution_count": null,
   "metadata": {
    "vscode": {
     "languageId": "javascript"
    }
   },
   "outputs": [],
   "source": [
    "public class Profile {\n",
    "    public static void main(String[] args) {\n",
    "        // Create variables\n",
    "        String name = \"Shriya\";\n",
    "        int age = 15;\n",
    "        String city = \"San Diego\";\n",
    "        String favoriteColor = \"pink\";\n",
    "\n",
    "        // Create the profile as a simple string representation\n",
    "        String profile = \"Profile Information:\\n\" +\n",
    "                         \"Name: \" + name + \"\\n\" +\n",
    "                         \"Age: \" + age + \"\\n\" +\n",
    "                         \"City: \" + city + \"\\n\" +\n",
    "                         \"Favorite Color: \" + favoriteColor;\n",
    "\n",
    "        // Print the profile information\n",
    "        System.out.println(profile);\n",
    "    }\n",
    "}\n"
   ]
  },
  {
   "cell_type": "code",
   "execution_count": null,
   "metadata": {
    "vscode": {
     "languageId": "javascript"
    }
   },
   "outputs": [],
   "source": [
    "import java.util.ArrayList;\n",
    "\n",
    "public class ProfilePart2 {\n",
    "    public static void main(String[] args) {\n",
    "        // Create a list called \"hobbies\"\n",
    "        ArrayList<String> hobbies = new ArrayList<>();\n",
    "        \n",
    "        // Add hobbies to the list\n",
    "        hobbies.add(\"Hanging out with friends\");\n",
    "        hobbies.add(\"Basketball\");\n",
    "        hobbies.add(\"Cyber Security\");\n",
    "        \n",
    "        // Print the hobbies list\n",
    "        System.out.println(\"Hobbies: \" + hobbies);\n",
    "    }\n",
    "}\n"
   ]
  },
  {
   "cell_type": "code",
   "execution_count": null,
   "metadata": {
    "vscode": {
     "languageId": "javascript"
    }
   },
   "outputs": [],
   "source": [
    "import java.util.ArrayList;\n",
    "import java.util.HashMap;\n",
    "\n",
    "public class ProfilePart3 {\n",
    "    public static void main(String[] args) {\n",
    "        // Create profile and hobbies\n",
    "        HashMap<String, Object> profile = new HashMap<>();\n",
    "        ArrayList<String> hobbies = new ArrayList<>();\n",
    "        hobbies.add(\"Hanging out with friends\");\n",
    "        hobbies.add(\"Basketball\");\n",
    "        hobbies.add(\"Cyber Security\");\n",
    "        \n",
    "        // Add hobbies to the profile dictionary\n",
    "        profile.put(\"hobbies\", hobbies);\n",
    "        \n",
    "        // Print the updated profile dictionary\n",
    "        System.out.println(\"Updated Profile: \" + profile);\n",
    "    }\n",
    "}\n"
   ]
  },
  {
   "cell_type": "code",
   "execution_count": null,
   "metadata": {
    "vscode": {
     "languageId": "javascript"
    }
   },
   "outputs": [],
   "source": [
    "public class ProfilePart4 {\n",
    "    public static void main(String[] args) {\n",
    "        // Choose a hobby\n",
    "        String chosenHobby = \"Basketball\";\n",
    "        \n",
    "        // Check availability\n",
    "        boolean hasHobby = true; // Set to true or false based on availability\n",
    "        \n",
    "        // Print the message\n",
    "        System.out.println(\"Is \" + chosenHobby + \" available today? \" + hasHobby);\n",
    "    }\n",
    "}\n"
   ]
  },
  {
   "cell_type": "code",
   "execution_count": null,
   "metadata": {
    "vscode": {
     "languageId": "javascript"
    }
   },
   "outputs": [],
   "source": [
    "import java.util.ArrayList;\n",
    "\n",
    "public class ProfilePart5 {\n",
    "    public static void main(String[] args) {\n",
    "        // Create a list of hobbies\n",
    "        ArrayList<String> hobbies = new ArrayList<>();\n",
    "        hobbies.add(\"Hanging out with friends\");\n",
    "        hobbies.add(\"Basketball\");\n",
    "        hobbies.add(\"Cyber Security \");\n",
    "        \n",
    "        // Calculate total number of hobbies\n",
    "        int totalHobbies = hobbies.size();\n",
    "        \n",
    "        // Print the message\n",
    "        System.out.println(\"I have \" + totalHobbies + \" hobbies.\");\n",
    "    }\n",
    "}\n"
   ]
  },
  {
   "cell_type": "code",
   "execution_count": null,
   "metadata": {
    "vscode": {
     "languageId": "javascript"
    }
   },
   "outputs": [],
   "source": [
    "public class ProfilePart6 {\n",
    "    public static void main(String[] args) {\n",
    "        // Create a tuple (array) for favorite hobbies\n",
    "        String[] favoriteHobbies = {\"Basketball\", \"Cyber Security\"};\n",
    "        \n",
    "        // Print the favorite hobbies tuple\n",
    "        System.out.print(\"Favorite Hobbies: \");\n",
    "        for (String hobby : favoriteHobbies) {\n",
    "            System.out.print(hobby + \" \");\n",
    "        }\n",
    "    }\n",
    "}\n"
   ]
  },
  {
   "cell_type": "code",
   "execution_count": null,
   "metadata": {
    "vscode": {
     "languageId": "javascript"
    }
   },
   "outputs": [],
   "source": [
    "import java.util.HashSet;\n",
    "\n",
    "public class ProfilePart7 {\n",
    "    public static void main(String[] args) {\n",
    "        // Create a set for skills\n",
    "        HashSet<String> skills = new HashSet<>();\n",
    "        skills.add(\"Cyber Security\");\n",
    "        skills.add(\"Communication\");\n",
    "        skills.add(\"Teamwork\");\n",
    "        \n",
    "        // Print the skills set\n",
    "        System.out.println(\"Skills: \" + skills);\n",
    "    }\n",
    "}\n"
   ]
  },
  {
   "cell_type": "code",
   "execution_count": null,
   "metadata": {
    "vscode": {
     "languageId": "javascript"
    }
   },
   "outputs": [],
   "source": [
    "public class ProfilePart8 {\n",
    "    public static void main(String[] args) {\n",
    "        // Create a variable for new skill\n",
    "        String newSkill = null; // Not decided yet\n",
    "        \n",
    "        // Print the value of newSkill\n",
    "        System.out.println(\"New Skill: \" + newSkill);\n",
    "    }\n",
    "}\n"
   ]
  },
  {
   "cell_type": "code",
   "execution_count": null,
   "metadata": {
    "vscode": {
     "languageId": "javascript"
    }
   },
   "outputs": [],
   "source": [
    "public class ProfilePart9 {\n",
    "    public static void main(String[] args) {\n",
    "        // Assume costs\n",
    "        float hobbyCost = 5.0f; // Cost per hobby\n",
    "        float skillCost = 10.0f; // Cost per skill\n",
    "        \n",
    "        // Number of hobbies and skills\n",
    "        int totalHobbies = 3; // Replace with actual count\n",
    "        int totalSkills = 3; // Replace with actual count\n",
    "        \n",
    "        // Calculate total cost\n",
    "        float totalCost = (totalHobbies * hobbyCost) + (totalSkills * skillCost);\n",
    "        \n",
    "        // Print the total cost\n",
    "        System.out.println(\"Total Profile Cost: $\" + totalCost);\n",
    "    }\n",
    "}\n"
   ]
  }
 ],
 "metadata": {
  "kernelspec": {
   "display_name": "venv",
   "language": "python",
   "name": "python3"
  },
  "language_info": {
   "codemirror_mode": {
    "name": "ipython",
    "version": 3
   },
   "file_extension": ".py",
   "mimetype": "text/x-python",
   "name": "python",
   "nbconvert_exporter": "python",
   "pygments_lexer": "ipython3",
   "version": "3.12.3"
  }
 },
 "nbformat": 4,
 "nbformat_minor": 2
}
