{
 "cells": [
  {
   "cell_type": "markdown",
   "metadata": {},
   "source": [
    "---\n",
    "layout : post\n",
    "title : Homework and Popcorn Hacks for Lessons 3.2\n",
    "descriptions : All homeworks for Lessons\n",
    "courses : { csp: {week: 1} }\n",
    "comments: true\n",
    "sticky_rank: 1\n",
    "\n",
    "---"
   ]
  },
  {
   "cell_type": "markdown",
   "metadata": {},
   "source": [
    "Popcorn Hacks"
   ]
  },
  {
   "cell_type": "code",
   "execution_count": null,
   "metadata": {},
   "outputs": [],
   "source": [
    "# Step 1: Create a dictionary to map fruit names to numbers\n",
    "fruit_dict = {\n",
    "    1: \"Bananas\",\n",
    "    2: \"Apples\",\n",
    "    3: \"Pears\"\n",
    "}\n",
    "\n",
    "# Step 2: Access and print the values using their corresponding keys\n",
    "for key in fruit_dict:\n",
    "    print(f\"Key {key}: {fruit_dict[key]}\")\n"
   ]
  },
  {
   "cell_type": "markdown",
   "metadata": {},
   "source": [
    "This code involves integers as dictionary keys and strings as values, so the integers being the numbers representing the strings (1,2,3), and the strings representing the fruits (Bananas, Apples, Pears). The system goes through the dictionary which I named as 'fruit_dict' and prints the fruits corresponding with their number. "
   ]
  },
  {
   "cell_type": "code",
   "execution_count": 6,
   "metadata": {
    "vscode": {
     "languageId": "javascript"
    }
   },
   "outputs": [
    {
     "data": {
      "application/javascript": "function calculator() {\n    // Prompt user for the first number\n    const firstNumber = parseFloat(prompt(\"Enter the first number:\"));\n    \n    // Prompt user for the second number\n    const secondNumber = parseFloat(prompt(\"Enter the second number:\"));\n    \n    // Prompt user for the operation\n    const operation = prompt(\"Enter the operation (+, -, *, /):\");\n\n    let result;\n\n    // Perform the calculation based on the operation\n    switch (operation) {\n        case '+':\n            result = firstNumber + secondNumber;\n            break;\n        case '-':\n            result = firstNumber - secondNumber;\n            break;\n        case '*':\n            result = firstNumber * secondNumber;\n            break;\n        case '/':\n            // Check for division by zero\n            if (secondNumber === 0) {\n                result = \"Error: Division by zero!\";\n            } else {\n                result = firstNumber / secondNumber;\n            }\n            break;\n        default:\n            result = \"Invalid operation. Please use +, -, *, or /.\";\n    }\n\n    // Display the result\n    console.log(`Result: ${result}`);\n}\n\n// Call the calculator function\ncalculator();\n",
      "text/plain": [
       "<IPython.core.display.Javascript object>"
      ]
     },
     "metadata": {},
     "output_type": "display_data"
    }
   ],
   "source": [
    "\n",
    "%%js\n",
    "function calculator() {\n",
    "    // Prompt user for the first number\n",
    "    const firstNumber = parseFloat(prompt(\"Enter the first number:\"));\n",
    "    \n",
    "    // Prompt user for the second number\n",
    "    const secondNumber = parseFloat(prompt(\"Enter the second number:\"));\n",
    "    \n",
    "    // Prompt user for the operation\n",
    "    const operation = prompt(\"Enter the operation (+, -, *, /):\");\n",
    "\n",
    "    let result;\n",
    "\n",
    "    // Perform the calculation based on the operation\n",
    "    switch (operation) {\n",
    "        case '+':\n",
    "            result = firstNumber + secondNumber;\n",
    "            break;\n",
    "        case '-':\n",
    "            result = firstNumber - secondNumber;\n",
    "            break;\n",
    "        case '*':\n",
    "            result = firstNumber * secondNumber;\n",
    "            break;\n",
    "        case '/':\n",
    "            // Check for division by zero\n",
    "            if (secondNumber === 0) {\n",
    "                result = \"Error: Division by zero!\";\n",
    "            } else {\n",
    "                result = firstNumber / secondNumber;\n",
    "            }\n",
    "            break;\n",
    "        default:\n",
    "            result = \"Invalid operation. Please use +, -, *, or /.\";\n",
    "    }\n",
    "\n",
    "    // Display the result\n",
    "    console.log(`Result: ${result}`);\n",
    "}\n",
    "\n",
    "// Call the calculator function\n",
    "calculator();\n"
   ]
  },
  {
   "cell_type": "markdown",
   "metadata": {},
   "source": [
    "  A calculator in Java script where users can input two numbers and select a mathematical operation to perform on them. The system then calculates and displays the result based on the operation chosen. I used the prompt() function to gather the users input for the two numbers and the desired operation. The input from the user is converted into a float variable used by this command parseFloat(), to have more accurate answers. I also used the switch command to switch between different operators like addition and subtraction.\n"
   ]
  },
  {
   "cell_type": "code",
   "execution_count": null,
   "metadata": {},
   "outputs": [],
   "source": [
    "# Simple Calculator in Python\n",
    "\n",
    "def get_number(prompt):\n",
    "    while True:\n",
    "        try:\n",
    "            # Prompt user for a number and convert it to float\n",
    "            return float(input(prompt))\n",
    "        except ValueError:\n",
    "            print(\"Invalid input. Please enter a numeric value.\")\n",
    "\n",
    "def calculator():\n",
    "    # Get the first number with validation\n",
    "    first_number = get_number(\"Enter the first number: \")\n",
    "    \n",
    "    # Get the second number with validation\n",
    "    second_number = get_number(\"Enter the second number: \")\n",
    "    \n",
    "    # Prompt user for the operation\n",
    "    operation = input(\"Enter the operation (+, -, *, /): \")\n",
    "\n",
    "    # Perform the calculation based on the operation\n",
    "    if operation == '+':\n",
    "        result = first_number + second_number\n",
    "    elif operation == '-':\n",
    "        result = first_number - second_number\n",
    "    elif operation == '*':\n",
    "        result = first_number * second_number\n",
    "    elif operation == '/':\n",
    "        # Check for division by zero\n",
    "        if second_number == 0:\n",
    "            result = \"Error: Division by zero!\"\n",
    "        else:\n",
    "            result = first_number / second_number\n",
    "    else:\n",
    "        result = \"Invalid operation. Please use +, -, *, or /.\"\n",
    "\n",
    "    # Display the result\n",
    "    print(f\"Result: {result}\")\n",
    "\n",
    "# Call the calculator function\n",
    "calculator()\n"
   ]
  },
  {
   "cell_type": "markdown",
   "metadata": {},
   "source": [
    " A calculator in python where users can input two numbers and select a mathematical operation to perform on them. The system then calculates and displays the result based on the operation chosen. I used the get_number() function to gather the users input for the two numbers and the desired operation, and make sure they entered a valid numeric value. I also used the switch command to switch between different operators like addition and subtraction. Based on the chosen operation, it performs the corresponding arithmetic calculation."
   ]
  },
  {
   "cell_type": "markdown",
   "metadata": {},
   "source": []
  },
  {
   "cell_type": "code",
   "execution_count": null,
   "metadata": {},
   "outputs": [],
   "source": [
    "def repeat_strings(strings, n):\n",
    "    \"\"\"\n",
    "    Repeat each string in the list n times.\n",
    "\n",
    "    Parameters:\n",
    "    strings (list of str): The list of strings to be repeated.\n",
    "    n (int): The number of times to repeat each string.\n",
    "\n",
    "    Returns:\n",
    "    list of str: A new list with each string repeated n times.\n",
    "    \"\"\"\n",
    "    # Using list comprehension to create the new list\n",
    "    return [s * n for s in strings]\n",
    "\n",
    "# Example usage\n",
    "original_list = [\"apple\", \"banana\", \"cherry\"]\n",
    "n = 3\n",
    "result = repeat_strings(original_list, n)\n",
    "print(result)\n"
   ]
  },
  {
   "cell_type": "markdown",
   "metadata": {},
   "source": [
    " Repeats each string in a list a specified number of times and returns a new list with the repeated strings. This function, repeat_strings(strings, n), takes 2 values the string and an integer saying how many times it should be repeated, For exampe in the code I put : original_list = [\"apple\", \"banana\", \"cherry\"], n = 3; This shows the list of strings and how many times they get repeated, so in this case apple would be appleappleapple. "
   ]
  },
  {
   "cell_type": "code",
   "execution_count": null,
   "metadata": {},
   "outputs": [],
   "source": [
    "def compare_sets(set1, set2):\n",
    "    \"\"\"\n",
    "    Compare two sets and check if there is a value in set2 that exists in set1.\n",
    "\n",
    "    Parameters:\n",
    "    set1 (set): The first set to compare.\n",
    "    set2 (set): The second set to compare.\n",
    "\n",
    "    Returns:\n",
    "    bool: True if any element in set2 is in set1, otherwise False.\n",
    "    \"\"\"\n",
    "    # Check for intersection between the two sets\n",
    "    return any(element in set1 for element in set2)\n",
    "\n",
    "# Example usage\n",
    "set1 = {1, 2, 3, 4, 5}\n",
    "set2 = {4, 5, 6, 7, 8}\n",
    "\n",
    "result = compare_sets(set1, set2)\n",
    "print(result)  # Output: True\n",
    "\n",
    "set3 = {6, 7, 8}\n",
    "result2 = compare_sets(set1, set3)\n",
    "print(result2)  # Output: False\n"
   ]
  },
  {
   "cell_type": "markdown",
   "metadata": {},
   "source": [
    "This Python program compares two sets and checks if any element in the second set (set2) exists in the first set (set1). It returns True if there is at least one common element between the two sets and False otherwise, return any(element in set1 for element in set2), checks for any similarities between the 2 number sets. In set1 and set 2 there is a common number between 4 and 5, so it would output true.  "
   ]
  },
  {
   "cell_type": "markdown",
   "metadata": {},
   "source": [
    "Homework hacks"
   ]
  },
  {
   "cell_type": "code",
   "execution_count": null,
   "metadata": {},
   "outputs": [],
   "source": [
    "# Create variables\n",
    "name = \"Shriya\"\n",
    "age = 15\n",
    "city = \"San Diego\"\n",
    "favorite_color = \"pink\"\n",
    "\n",
    "# Create the profile dictionary\n",
    "profile = {\n",
    "    \"name\": name,\n",
    "    \"age\": age,\n",
    "    \"city\": city,\n",
    "    \"favorite_color\": favorite_color\n",
    "}\n",
    "\n",
    "# Print the profile dictionary\n",
    "print(profile)\n"
   ]
  },
  {
   "cell_type": "markdown",
   "metadata": {},
   "source": [
    "This Python program creates a user profile, with information about me using variables to store information like my name, age, city, and favorite color, and then stores this information in a dictionary by using a dictionary named profile, and storing the values inside. The dictionary is printed to display the profile data."
   ]
  },
  {
   "cell_type": "code",
   "execution_count": null,
   "metadata": {},
   "outputs": [],
   "source": [
    "# Create a list of hobbies\n",
    "hobbies = [\"Hanging out with friends\", \"basketball\", \"Cyber Security\"]\n",
    "\n",
    "# Print the hobbies list\n",
    "print(hobbies)\n"
   ]
  },
  {
   "cell_type": "markdown",
   "metadata": {},
   "source": [
    "This was a pretty simple hack, I just set a variable caled hobbies, and set a value to it such as hanging out with friends, then used a print statement to print the value of hobbies. "
   ]
  },
  {
   "cell_type": "code",
   "execution_count": null,
   "metadata": {},
   "outputs": [],
   "source": [
    "# Choose a hobby from the hobbies list\n",
    "chosen_hobby = \"basketball\"  # Example hobby\n",
    "\n",
    "# Set the availability of the hobby\n",
    "has_hobby = True\n",
    "\n",
    "# Print the message\n",
    "print(f\"Is {chosen_hobby} available today? {has_hobby}\")\n"
   ]
  },
  {
   "cell_type": "markdown",
   "metadata": {},
   "source": [
    "This Python program selects a hobby from a list and checks whether it is available on a particular day. It then prints a message indicating whether the hobby is available based on a Boolean value."
   ]
  },
  {
   "cell_type": "code",
   "execution_count": null,
   "metadata": {},
   "outputs": [],
   "source": [
    "# Create a list of hobbies\n",
    "hobbies = [\"Hanging out with friends\", \"basketball\", \"Cyber Security\"]\n",
    "\n",
    "# Calculate the total number of hobbies\n",
    "total_hobbies = len(hobbies)\n",
    "\n",
    "# Print the message\n",
    "print(f\"I have {total_hobbies} hobbies.\")\n"
   ]
  },
  {
   "cell_type": "markdown",
   "metadata": {},
   "source": [
    "This Python program creates a list of hobbies, calculates how many hobbies are in the list, and prints a message displaying the total number of hobbies."
   ]
  },
  {
   "cell_type": "code",
   "execution_count": null,
   "metadata": {},
   "outputs": [],
   "source": [
    "# Create a tuple of favorite hobbies\n",
    "favorite_hobbies = (\"basketball\", \"hanging out with friends\", \"Cyber Security\")\n",
    "\n",
    "# Print the favorite_hobbies tuple\n",
    "print(favorite_hobbies)\n"
   ]
  },
  {
   "cell_type": "markdown",
   "metadata": {},
   "source": [
    "Using a variable of favorite_hobbies I set a value of my favorite hobbies then used the print statement to print the value of the variable. "
   ]
  },
  {
   "cell_type": "code",
   "execution_count": null,
   "metadata": {},
   "outputs": [],
   "source": [
    "# Create a set of skills\n",
    "skills = {\"Sympathetic\", \"problem-solving\", \"reliability\"}\n",
    "\n",
    "# Print the set of skills\n",
    "print(skills)\n"
   ]
  },
  {
   "cell_type": "markdown",
   "metadata": {},
   "source": [
    "The variable skills is a set containing skills, and I used the print statement to print out these skills. "
   ]
  },
  {
   "cell_type": "code",
   "execution_count": null,
   "metadata": {},
   "outputs": [],
   "source": [
    "# Create a variable for the new skill and set it to None\n",
    "new_skill = None\n",
    "\n",
    "# Print the value of new_skill\n",
    "print(new_skill)"
   ]
  },
  {
   "cell_type": "markdown",
   "metadata": {},
   "source": [
    "This Python program creates a variable for a new skill and sets its value to None, then prints the value of that variable."
   ]
  },
  {
   "cell_type": "code",
   "execution_count": null,
   "metadata": {},
   "outputs": [],
   "source": [
    "# Define the costs\n",
    "hobby_cost = 5.0  # Cost per hobby\n",
    "skill_cost = 10.0  # Cost per skill\n",
    "\n",
    "# Calculate the number of hobbies and skills\n",
    "total_hobbies = 3  # Example number of hobbies\n",
    "total_skills = 3   # Example number of skills\n",
    "\n",
    "# Calculate the total cost\n",
    "total_cost = (total_hobbies * hobby_cost) + (total_skills * skill_cost)\n",
    "\n",
    "# Print the total cost\n",
    "print(f\"The total cost to develop all hobbies and skills is: ${total_cost:.2f}\")\n"
   ]
  },
  {
   "cell_type": "markdown",
   "metadata": {},
   "source": [
    "This program calculates the total cost of developing hobbies and skills by multiplying the number of each with their respective costs. It then prints the total, formatted to two decimal places for better readability, showing the final expense."
   ]
  }
 ],
 "metadata": {
  "kernelspec": {
   "display_name": "venv",
   "language": "python",
   "name": "python3"
  },
  "language_info": {
   "codemirror_mode": {
    "name": "ipython",
    "version": 3
   },
   "file_extension": ".py",
   "mimetype": "text/x-python",
   "name": "python",
   "nbconvert_exporter": "python",
   "pygments_lexer": "ipython3",
   "version": "3.12.3"
  }
 },
 "nbformat": 4,
 "nbformat_minor": 2
}
